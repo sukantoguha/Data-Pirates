{
 "cells": [
  {
   "cell_type": "markdown",
   "metadata": {},
   "source": [
    "# Prediction Model for Flights"
   ]
  },
  {
   "cell_type": "code",
   "execution_count": 1,
   "metadata": {},
   "outputs": [
    {
     "name": "stderr",
     "output_type": "stream",
     "text": [
      "C:\\Users\\AB\\Anaconda3\\lib\\site-packages\\statsmodels\\tools\\_testing.py:19: FutureWarning: pandas.util.testing is deprecated. Use the functions in the public API at pandas.testing instead.\n",
      "  import pandas.util.testing as tm\n"
     ]
    }
   ],
   "source": [
    "import matplotlib.pyplot as plt \n",
    "%matplotlib inline \n",
    "import numpy as np \n",
    "from sklearn.decomposition import PCA \n",
    "from sklearn.model_selection import ShuffleSplit, train_test_split \n",
    "from sklearn import metrics \n",
    "from sklearn.linear_model import LinearRegression \n",
    "from sklearn.ensemble import GradientBoostingRegressor \n",
    "import pandas as pd \n",
    "import requests \n",
    "import seaborn as sns"
   ]
  },
  {
   "cell_type": "code",
   "execution_count": 2,
   "metadata": {},
   "outputs": [],
   "source": [
    "df=pd.read_csv('FlightDelays.csv',low_memory=False)"
   ]
  },
  {
   "cell_type": "code",
   "execution_count": 4,
   "metadata": {
    "scrolled": true
   },
   "outputs": [
    {
     "name": "stdout",
     "output_type": "stream",
     "text": [
      "<class 'pandas.core.frame.DataFrame'>\n",
      "RangeIndex: 10915495 entries, 0 to 10915494\n",
      "Data columns (total 50 columns):\n",
      " #   Column               Dtype  \n",
      "---  ------               -----  \n",
      " 0   YEAR                 int64  \n",
      " 1   QUARTER              int64  \n",
      " 2   MONTH                int64  \n",
      " 3   DAY_OF_MONTH         int64  \n",
      " 4   DAY_OF_WEEK          int64  \n",
      " 5   FL_DATE              object \n",
      " 6   CARRIER              object \n",
      " 7   FL_NUM               int64  \n",
      " 8   Route                int64  \n",
      " 9   ORIGIN               object \n",
      " 10  DEST                 object \n",
      " 11  DEST_CITY            object \n",
      " 12  DEST_STATE           object \n",
      " 13  CRS_DEP_TIME         int64  \n",
      " 14  DEP_TIME             float64\n",
      " 15  DEP_DELAY            float64\n",
      " 16  DEP_DELAY_NEW        float64\n",
      " 17  DEP_DEL15            float64\n",
      " 18  DEP_DELAY_GROUP      float64\n",
      " 19  DEP_TIME_BLK         object \n",
      " 20  TAXI_OUT             float64\n",
      " 21  WHEELS_OFF           float64\n",
      " 22  WHEELS_ON            float64\n",
      " 23  TAXI_IN              float64\n",
      " 24  CRS_ARR_TIME         int64  \n",
      " 25  ARR_TIME             float64\n",
      " 26  ARR_DELAY            float64\n",
      " 27  ARR_DELAY_NEW        float64\n",
      " 28  ARR_DEL15            float64\n",
      " 29  ARR_DELAY_GROUP      float64\n",
      " 30  ARR_TIME_BLK         object \n",
      " 31  CANCELED             int64  \n",
      " 32  CANCELLATION_CODE    object \n",
      " 33  DIVERTED             int64  \n",
      " 34  CRS_ELAPSED_TIME     float64\n",
      " 35  ACTUAL_ELAPSED_TIME  float64\n",
      " 36  AIR_TIME             float64\n",
      " 37  DISTANCE             int64  \n",
      " 38  CARRIER_DELAY        float64\n",
      " 39  WEATHER_DELAY        float64\n",
      " 40  NAS_DELAY            float64\n",
      " 41  SECURITY_DELAY       float64\n",
      " 42  LATE_AIRCRAFT_DELAY  float64\n",
      " 43  PASSENGERS           float64\n",
      " 44  EMPFULL              float64\n",
      " 45  EMPPART              float64\n",
      " 46  EMPTOTAL             float64\n",
      " 47  EMPFTE               float64\n",
      " 48  NET_INCOME           float64\n",
      " 49  OP_REVENUES          float64\n",
      "dtypes: float64(29), int64(12), object(9)\n",
      "memory usage: 4.1+ GB\n"
     ]
    }
   ],
   "source": [
    "df.info()"
   ]
  },
  {
   "cell_type": "code",
   "execution_count": 3,
   "metadata": {},
   "outputs": [
    {
     "data": {
      "text/html": [
       "<div>\n",
       "<style scoped>\n",
       "    .dataframe tbody tr th:only-of-type {\n",
       "        vertical-align: middle;\n",
       "    }\n",
       "\n",
       "    .dataframe tbody tr th {\n",
       "        vertical-align: top;\n",
       "    }\n",
       "\n",
       "    .dataframe thead th {\n",
       "        text-align: right;\n",
       "    }\n",
       "</style>\n",
       "<table border=\"1\" class=\"dataframe\">\n",
       "  <thead>\n",
       "    <tr style=\"text-align: right;\">\n",
       "      <th></th>\n",
       "      <th>YEAR</th>\n",
       "      <th>QUARTER</th>\n",
       "      <th>MONTH</th>\n",
       "      <th>DAY_OF_MONTH</th>\n",
       "      <th>DAY_OF_WEEK</th>\n",
       "      <th>FL_DATE</th>\n",
       "      <th>CARRIER</th>\n",
       "      <th>FL_NUM</th>\n",
       "      <th>Route</th>\n",
       "      <th>ORIGIN</th>\n",
       "      <th>...</th>\n",
       "      <th>NAS_DELAY</th>\n",
       "      <th>SECURITY_DELAY</th>\n",
       "      <th>LATE_AIRCRAFT_DELAY</th>\n",
       "      <th>PASSENGERS</th>\n",
       "      <th>EMPFULL</th>\n",
       "      <th>EMPPART</th>\n",
       "      <th>EMPTOTAL</th>\n",
       "      <th>EMPFTE</th>\n",
       "      <th>NET_INCOME</th>\n",
       "      <th>OP_REVENUES</th>\n",
       "    </tr>\n",
       "  </thead>\n",
       "  <tbody>\n",
       "    <tr>\n",
       "      <th>0</th>\n",
       "      <td>2018</td>\n",
       "      <td>1</td>\n",
       "      <td>1</td>\n",
       "      <td>1</td>\n",
       "      <td>1</td>\n",
       "      <td>2018-01-01</td>\n",
       "      <td>9E</td>\n",
       "      <td>3331</td>\n",
       "      <td>42</td>\n",
       "      <td>ABY</td>\n",
       "      <td>...</td>\n",
       "      <td>NaN</td>\n",
       "      <td>NaN</td>\n",
       "      <td>NaN</td>\n",
       "      <td>2677.0</td>\n",
       "      <td>4191.0</td>\n",
       "      <td>109.0</td>\n",
       "      <td>4300.0</td>\n",
       "      <td>4246.0</td>\n",
       "      <td>-126.37</td>\n",
       "      <td>674.25</td>\n",
       "    </tr>\n",
       "    <tr>\n",
       "      <th>1</th>\n",
       "      <td>2018</td>\n",
       "      <td>1</td>\n",
       "      <td>1</td>\n",
       "      <td>1</td>\n",
       "      <td>1</td>\n",
       "      <td>2018-01-01</td>\n",
       "      <td>9E</td>\n",
       "      <td>3940</td>\n",
       "      <td>42</td>\n",
       "      <td>ABY</td>\n",
       "      <td>...</td>\n",
       "      <td>NaN</td>\n",
       "      <td>NaN</td>\n",
       "      <td>NaN</td>\n",
       "      <td>2677.0</td>\n",
       "      <td>4191.0</td>\n",
       "      <td>109.0</td>\n",
       "      <td>4300.0</td>\n",
       "      <td>4246.0</td>\n",
       "      <td>-126.37</td>\n",
       "      <td>674.25</td>\n",
       "    </tr>\n",
       "    <tr>\n",
       "      <th>2</th>\n",
       "      <td>2018</td>\n",
       "      <td>1</td>\n",
       "      <td>1</td>\n",
       "      <td>2</td>\n",
       "      <td>2</td>\n",
       "      <td>2018-01-02</td>\n",
       "      <td>9E</td>\n",
       "      <td>3409</td>\n",
       "      <td>42</td>\n",
       "      <td>ABY</td>\n",
       "      <td>...</td>\n",
       "      <td>NaN</td>\n",
       "      <td>NaN</td>\n",
       "      <td>NaN</td>\n",
       "      <td>2677.0</td>\n",
       "      <td>4191.0</td>\n",
       "      <td>109.0</td>\n",
       "      <td>4300.0</td>\n",
       "      <td>4246.0</td>\n",
       "      <td>-126.37</td>\n",
       "      <td>674.25</td>\n",
       "    </tr>\n",
       "    <tr>\n",
       "      <th>3</th>\n",
       "      <td>2018</td>\n",
       "      <td>1</td>\n",
       "      <td>1</td>\n",
       "      <td>2</td>\n",
       "      <td>2</td>\n",
       "      <td>2018-01-02</td>\n",
       "      <td>9E</td>\n",
       "      <td>3940</td>\n",
       "      <td>42</td>\n",
       "      <td>ABY</td>\n",
       "      <td>...</td>\n",
       "      <td>NaN</td>\n",
       "      <td>NaN</td>\n",
       "      <td>NaN</td>\n",
       "      <td>2677.0</td>\n",
       "      <td>4191.0</td>\n",
       "      <td>109.0</td>\n",
       "      <td>4300.0</td>\n",
       "      <td>4246.0</td>\n",
       "      <td>-126.37</td>\n",
       "      <td>674.25</td>\n",
       "    </tr>\n",
       "    <tr>\n",
       "      <th>4</th>\n",
       "      <td>2018</td>\n",
       "      <td>1</td>\n",
       "      <td>1</td>\n",
       "      <td>3</td>\n",
       "      <td>3</td>\n",
       "      <td>2018-01-03</td>\n",
       "      <td>9E</td>\n",
       "      <td>3353</td>\n",
       "      <td>42</td>\n",
       "      <td>ABY</td>\n",
       "      <td>...</td>\n",
       "      <td>NaN</td>\n",
       "      <td>NaN</td>\n",
       "      <td>NaN</td>\n",
       "      <td>2677.0</td>\n",
       "      <td>4191.0</td>\n",
       "      <td>109.0</td>\n",
       "      <td>4300.0</td>\n",
       "      <td>4246.0</td>\n",
       "      <td>-126.37</td>\n",
       "      <td>674.25</td>\n",
       "    </tr>\n",
       "    <tr>\n",
       "      <th>...</th>\n",
       "      <td>...</td>\n",
       "      <td>...</td>\n",
       "      <td>...</td>\n",
       "      <td>...</td>\n",
       "      <td>...</td>\n",
       "      <td>...</td>\n",
       "      <td>...</td>\n",
       "      <td>...</td>\n",
       "      <td>...</td>\n",
       "      <td>...</td>\n",
       "      <td>...</td>\n",
       "      <td>...</td>\n",
       "      <td>...</td>\n",
       "      <td>...</td>\n",
       "      <td>...</td>\n",
       "      <td>...</td>\n",
       "      <td>...</td>\n",
       "      <td>...</td>\n",
       "      <td>...</td>\n",
       "      <td>...</td>\n",
       "      <td>...</td>\n",
       "    </tr>\n",
       "    <tr>\n",
       "      <th>10915490</th>\n",
       "      <td>2019</td>\n",
       "      <td>2</td>\n",
       "      <td>6</td>\n",
       "      <td>27</td>\n",
       "      <td>4</td>\n",
       "      <td>2019-06-27</td>\n",
       "      <td>YX</td>\n",
       "      <td>4478</td>\n",
       "      <td>6671</td>\n",
       "      <td>XNA</td>\n",
       "      <td>...</td>\n",
       "      <td>NaN</td>\n",
       "      <td>NaN</td>\n",
       "      <td>NaN</td>\n",
       "      <td>3026.0</td>\n",
       "      <td>5831.0</td>\n",
       "      <td>311.0</td>\n",
       "      <td>6142.0</td>\n",
       "      <td>5987.0</td>\n",
       "      <td>21462.49</td>\n",
       "      <td>332085.52</td>\n",
       "    </tr>\n",
       "    <tr>\n",
       "      <th>10915491</th>\n",
       "      <td>2019</td>\n",
       "      <td>2</td>\n",
       "      <td>6</td>\n",
       "      <td>28</td>\n",
       "      <td>5</td>\n",
       "      <td>2019-06-28</td>\n",
       "      <td>YX</td>\n",
       "      <td>4506</td>\n",
       "      <td>6671</td>\n",
       "      <td>XNA</td>\n",
       "      <td>...</td>\n",
       "      <td>NaN</td>\n",
       "      <td>NaN</td>\n",
       "      <td>NaN</td>\n",
       "      <td>3026.0</td>\n",
       "      <td>5831.0</td>\n",
       "      <td>311.0</td>\n",
       "      <td>6142.0</td>\n",
       "      <td>5987.0</td>\n",
       "      <td>21462.49</td>\n",
       "      <td>332085.52</td>\n",
       "    </tr>\n",
       "    <tr>\n",
       "      <th>10915492</th>\n",
       "      <td>2019</td>\n",
       "      <td>2</td>\n",
       "      <td>6</td>\n",
       "      <td>28</td>\n",
       "      <td>5</td>\n",
       "      <td>2019-06-28</td>\n",
       "      <td>YX</td>\n",
       "      <td>4478</td>\n",
       "      <td>6671</td>\n",
       "      <td>XNA</td>\n",
       "      <td>...</td>\n",
       "      <td>NaN</td>\n",
       "      <td>NaN</td>\n",
       "      <td>NaN</td>\n",
       "      <td>3026.0</td>\n",
       "      <td>5831.0</td>\n",
       "      <td>311.0</td>\n",
       "      <td>6142.0</td>\n",
       "      <td>5987.0</td>\n",
       "      <td>21462.49</td>\n",
       "      <td>332085.52</td>\n",
       "    </tr>\n",
       "    <tr>\n",
       "      <th>10915493</th>\n",
       "      <td>2019</td>\n",
       "      <td>2</td>\n",
       "      <td>6</td>\n",
       "      <td>30</td>\n",
       "      <td>7</td>\n",
       "      <td>2019-06-30</td>\n",
       "      <td>YX</td>\n",
       "      <td>4506</td>\n",
       "      <td>6671</td>\n",
       "      <td>XNA</td>\n",
       "      <td>...</td>\n",
       "      <td>NaN</td>\n",
       "      <td>NaN</td>\n",
       "      <td>NaN</td>\n",
       "      <td>3026.0</td>\n",
       "      <td>5831.0</td>\n",
       "      <td>311.0</td>\n",
       "      <td>6142.0</td>\n",
       "      <td>5987.0</td>\n",
       "      <td>21462.49</td>\n",
       "      <td>332085.52</td>\n",
       "    </tr>\n",
       "    <tr>\n",
       "      <th>10915494</th>\n",
       "      <td>2019</td>\n",
       "      <td>2</td>\n",
       "      <td>6</td>\n",
       "      <td>30</td>\n",
       "      <td>7</td>\n",
       "      <td>2019-06-30</td>\n",
       "      <td>YX</td>\n",
       "      <td>4478</td>\n",
       "      <td>6671</td>\n",
       "      <td>XNA</td>\n",
       "      <td>...</td>\n",
       "      <td>0.0</td>\n",
       "      <td>0.0</td>\n",
       "      <td>0.0</td>\n",
       "      <td>3026.0</td>\n",
       "      <td>5831.0</td>\n",
       "      <td>311.0</td>\n",
       "      <td>6142.0</td>\n",
       "      <td>5987.0</td>\n",
       "      <td>21462.49</td>\n",
       "      <td>332085.52</td>\n",
       "    </tr>\n",
       "  </tbody>\n",
       "</table>\n",
       "<p>10915495 rows × 50 columns</p>\n",
       "</div>"
      ],
      "text/plain": [
       "          YEAR  QUARTER  MONTH  DAY_OF_MONTH  DAY_OF_WEEK     FL_DATE CARRIER  \\\n",
       "0         2018        1      1             1            1  2018-01-01      9E   \n",
       "1         2018        1      1             1            1  2018-01-01      9E   \n",
       "2         2018        1      1             2            2  2018-01-02      9E   \n",
       "3         2018        1      1             2            2  2018-01-02      9E   \n",
       "4         2018        1      1             3            3  2018-01-03      9E   \n",
       "...        ...      ...    ...           ...          ...         ...     ...   \n",
       "10915490  2019        2      6            27            4  2019-06-27      YX   \n",
       "10915491  2019        2      6            28            5  2019-06-28      YX   \n",
       "10915492  2019        2      6            28            5  2019-06-28      YX   \n",
       "10915493  2019        2      6            30            7  2019-06-30      YX   \n",
       "10915494  2019        2      6            30            7  2019-06-30      YX   \n",
       "\n",
       "          FL_NUM  Route ORIGIN  ... NAS_DELAY SECURITY_DELAY  \\\n",
       "0           3331     42    ABY  ...       NaN            NaN   \n",
       "1           3940     42    ABY  ...       NaN            NaN   \n",
       "2           3409     42    ABY  ...       NaN            NaN   \n",
       "3           3940     42    ABY  ...       NaN            NaN   \n",
       "4           3353     42    ABY  ...       NaN            NaN   \n",
       "...          ...    ...    ...  ...       ...            ...   \n",
       "10915490    4478   6671    XNA  ...       NaN            NaN   \n",
       "10915491    4506   6671    XNA  ...       NaN            NaN   \n",
       "10915492    4478   6671    XNA  ...       NaN            NaN   \n",
       "10915493    4506   6671    XNA  ...       NaN            NaN   \n",
       "10915494    4478   6671    XNA  ...       0.0            0.0   \n",
       "\n",
       "         LATE_AIRCRAFT_DELAY  PASSENGERS  EMPFULL  EMPPART  EMPTOTAL  EMPFTE  \\\n",
       "0                        NaN      2677.0   4191.0    109.0    4300.0  4246.0   \n",
       "1                        NaN      2677.0   4191.0    109.0    4300.0  4246.0   \n",
       "2                        NaN      2677.0   4191.0    109.0    4300.0  4246.0   \n",
       "3                        NaN      2677.0   4191.0    109.0    4300.0  4246.0   \n",
       "4                        NaN      2677.0   4191.0    109.0    4300.0  4246.0   \n",
       "...                      ...         ...      ...      ...       ...     ...   \n",
       "10915490                 NaN      3026.0   5831.0    311.0    6142.0  5987.0   \n",
       "10915491                 NaN      3026.0   5831.0    311.0    6142.0  5987.0   \n",
       "10915492                 NaN      3026.0   5831.0    311.0    6142.0  5987.0   \n",
       "10915493                 NaN      3026.0   5831.0    311.0    6142.0  5987.0   \n",
       "10915494                 0.0      3026.0   5831.0    311.0    6142.0  5987.0   \n",
       "\n",
       "          NET_INCOME OP_REVENUES  \n",
       "0            -126.37      674.25  \n",
       "1            -126.37      674.25  \n",
       "2            -126.37      674.25  \n",
       "3            -126.37      674.25  \n",
       "4            -126.37      674.25  \n",
       "...              ...         ...  \n",
       "10915490    21462.49   332085.52  \n",
       "10915491    21462.49   332085.52  \n",
       "10915492    21462.49   332085.52  \n",
       "10915493    21462.49   332085.52  \n",
       "10915494    21462.49   332085.52  \n",
       "\n",
       "[10915495 rows x 50 columns]"
      ]
     },
     "execution_count": 3,
     "metadata": {},
     "output_type": "execute_result"
    }
   ],
   "source": [
    "df"
   ]
  },
  {
   "cell_type": "code",
   "execution_count": 4,
   "metadata": {},
   "outputs": [
    {
     "data": {
      "text/plain": [
       "YEAR                          0\n",
       "QUARTER                       0\n",
       "MONTH                         0\n",
       "DAY_OF_MONTH                  0\n",
       "DAY_OF_WEEK                   0\n",
       "FL_DATE                       0\n",
       "CARRIER                       0\n",
       "FL_NUM                        0\n",
       "Route                         0\n",
       "ORIGIN                        0\n",
       "DEST                          0\n",
       "DEST_CITY                     0\n",
       "DEST_STATE                    0\n",
       "CRS_DEP_TIME                  0\n",
       "DEP_TIME                 195282\n",
       "DEP_DELAY                200219\n",
       "DEP_DELAY_NEW            200219\n",
       "DEP_DEL15                200219\n",
       "DEP_DELAY_GROUP          200219\n",
       "DEP_TIME_BLK                  0\n",
       "TAXI_OUT                 200782\n",
       "WHEELS_OFF               200781\n",
       "WHEELS_ON                206390\n",
       "TAXI_IN                  206390\n",
       "CRS_ARR_TIME                  0\n",
       "ARR_TIME                 206389\n",
       "ARR_DELAY                232638\n",
       "ARR_DELAY_NEW            232638\n",
       "ARR_DEL15                232638\n",
       "ARR_DELAY_GROUP          232638\n",
       "ARR_TIME_BLK                  0\n",
       "CANCELED                      0\n",
       "CANCELLATION_CODE      10713410\n",
       "DIVERTED                      0\n",
       "CRS_ELAPSED_TIME            144\n",
       "ACTUAL_ELAPSED_TIME      230040\n",
       "AIR_TIME                 230040\n",
       "DISTANCE                      0\n",
       "CARRIER_DELAY           8832232\n",
       "WEATHER_DELAY           8832232\n",
       "NAS_DELAY               8832232\n",
       "SECURITY_DELAY          8832232\n",
       "LATE_AIRCRAFT_DELAY     8832232\n",
       "PASSENGERS                15418\n",
       "EMPFULL                   15418\n",
       "EMPPART                   15418\n",
       "EMPTOTAL                  15418\n",
       "EMPFTE                    15418\n",
       "NET_INCOME                15418\n",
       "OP_REVENUES               15418\n",
       "dtype: int64"
      ]
     },
     "execution_count": 4,
     "metadata": {},
     "output_type": "execute_result"
    }
   ],
   "source": [
    "df.isna().sum()"
   ]
  },
  {
   "cell_type": "markdown",
   "metadata": {},
   "source": [
    "# Handling Missing values"
   ]
  },
  {
   "cell_type": "code",
   "execution_count": 3,
   "metadata": {},
   "outputs": [],
   "source": [
    "df=df.dropna(subset=['ARR_DEL15'])"
   ]
  },
  {
   "cell_type": "code",
   "execution_count": 4,
   "metadata": {},
   "outputs": [
    {
     "name": "stdout",
     "output_type": "stream",
     "text": [
      "<class 'pandas.core.frame.DataFrame'>\n",
      "Int64Index: 10682857 entries, 0 to 10915494\n",
      "Data columns (total 50 columns):\n",
      " #   Column               Dtype  \n",
      "---  ------               -----  \n",
      " 0   YEAR                 int64  \n",
      " 1   QUARTER              int64  \n",
      " 2   MONTH                int64  \n",
      " 3   DAY_OF_MONTH         int64  \n",
      " 4   DAY_OF_WEEK          int64  \n",
      " 5   FL_DATE              object \n",
      " 6   CARRIER              object \n",
      " 7   FL_NUM               int64  \n",
      " 8   Route                int64  \n",
      " 9   ORIGIN               object \n",
      " 10  DEST                 object \n",
      " 11  DEST_CITY            object \n",
      " 12  DEST_STATE           object \n",
      " 13  CRS_DEP_TIME         int64  \n",
      " 14  DEP_TIME             float64\n",
      " 15  DEP_DELAY            float64\n",
      " 16  DEP_DELAY_NEW        float64\n",
      " 17  DEP_DEL15            float64\n",
      " 18  DEP_DELAY_GROUP      float64\n",
      " 19  DEP_TIME_BLK         object \n",
      " 20  TAXI_OUT             float64\n",
      " 21  WHEELS_OFF           float64\n",
      " 22  WHEELS_ON            float64\n",
      " 23  TAXI_IN              float64\n",
      " 24  CRS_ARR_TIME         int64  \n",
      " 25  ARR_TIME             float64\n",
      " 26  ARR_DELAY            float64\n",
      " 27  ARR_DELAY_NEW        float64\n",
      " 28  ARR_DEL15            float64\n",
      " 29  ARR_DELAY_GROUP      float64\n",
      " 30  ARR_TIME_BLK         object \n",
      " 31  CANCELED             int64  \n",
      " 32  CANCELLATION_CODE    object \n",
      " 33  DIVERTED             int64  \n",
      " 34  CRS_ELAPSED_TIME     float64\n",
      " 35  ACTUAL_ELAPSED_TIME  float64\n",
      " 36  AIR_TIME             float64\n",
      " 37  DISTANCE             int64  \n",
      " 38  CARRIER_DELAY        float64\n",
      " 39  WEATHER_DELAY        float64\n",
      " 40  NAS_DELAY            float64\n",
      " 41  SECURITY_DELAY       float64\n",
      " 42  LATE_AIRCRAFT_DELAY  float64\n",
      " 43  PASSENGERS           float64\n",
      " 44  EMPFULL              float64\n",
      " 45  EMPPART              float64\n",
      " 46  EMPTOTAL             float64\n",
      " 47  EMPFTE               float64\n",
      " 48  NET_INCOME           float64\n",
      " 49  OP_REVENUES          float64\n",
      "dtypes: float64(29), int64(12), object(9)\n",
      "memory usage: 4.1+ GB\n"
     ]
    }
   ],
   "source": [
    "df.info()"
   ]
  },
  {
   "cell_type": "markdown",
   "metadata": {},
   "source": [
    "# Categorical Encoding for Nominal Variables"
   ]
  },
  {
   "cell_type": "code",
   "execution_count": 5,
   "metadata": {},
   "outputs": [],
   "source": [
    "from sklearn.preprocessing import LabelEncoder\n",
    "labelencoder = LabelEncoder()\n",
    "\n",
    "df.iloc[:,9] = labelencoder.fit_transform(df.iloc[:,9].values)\n",
    "df.iloc[:,6] = labelencoder.fit_transform(df.iloc[:,6].values)\n",
    "df.iloc[:,10] = labelencoder.fit_transform(df.iloc[:,10].values)"
   ]
  },
  {
   "cell_type": "code",
   "execution_count": 8,
   "metadata": {},
   "outputs": [
    {
     "data": {
      "text/html": [
       "<div>\n",
       "<style scoped>\n",
       "    .dataframe tbody tr th:only-of-type {\n",
       "        vertical-align: middle;\n",
       "    }\n",
       "\n",
       "    .dataframe tbody tr th {\n",
       "        vertical-align: top;\n",
       "    }\n",
       "\n",
       "    .dataframe thead th {\n",
       "        text-align: right;\n",
       "    }\n",
       "</style>\n",
       "<table border=\"1\" class=\"dataframe\">\n",
       "  <thead>\n",
       "    <tr style=\"text-align: right;\">\n",
       "      <th></th>\n",
       "      <th>YEAR</th>\n",
       "      <th>QUARTER</th>\n",
       "      <th>MONTH</th>\n",
       "      <th>DAY_OF_MONTH</th>\n",
       "      <th>DAY_OF_WEEK</th>\n",
       "      <th>FL_DATE</th>\n",
       "      <th>CARRIER</th>\n",
       "      <th>FL_NUM</th>\n",
       "      <th>Route</th>\n",
       "      <th>ORIGIN</th>\n",
       "      <th>...</th>\n",
       "      <th>NAS_DELAY</th>\n",
       "      <th>SECURITY_DELAY</th>\n",
       "      <th>LATE_AIRCRAFT_DELAY</th>\n",
       "      <th>PASSENGERS</th>\n",
       "      <th>EMPFULL</th>\n",
       "      <th>EMPPART</th>\n",
       "      <th>EMPTOTAL</th>\n",
       "      <th>EMPFTE</th>\n",
       "      <th>NET_INCOME</th>\n",
       "      <th>OP_REVENUES</th>\n",
       "    </tr>\n",
       "  </thead>\n",
       "  <tbody>\n",
       "    <tr>\n",
       "      <th>0</th>\n",
       "      <td>2018</td>\n",
       "      <td>1</td>\n",
       "      <td>1</td>\n",
       "      <td>1</td>\n",
       "      <td>1</td>\n",
       "      <td>2018-01-01</td>\n",
       "      <td>0</td>\n",
       "      <td>3331</td>\n",
       "      <td>42</td>\n",
       "      <td>4</td>\n",
       "      <td>...</td>\n",
       "      <td>NaN</td>\n",
       "      <td>NaN</td>\n",
       "      <td>NaN</td>\n",
       "      <td>2677.0</td>\n",
       "      <td>4191.0</td>\n",
       "      <td>109.0</td>\n",
       "      <td>4300.0</td>\n",
       "      <td>4246.0</td>\n",
       "      <td>-126.37</td>\n",
       "      <td>674.25</td>\n",
       "    </tr>\n",
       "    <tr>\n",
       "      <th>1</th>\n",
       "      <td>2018</td>\n",
       "      <td>1</td>\n",
       "      <td>1</td>\n",
       "      <td>1</td>\n",
       "      <td>1</td>\n",
       "      <td>2018-01-01</td>\n",
       "      <td>0</td>\n",
       "      <td>3940</td>\n",
       "      <td>42</td>\n",
       "      <td>4</td>\n",
       "      <td>...</td>\n",
       "      <td>NaN</td>\n",
       "      <td>NaN</td>\n",
       "      <td>NaN</td>\n",
       "      <td>2677.0</td>\n",
       "      <td>4191.0</td>\n",
       "      <td>109.0</td>\n",
       "      <td>4300.0</td>\n",
       "      <td>4246.0</td>\n",
       "      <td>-126.37</td>\n",
       "      <td>674.25</td>\n",
       "    </tr>\n",
       "    <tr>\n",
       "      <th>2</th>\n",
       "      <td>2018</td>\n",
       "      <td>1</td>\n",
       "      <td>1</td>\n",
       "      <td>2</td>\n",
       "      <td>2</td>\n",
       "      <td>2018-01-02</td>\n",
       "      <td>0</td>\n",
       "      <td>3409</td>\n",
       "      <td>42</td>\n",
       "      <td>4</td>\n",
       "      <td>...</td>\n",
       "      <td>NaN</td>\n",
       "      <td>NaN</td>\n",
       "      <td>NaN</td>\n",
       "      <td>2677.0</td>\n",
       "      <td>4191.0</td>\n",
       "      <td>109.0</td>\n",
       "      <td>4300.0</td>\n",
       "      <td>4246.0</td>\n",
       "      <td>-126.37</td>\n",
       "      <td>674.25</td>\n",
       "    </tr>\n",
       "    <tr>\n",
       "      <th>3</th>\n",
       "      <td>2018</td>\n",
       "      <td>1</td>\n",
       "      <td>1</td>\n",
       "      <td>2</td>\n",
       "      <td>2</td>\n",
       "      <td>2018-01-02</td>\n",
       "      <td>0</td>\n",
       "      <td>3940</td>\n",
       "      <td>42</td>\n",
       "      <td>4</td>\n",
       "      <td>...</td>\n",
       "      <td>NaN</td>\n",
       "      <td>NaN</td>\n",
       "      <td>NaN</td>\n",
       "      <td>2677.0</td>\n",
       "      <td>4191.0</td>\n",
       "      <td>109.0</td>\n",
       "      <td>4300.0</td>\n",
       "      <td>4246.0</td>\n",
       "      <td>-126.37</td>\n",
       "      <td>674.25</td>\n",
       "    </tr>\n",
       "    <tr>\n",
       "      <th>4</th>\n",
       "      <td>2018</td>\n",
       "      <td>1</td>\n",
       "      <td>1</td>\n",
       "      <td>3</td>\n",
       "      <td>3</td>\n",
       "      <td>2018-01-03</td>\n",
       "      <td>0</td>\n",
       "      <td>3353</td>\n",
       "      <td>42</td>\n",
       "      <td>4</td>\n",
       "      <td>...</td>\n",
       "      <td>NaN</td>\n",
       "      <td>NaN</td>\n",
       "      <td>NaN</td>\n",
       "      <td>2677.0</td>\n",
       "      <td>4191.0</td>\n",
       "      <td>109.0</td>\n",
       "      <td>4300.0</td>\n",
       "      <td>4246.0</td>\n",
       "      <td>-126.37</td>\n",
       "      <td>674.25</td>\n",
       "    </tr>\n",
       "    <tr>\n",
       "      <th>...</th>\n",
       "      <td>...</td>\n",
       "      <td>...</td>\n",
       "      <td>...</td>\n",
       "      <td>...</td>\n",
       "      <td>...</td>\n",
       "      <td>...</td>\n",
       "      <td>...</td>\n",
       "      <td>...</td>\n",
       "      <td>...</td>\n",
       "      <td>...</td>\n",
       "      <td>...</td>\n",
       "      <td>...</td>\n",
       "      <td>...</td>\n",
       "      <td>...</td>\n",
       "      <td>...</td>\n",
       "      <td>...</td>\n",
       "      <td>...</td>\n",
       "      <td>...</td>\n",
       "      <td>...</td>\n",
       "      <td>...</td>\n",
       "      <td>...</td>\n",
       "    </tr>\n",
       "    <tr>\n",
       "      <th>10915489</th>\n",
       "      <td>2019</td>\n",
       "      <td>2</td>\n",
       "      <td>6</td>\n",
       "      <td>27</td>\n",
       "      <td>4</td>\n",
       "      <td>2019-06-27</td>\n",
       "      <td>16</td>\n",
       "      <td>4506</td>\n",
       "      <td>6671</td>\n",
       "      <td>358</td>\n",
       "      <td>...</td>\n",
       "      <td>NaN</td>\n",
       "      <td>NaN</td>\n",
       "      <td>NaN</td>\n",
       "      <td>3026.0</td>\n",
       "      <td>5831.0</td>\n",
       "      <td>311.0</td>\n",
       "      <td>6142.0</td>\n",
       "      <td>5987.0</td>\n",
       "      <td>21462.49</td>\n",
       "      <td>332085.52</td>\n",
       "    </tr>\n",
       "    <tr>\n",
       "      <th>10915490</th>\n",
       "      <td>2019</td>\n",
       "      <td>2</td>\n",
       "      <td>6</td>\n",
       "      <td>27</td>\n",
       "      <td>4</td>\n",
       "      <td>2019-06-27</td>\n",
       "      <td>16</td>\n",
       "      <td>4478</td>\n",
       "      <td>6671</td>\n",
       "      <td>358</td>\n",
       "      <td>...</td>\n",
       "      <td>NaN</td>\n",
       "      <td>NaN</td>\n",
       "      <td>NaN</td>\n",
       "      <td>3026.0</td>\n",
       "      <td>5831.0</td>\n",
       "      <td>311.0</td>\n",
       "      <td>6142.0</td>\n",
       "      <td>5987.0</td>\n",
       "      <td>21462.49</td>\n",
       "      <td>332085.52</td>\n",
       "    </tr>\n",
       "    <tr>\n",
       "      <th>10915491</th>\n",
       "      <td>2019</td>\n",
       "      <td>2</td>\n",
       "      <td>6</td>\n",
       "      <td>28</td>\n",
       "      <td>5</td>\n",
       "      <td>2019-06-28</td>\n",
       "      <td>16</td>\n",
       "      <td>4506</td>\n",
       "      <td>6671</td>\n",
       "      <td>358</td>\n",
       "      <td>...</td>\n",
       "      <td>NaN</td>\n",
       "      <td>NaN</td>\n",
       "      <td>NaN</td>\n",
       "      <td>3026.0</td>\n",
       "      <td>5831.0</td>\n",
       "      <td>311.0</td>\n",
       "      <td>6142.0</td>\n",
       "      <td>5987.0</td>\n",
       "      <td>21462.49</td>\n",
       "      <td>332085.52</td>\n",
       "    </tr>\n",
       "    <tr>\n",
       "      <th>10915493</th>\n",
       "      <td>2019</td>\n",
       "      <td>2</td>\n",
       "      <td>6</td>\n",
       "      <td>30</td>\n",
       "      <td>7</td>\n",
       "      <td>2019-06-30</td>\n",
       "      <td>16</td>\n",
       "      <td>4506</td>\n",
       "      <td>6671</td>\n",
       "      <td>358</td>\n",
       "      <td>...</td>\n",
       "      <td>NaN</td>\n",
       "      <td>NaN</td>\n",
       "      <td>NaN</td>\n",
       "      <td>3026.0</td>\n",
       "      <td>5831.0</td>\n",
       "      <td>311.0</td>\n",
       "      <td>6142.0</td>\n",
       "      <td>5987.0</td>\n",
       "      <td>21462.49</td>\n",
       "      <td>332085.52</td>\n",
       "    </tr>\n",
       "    <tr>\n",
       "      <th>10915494</th>\n",
       "      <td>2019</td>\n",
       "      <td>2</td>\n",
       "      <td>6</td>\n",
       "      <td>30</td>\n",
       "      <td>7</td>\n",
       "      <td>2019-06-30</td>\n",
       "      <td>16</td>\n",
       "      <td>4478</td>\n",
       "      <td>6671</td>\n",
       "      <td>358</td>\n",
       "      <td>...</td>\n",
       "      <td>0.0</td>\n",
       "      <td>0.0</td>\n",
       "      <td>0.0</td>\n",
       "      <td>3026.0</td>\n",
       "      <td>5831.0</td>\n",
       "      <td>311.0</td>\n",
       "      <td>6142.0</td>\n",
       "      <td>5987.0</td>\n",
       "      <td>21462.49</td>\n",
       "      <td>332085.52</td>\n",
       "    </tr>\n",
       "  </tbody>\n",
       "</table>\n",
       "<p>10682857 rows × 50 columns</p>\n",
       "</div>"
      ],
      "text/plain": [
       "          YEAR  QUARTER  MONTH  DAY_OF_MONTH  DAY_OF_WEEK     FL_DATE  \\\n",
       "0         2018        1      1             1            1  2018-01-01   \n",
       "1         2018        1      1             1            1  2018-01-01   \n",
       "2         2018        1      1             2            2  2018-01-02   \n",
       "3         2018        1      1             2            2  2018-01-02   \n",
       "4         2018        1      1             3            3  2018-01-03   \n",
       "...        ...      ...    ...           ...          ...         ...   \n",
       "10915489  2019        2      6            27            4  2019-06-27   \n",
       "10915490  2019        2      6            27            4  2019-06-27   \n",
       "10915491  2019        2      6            28            5  2019-06-28   \n",
       "10915493  2019        2      6            30            7  2019-06-30   \n",
       "10915494  2019        2      6            30            7  2019-06-30   \n",
       "\n",
       "          CARRIER  FL_NUM  Route  ORIGIN  ...  NAS_DELAY SECURITY_DELAY  \\\n",
       "0               0    3331     42       4  ...        NaN            NaN   \n",
       "1               0    3940     42       4  ...        NaN            NaN   \n",
       "2               0    3409     42       4  ...        NaN            NaN   \n",
       "3               0    3940     42       4  ...        NaN            NaN   \n",
       "4               0    3353     42       4  ...        NaN            NaN   \n",
       "...           ...     ...    ...     ...  ...        ...            ...   \n",
       "10915489       16    4506   6671     358  ...        NaN            NaN   \n",
       "10915490       16    4478   6671     358  ...        NaN            NaN   \n",
       "10915491       16    4506   6671     358  ...        NaN            NaN   \n",
       "10915493       16    4506   6671     358  ...        NaN            NaN   \n",
       "10915494       16    4478   6671     358  ...        0.0            0.0   \n",
       "\n",
       "         LATE_AIRCRAFT_DELAY  PASSENGERS  EMPFULL  EMPPART  EMPTOTAL  EMPFTE  \\\n",
       "0                        NaN      2677.0   4191.0    109.0    4300.0  4246.0   \n",
       "1                        NaN      2677.0   4191.0    109.0    4300.0  4246.0   \n",
       "2                        NaN      2677.0   4191.0    109.0    4300.0  4246.0   \n",
       "3                        NaN      2677.0   4191.0    109.0    4300.0  4246.0   \n",
       "4                        NaN      2677.0   4191.0    109.0    4300.0  4246.0   \n",
       "...                      ...         ...      ...      ...       ...     ...   \n",
       "10915489                 NaN      3026.0   5831.0    311.0    6142.0  5987.0   \n",
       "10915490                 NaN      3026.0   5831.0    311.0    6142.0  5987.0   \n",
       "10915491                 NaN      3026.0   5831.0    311.0    6142.0  5987.0   \n",
       "10915493                 NaN      3026.0   5831.0    311.0    6142.0  5987.0   \n",
       "10915494                 0.0      3026.0   5831.0    311.0    6142.0  5987.0   \n",
       "\n",
       "          NET_INCOME OP_REVENUES  \n",
       "0            -126.37      674.25  \n",
       "1            -126.37      674.25  \n",
       "2            -126.37      674.25  \n",
       "3            -126.37      674.25  \n",
       "4            -126.37      674.25  \n",
       "...              ...         ...  \n",
       "10915489    21462.49   332085.52  \n",
       "10915490    21462.49   332085.52  \n",
       "10915491    21462.49   332085.52  \n",
       "10915493    21462.49   332085.52  \n",
       "10915494    21462.49   332085.52  \n",
       "\n",
       "[10682857 rows x 50 columns]"
      ]
     },
     "execution_count": 8,
     "metadata": {},
     "output_type": "execute_result"
    }
   ],
   "source": [
    "df"
   ]
  },
  {
   "cell_type": "code",
   "execution_count": 9,
   "metadata": {},
   "outputs": [
    {
     "data": {
      "text/plain": [
       "Index(['YEAR', 'QUARTER', 'MONTH', 'DAY_OF_MONTH', 'DAY_OF_WEEK', 'FL_DATE',\n",
       "       'CARRIER', 'FL_NUM', 'Route', 'ORIGIN', 'DEST', 'DEST_CITY',\n",
       "       'DEST_STATE', 'CRS_DEP_TIME', 'DEP_TIME', 'DEP_DELAY', 'DEP_DELAY_NEW',\n",
       "       'DEP_DEL15', 'DEP_DELAY_GROUP', 'DEP_TIME_BLK', 'TAXI_OUT',\n",
       "       'WHEELS_OFF', 'WHEELS_ON', 'TAXI_IN', 'CRS_ARR_TIME', 'ARR_TIME',\n",
       "       'ARR_DELAY', 'ARR_DELAY_NEW', 'ARR_DEL15', 'ARR_DELAY_GROUP',\n",
       "       'ARR_TIME_BLK', 'CANCELED', 'CANCELLATION_CODE', 'DIVERTED',\n",
       "       'CRS_ELAPSED_TIME', 'ACTUAL_ELAPSED_TIME', 'AIR_TIME', 'DISTANCE',\n",
       "       'CARRIER_DELAY', 'WEATHER_DELAY', 'NAS_DELAY', 'SECURITY_DELAY',\n",
       "       'LATE_AIRCRAFT_DELAY', 'PASSENGERS', 'EMPFULL', 'EMPPART', 'EMPTOTAL',\n",
       "       'EMPFTE', 'NET_INCOME', 'OP_REVENUES'],\n",
       "      dtype='object')"
      ]
     },
     "execution_count": 9,
     "metadata": {},
     "output_type": "execute_result"
    }
   ],
   "source": [
    "df.columns"
   ]
  },
  {
   "cell_type": "code",
   "execution_count": 15,
   "metadata": {
    "scrolled": true
   },
   "outputs": [
    {
     "data": {
      "text/html": [
       "<div>\n",
       "<style scoped>\n",
       "    .dataframe tbody tr th:only-of-type {\n",
       "        vertical-align: middle;\n",
       "    }\n",
       "\n",
       "    .dataframe tbody tr th {\n",
       "        vertical-align: top;\n",
       "    }\n",
       "\n",
       "    .dataframe thead th {\n",
       "        text-align: right;\n",
       "    }\n",
       "</style>\n",
       "<table border=\"1\" class=\"dataframe\">\n",
       "  <thead>\n",
       "    <tr style=\"text-align: right;\">\n",
       "      <th></th>\n",
       "      <th>Route</th>\n",
       "      <th>DEST</th>\n",
       "    </tr>\n",
       "  </thead>\n",
       "  <tbody>\n",
       "    <tr>\n",
       "      <th>Route</th>\n",
       "      <td>1.000000</td>\n",
       "      <td>0.025666</td>\n",
       "    </tr>\n",
       "    <tr>\n",
       "      <th>DEST</th>\n",
       "      <td>0.025666</td>\n",
       "      <td>1.000000</td>\n",
       "    </tr>\n",
       "  </tbody>\n",
       "</table>\n",
       "</div>"
      ],
      "text/plain": [
       "          Route      DEST\n",
       "Route  1.000000  0.025666\n",
       "DEST   0.025666  1.000000"
      ]
     },
     "execution_count": 15,
     "metadata": {},
     "output_type": "execute_result"
    }
   ],
   "source": [
    "df[['Route','DEST']].corr()"
   ]
  },
  {
   "cell_type": "code",
   "execution_count": 6,
   "metadata": {},
   "outputs": [],
   "source": [
    "#Imputing the missing values with 0 since the null values represent no delay\n",
    "df=df.fillna(0)"
   ]
  },
  {
   "cell_type": "code",
   "execution_count": 7,
   "metadata": {},
   "outputs": [
    {
     "data": {
      "text/plain": [
       "YEAR                   0\n",
       "QUARTER                0\n",
       "MONTH                  0\n",
       "DAY_OF_MONTH           0\n",
       "DAY_OF_WEEK            0\n",
       "FL_DATE                0\n",
       "CARRIER                0\n",
       "FL_NUM                 0\n",
       "Route                  0\n",
       "ORIGIN                 0\n",
       "DEST                   0\n",
       "DEST_CITY              0\n",
       "DEST_STATE             0\n",
       "CRS_DEP_TIME           0\n",
       "DEP_TIME               0\n",
       "DEP_DELAY              0\n",
       "DEP_DELAY_NEW          0\n",
       "DEP_DEL15              0\n",
       "DEP_DELAY_GROUP        0\n",
       "DEP_TIME_BLK           0\n",
       "TAXI_OUT               0\n",
       "WHEELS_OFF             0\n",
       "WHEELS_ON              0\n",
       "TAXI_IN                0\n",
       "CRS_ARR_TIME           0\n",
       "ARR_TIME               0\n",
       "ARR_DELAY              0\n",
       "ARR_DELAY_NEW          0\n",
       "ARR_DEL15              0\n",
       "ARR_DELAY_GROUP        0\n",
       "ARR_TIME_BLK           0\n",
       "CANCELED               0\n",
       "CANCELLATION_CODE      0\n",
       "DIVERTED               0\n",
       "CRS_ELAPSED_TIME       0\n",
       "ACTUAL_ELAPSED_TIME    0\n",
       "AIR_TIME               0\n",
       "DISTANCE               0\n",
       "CARRIER_DELAY          0\n",
       "WEATHER_DELAY          0\n",
       "NAS_DELAY              0\n",
       "SECURITY_DELAY         0\n",
       "LATE_AIRCRAFT_DELAY    0\n",
       "PASSENGERS             0\n",
       "EMPFULL                0\n",
       "EMPPART                0\n",
       "EMPTOTAL               0\n",
       "EMPFTE                 0\n",
       "NET_INCOME             0\n",
       "OP_REVENUES            0\n",
       "dtype: int64"
      ]
     },
     "execution_count": 7,
     "metadata": {},
     "output_type": "execute_result"
    }
   ],
   "source": [
    "df.isna().sum()"
   ]
  },
  {
   "cell_type": "markdown",
   "metadata": {},
   "source": [
    "# Converting features to numerical values to feed the algorithm"
   ]
  },
  {
   "cell_type": "code",
   "execution_count": 8,
   "metadata": {},
   "outputs": [],
   "source": [
    "# Use numpy to convert to arrays\n",
    "import numpy as np\n",
    "\n",
    "# Labels are the values we want to predict\n",
    "labels = np.array(df['ARR_DELAY'])\n",
    "\n",
    "# Remove the labels from the features\n",
    "# axis 1 refers to the columns\n",
    "features= df[[ 'YEAR', 'QUARTER', 'MONTH', 'DAY_OF_MONTH', 'DAY_OF_WEEK',\n",
    "       'CARRIER', 'FL_NUM', 'ORIGIN', 'DEST', 'TAXI_OUT',\n",
    "       'WHEELS_OFF', 'CRS_DEP_TIME', 'CRS_ARR_TIME', 'DISTANCE', 'PASSENGERS', 'NET_INCOME', 'OP_REVENUES','AIR_TIME']]\n",
    "\n",
    "# Saving feature names for later use\n",
    "feature_list = list(features.columns)\n",
    "\n",
    "# Convert to numpy array\n",
    "features = np.array(features)"
   ]
  },
  {
   "cell_type": "code",
   "execution_count": 9,
   "metadata": {},
   "outputs": [
    {
     "data": {
      "text/plain": [
       "array([[ 2.0180000e+03,  1.0000000e+00,  1.0000000e+00, ...,\n",
       "        -1.2637000e+02,  6.7425000e+02,  3.8000000e+01],\n",
       "       [ 2.0180000e+03,  1.0000000e+00,  1.0000000e+00, ...,\n",
       "        -1.2637000e+02,  6.7425000e+02,  3.7000000e+01],\n",
       "       [ 2.0180000e+03,  1.0000000e+00,  1.0000000e+00, ...,\n",
       "        -1.2637000e+02,  6.7425000e+02,  3.8000000e+01],\n",
       "       ...,\n",
       "       [ 2.0190000e+03,  2.0000000e+00,  6.0000000e+00, ...,\n",
       "         2.1462490e+04,  3.3208552e+05,  1.5700000e+02],\n",
       "       [ 2.0190000e+03,  2.0000000e+00,  6.0000000e+00, ...,\n",
       "         2.1462490e+04,  3.3208552e+05,  1.6400000e+02],\n",
       "       [ 2.0190000e+03,  2.0000000e+00,  6.0000000e+00, ...,\n",
       "         2.1462490e+04,  3.3208552e+05,  1.6600000e+02]])"
      ]
     },
     "execution_count": 9,
     "metadata": {},
     "output_type": "execute_result"
    }
   ],
   "source": [
    "features"
   ]
  },
  {
   "cell_type": "code",
   "execution_count": 10,
   "metadata": {},
   "outputs": [
    {
     "data": {
      "text/plain": [
       "array([-12., -12.,  -6., ..., -16.,   4., 189.])"
      ]
     },
     "execution_count": 10,
     "metadata": {},
     "output_type": "execute_result"
    }
   ],
   "source": [
    "labels"
   ]
  },
  {
   "cell_type": "markdown",
   "metadata": {},
   "source": [
    "# Split data into training and testing sets"
   ]
  },
  {
   "cell_type": "code",
   "execution_count": 11,
   "metadata": {},
   "outputs": [],
   "source": [
    "# Using Skicit-learn to split data into training and testing sets\n",
    "from sklearn.model_selection import train_test_split\n",
    "\n",
    "# Split the data into training and testing sets\n",
    "train_features, test_features, train_labels, test_labels = train_test_split(features, labels, test_size = 0.3)"
   ]
  },
  {
   "cell_type": "code",
   "execution_count": 12,
   "metadata": {
    "scrolled": false
   },
   "outputs": [
    {
     "name": "stdout",
     "output_type": "stream",
     "text": [
      "Training Features Shape: (7477999, 18)\n",
      "Training Labels Shape: (7477999,)\n",
      "Testing Features Shape: (3204858, 18)\n",
      "Testing Labels Shape: (3204858,)\n"
     ]
    }
   ],
   "source": [
    "print('Training Features Shape:', train_features.shape)\n",
    "print('Training Labels Shape:', train_labels.shape)\n",
    "print('Testing Features Shape:', test_features.shape)\n",
    "print('Testing Labels Shape:', test_labels.shape)"
   ]
  },
  {
   "cell_type": "code",
   "execution_count": 19,
   "metadata": {
    "collapsed": true
   },
   "outputs": [
    {
     "ename": "ValueError",
     "evalue": "'ARR_DELAY' is not in list",
     "output_type": "error",
     "traceback": [
      "\u001b[1;31m---------------------------------------------------------------------------\u001b[0m",
      "\u001b[1;31mValueError\u001b[0m                                Traceback (most recent call last)",
      "\u001b[1;32m<ipython-input-19-adc5eb2172b5>\u001b[0m in \u001b[0;36m<module>\u001b[1;34m\u001b[0m\n\u001b[0;32m      1\u001b[0m \u001b[1;31m# The baseline predictions are the historical averages\u001b[0m\u001b[1;33m\u001b[0m\u001b[1;33m\u001b[0m\u001b[1;33m\u001b[0m\u001b[0m\n\u001b[1;32m----> 2\u001b[1;33m \u001b[0mbaseline_preds\u001b[0m \u001b[1;33m=\u001b[0m \u001b[0mtest_features\u001b[0m\u001b[1;33m[\u001b[0m\u001b[1;33m:\u001b[0m\u001b[1;33m,\u001b[0m \u001b[0mfeature_list\u001b[0m\u001b[1;33m.\u001b[0m\u001b[0mindex\u001b[0m\u001b[1;33m(\u001b[0m\u001b[1;34m'ARR_DELAY'\u001b[0m\u001b[1;33m)\u001b[0m\u001b[1;33m]\u001b[0m\u001b[1;33m\u001b[0m\u001b[1;33m\u001b[0m\u001b[0m\n\u001b[0m\u001b[0;32m      3\u001b[0m \u001b[1;33m\u001b[0m\u001b[0m\n\u001b[0;32m      4\u001b[0m \u001b[1;31m# Baseline errors, and display average baseline error\u001b[0m\u001b[1;33m\u001b[0m\u001b[1;33m\u001b[0m\u001b[1;33m\u001b[0m\u001b[0m\n\u001b[0;32m      5\u001b[0m \u001b[0mbaseline_errors\u001b[0m \u001b[1;33m=\u001b[0m \u001b[0mabs\u001b[0m\u001b[1;33m(\u001b[0m\u001b[0mbaseline_preds\u001b[0m \u001b[1;33m-\u001b[0m \u001b[0mtest_labels\u001b[0m\u001b[1;33m)\u001b[0m\u001b[1;33m\u001b[0m\u001b[1;33m\u001b[0m\u001b[0m\n",
      "\u001b[1;31mValueError\u001b[0m: 'ARR_DELAY' is not in list"
     ]
    }
   ],
   "source": [
    "# # The baseline predictions are the historical averages\n",
    "# baseline_preds = test_features[:, feature_list.index('ARR_DELAY')]\n",
    "\n",
    "# # Baseline errors, and display average baseline error\n",
    "# baseline_errors = abs(baseline_preds - test_labels)\n",
    "# print('Average baseline error: ', round(np.mean(baseline_errors), 2), 'degrees.')"
   ]
  },
  {
   "cell_type": "markdown",
   "metadata": {},
   "source": [
    "# Using RandomForestRegressor model to fit the data"
   ]
  },
  {
   "cell_type": "code",
   "execution_count": 13,
   "metadata": {},
   "outputs": [
    {
     "name": "stderr",
     "output_type": "stream",
     "text": [
      "C:\\Users\\AB\\Anaconda3\\lib\\site-packages\\sklearn\\ensemble\\_forest.py:815: UserWarning: Some inputs do not have OOB scores. This probably means too few trees were used to compute any reliable oob estimates.\n",
      "  warn(\"Some inputs do not have OOB scores. \"\n"
     ]
    },
    {
     "name": "stdout",
     "output_type": "stream",
     "text": [
      "R^2 Training Score: 0.99 \n",
      "OOB Score: 0.91 \n",
      "R^2 Validation Score: 0.94\n",
      "1009.1911025047302 seconds\n"
     ]
    }
   ],
   "source": [
    "# Import the model we are using\n",
    "import time\n",
    "from sklearn.ensemble import RandomForestRegressor\n",
    "start = time.time()\n",
    "# Instantiate model \n",
    "rf = RandomForestRegressor(n_estimators= 10, oob_score = True,\n",
    "                           bootstrap = True,n_jobs=-1)\n",
    "\n",
    "# Train the model on training data\n",
    "rf.fit(train_features, train_labels)\n",
    "\n",
    "print('R^2 Training Score: {:.2f} \\nOOB Score: {:.2f} \\nR^2 Validation Score: {:.2f}'.format(rf.score(train_features, train_labels), \n",
    "                                                                                             rf.oob_score_,\n",
    "                                                                                             rf.score(test_features, test_labels)))\n",
    "end = time.time()\n",
    "print(f\"{end-start} seconds\")"
   ]
  },
  {
   "cell_type": "markdown",
   "metadata": {},
   "source": [
    "# Perform the training using KFolds cross validation method"
   ]
  },
  {
   "cell_type": "code",
   "execution_count": null,
   "metadata": {},
   "outputs": [],
   "source": [
    "from sklearn.model_selection import cross_val_score, cross_val_predict\n",
    "cv_r2_scores_rf = cross_val_score(rf, features, labels, cv=5,scoring='r2',n_jobs=-1)\n",
    "print(cv_r2_scores_rf)\n",
    "print(\"Mean 5-Fold R Squared: {}\".format(np.mean(cv_r2_scores_rf)))"
   ]
  },
  {
   "cell_type": "code",
   "execution_count": 14,
   "metadata": {},
   "outputs": [
    {
     "name": "stdout",
     "output_type": "stream",
     "text": [
      "Mean Absolute Error: 6.4 degrees.\n"
     ]
    }
   ],
   "source": [
    "# Use the forest's predict method on the test data\n",
    "predictions = rf.predict(test_features)\n",
    "\n",
    "# Calculate the absolute errors\n",
    "errors = abs(predictions - test_labels)\n",
    "\n",
    "# Print out the mean absolute error (mae)\n",
    "print('Mean Absolute Error:', round(np.mean(errors), 2), 'degrees.')"
   ]
  },
  {
   "cell_type": "code",
   "execution_count": 50,
   "metadata": {},
   "outputs": [
    {
     "data": {
      "text/plain": [
       "array([-12., -12.,  -6., ..., -16.,   4., 189.])"
      ]
     },
     "execution_count": 50,
     "metadata": {},
     "output_type": "execute_result"
    }
   ],
   "source": [
    "labels"
   ]
  },
  {
   "cell_type": "code",
   "execution_count": 52,
   "metadata": {},
   "outputs": [
    {
     "data": {
      "text/plain": [
       "array([-16.1, -12.8,  -8.6, ..., -16.4,  -5.1, 189.5])"
      ]
     },
     "execution_count": 52,
     "metadata": {},
     "output_type": "execute_result"
    }
   ],
   "source": [
    "predictions"
   ]
  },
  {
   "cell_type": "code",
   "execution_count": 89,
   "metadata": {},
   "outputs": [
    {
     "data": {
      "text/html": [
       "<div>\n",
       "<style scoped>\n",
       "    .dataframe tbody tr th:only-of-type {\n",
       "        vertical-align: middle;\n",
       "    }\n",
       "\n",
       "    .dataframe tbody tr th {\n",
       "        vertical-align: top;\n",
       "    }\n",
       "\n",
       "    .dataframe thead th {\n",
       "        text-align: right;\n",
       "    }\n",
       "</style>\n",
       "<table border=\"1\" class=\"dataframe\">\n",
       "  <thead>\n",
       "    <tr style=\"text-align: right;\">\n",
       "      <th></th>\n",
       "      <th>date</th>\n",
       "      <th>ARR_DELAY</th>\n",
       "    </tr>\n",
       "  </thead>\n",
       "  <tbody>\n",
       "    <tr>\n",
       "      <th>0</th>\n",
       "      <td>2018-01-01</td>\n",
       "      <td>-12.0</td>\n",
       "    </tr>\n",
       "    <tr>\n",
       "      <th>1</th>\n",
       "      <td>2018-01-01</td>\n",
       "      <td>-12.0</td>\n",
       "    </tr>\n",
       "    <tr>\n",
       "      <th>2</th>\n",
       "      <td>2018-01-02</td>\n",
       "      <td>-6.0</td>\n",
       "    </tr>\n",
       "    <tr>\n",
       "      <th>3</th>\n",
       "      <td>2018-01-02</td>\n",
       "      <td>-18.0</td>\n",
       "    </tr>\n",
       "    <tr>\n",
       "      <th>4</th>\n",
       "      <td>2018-01-03</td>\n",
       "      <td>-3.0</td>\n",
       "    </tr>\n",
       "    <tr>\n",
       "      <th>5</th>\n",
       "      <td>2018-01-03</td>\n",
       "      <td>-2.0</td>\n",
       "    </tr>\n",
       "    <tr>\n",
       "      <th>6</th>\n",
       "      <td>2018-01-04</td>\n",
       "      <td>27.0</td>\n",
       "    </tr>\n",
       "    <tr>\n",
       "      <th>7</th>\n",
       "      <td>2018-01-04</td>\n",
       "      <td>-19.0</td>\n",
       "    </tr>\n",
       "    <tr>\n",
       "      <th>8</th>\n",
       "      <td>2018-01-05</td>\n",
       "      <td>-4.0</td>\n",
       "    </tr>\n",
       "    <tr>\n",
       "      <th>9</th>\n",
       "      <td>2018-01-05</td>\n",
       "      <td>-7.0</td>\n",
       "    </tr>\n",
       "    <tr>\n",
       "      <th>10</th>\n",
       "      <td>2018-01-06</td>\n",
       "      <td>30.0</td>\n",
       "    </tr>\n",
       "    <tr>\n",
       "      <th>11</th>\n",
       "      <td>2018-01-06</td>\n",
       "      <td>-13.0</td>\n",
       "    </tr>\n",
       "    <tr>\n",
       "      <th>12</th>\n",
       "      <td>2018-01-07</td>\n",
       "      <td>641.0</td>\n",
       "    </tr>\n",
       "    <tr>\n",
       "      <th>13</th>\n",
       "      <td>2018-01-07</td>\n",
       "      <td>-17.0</td>\n",
       "    </tr>\n",
       "    <tr>\n",
       "      <th>14</th>\n",
       "      <td>2018-01-01</td>\n",
       "      <td>236.0</td>\n",
       "    </tr>\n",
       "  </tbody>\n",
       "</table>\n",
       "</div>"
      ],
      "text/plain": [
       "         date  ARR_DELAY\n",
       "0  2018-01-01      -12.0\n",
       "1  2018-01-01      -12.0\n",
       "2  2018-01-02       -6.0\n",
       "3  2018-01-02      -18.0\n",
       "4  2018-01-03       -3.0\n",
       "5  2018-01-03       -2.0\n",
       "6  2018-01-04       27.0\n",
       "7  2018-01-04      -19.0\n",
       "8  2018-01-05       -4.0\n",
       "9  2018-01-05       -7.0\n",
       "10 2018-01-06       30.0\n",
       "11 2018-01-06      -13.0\n",
       "12 2018-01-07      641.0\n",
       "13 2018-01-07      -17.0\n",
       "14 2018-01-01      236.0"
      ]
     },
     "execution_count": 89,
     "metadata": {},
     "output_type": "execute_result"
    }
   ],
   "source": [
    "true_data.head(15)"
   ]
  },
  {
   "cell_type": "code",
   "execution_count": 88,
   "metadata": {
    "scrolled": true
   },
   "outputs": [
    {
     "data": {
      "text/html": [
       "<div>\n",
       "<style scoped>\n",
       "    .dataframe tbody tr th:only-of-type {\n",
       "        vertical-align: middle;\n",
       "    }\n",
       "\n",
       "    .dataframe tbody tr th {\n",
       "        vertical-align: top;\n",
       "    }\n",
       "\n",
       "    .dataframe thead th {\n",
       "        text-align: right;\n",
       "    }\n",
       "</style>\n",
       "<table border=\"1\" class=\"dataframe\">\n",
       "  <thead>\n",
       "    <tr style=\"text-align: right;\">\n",
       "      <th></th>\n",
       "      <th>date</th>\n",
       "      <th>prediction</th>\n",
       "    </tr>\n",
       "  </thead>\n",
       "  <tbody>\n",
       "    <tr>\n",
       "      <th>0</th>\n",
       "      <td>2018-01-01</td>\n",
       "      <td>-16.1</td>\n",
       "    </tr>\n",
       "    <tr>\n",
       "      <th>1</th>\n",
       "      <td>2018-01-01</td>\n",
       "      <td>-12.8</td>\n",
       "    </tr>\n",
       "    <tr>\n",
       "      <th>2</th>\n",
       "      <td>2018-01-02</td>\n",
       "      <td>-8.6</td>\n",
       "    </tr>\n",
       "    <tr>\n",
       "      <th>3</th>\n",
       "      <td>2018-01-02</td>\n",
       "      <td>-18.2</td>\n",
       "    </tr>\n",
       "    <tr>\n",
       "      <th>4</th>\n",
       "      <td>2018-01-03</td>\n",
       "      <td>-3.6</td>\n",
       "    </tr>\n",
       "    <tr>\n",
       "      <th>5</th>\n",
       "      <td>2018-01-03</td>\n",
       "      <td>-0.7</td>\n",
       "    </tr>\n",
       "    <tr>\n",
       "      <th>6</th>\n",
       "      <td>2018-01-04</td>\n",
       "      <td>15.3</td>\n",
       "    </tr>\n",
       "    <tr>\n",
       "      <th>7</th>\n",
       "      <td>2018-01-04</td>\n",
       "      <td>-18.9</td>\n",
       "    </tr>\n",
       "    <tr>\n",
       "      <th>8</th>\n",
       "      <td>2018-01-05</td>\n",
       "      <td>-1.4</td>\n",
       "    </tr>\n",
       "    <tr>\n",
       "      <th>9</th>\n",
       "      <td>2018-01-05</td>\n",
       "      <td>-10.2</td>\n",
       "    </tr>\n",
       "    <tr>\n",
       "      <th>10</th>\n",
       "      <td>2018-01-06</td>\n",
       "      <td>31.2</td>\n",
       "    </tr>\n",
       "    <tr>\n",
       "      <th>11</th>\n",
       "      <td>2018-01-06</td>\n",
       "      <td>-11.7</td>\n",
       "    </tr>\n",
       "    <tr>\n",
       "      <th>12</th>\n",
       "      <td>2018-01-07</td>\n",
       "      <td>646.1</td>\n",
       "    </tr>\n",
       "    <tr>\n",
       "      <th>13</th>\n",
       "      <td>2018-01-07</td>\n",
       "      <td>-17.0</td>\n",
       "    </tr>\n",
       "    <tr>\n",
       "      <th>14</th>\n",
       "      <td>2018-01-01</td>\n",
       "      <td>237.2</td>\n",
       "    </tr>\n",
       "  </tbody>\n",
       "</table>\n",
       "</div>"
      ],
      "text/plain": [
       "         date  prediction\n",
       "0  2018-01-01       -16.1\n",
       "1  2018-01-01       -12.8\n",
       "2  2018-01-02        -8.6\n",
       "3  2018-01-02       -18.2\n",
       "4  2018-01-03        -3.6\n",
       "5  2018-01-03        -0.7\n",
       "6  2018-01-04        15.3\n",
       "7  2018-01-04       -18.9\n",
       "8  2018-01-05        -1.4\n",
       "9  2018-01-05       -10.2\n",
       "10 2018-01-06        31.2\n",
       "11 2018-01-06       -11.7\n",
       "12 2018-01-07       646.1\n",
       "13 2018-01-07       -17.0\n",
       "14 2018-01-01       237.2"
      ]
     },
     "execution_count": 88,
     "metadata": {},
     "output_type": "execute_result"
    }
   ],
   "source": [
    "predictions_data.head(15)"
   ]
  },
  {
   "cell_type": "code",
   "execution_count": 73,
   "metadata": {},
   "outputs": [],
   "source": [
    "actual=true_data.head(100)\n",
    "predicted=predictions_data.head(100)"
   ]
  },
  {
   "cell_type": "code",
   "execution_count": 64,
   "metadata": {},
   "outputs": [
    {
     "data": {
      "text/plain": [
       "Text(0.5, 1.0, 'Actual and Predicted Values')"
      ]
     },
     "execution_count": 64,
     "metadata": {},
     "output_type": "execute_result"
    },
    {
     "name": "stderr",
     "output_type": "stream",
     "text": [
      "C:\\Users\\AB\\Anaconda3\\lib\\site-packages\\IPython\\core\\pylabtools.py:132: UserWarning: Creating legend with loc=\"best\" can be slow with large amounts of data.\n",
      "  fig.canvas.print_figure(bytes_io, **kw)\n"
     ]
    },
    {
     "data": {
      "image/png": "[encoded data removed]",
      "text/plain": [
       "<Figure size 432x288 with 1 Axes>"
      ]
     },
     "metadata": {
      "needs_background": "light"
     },
     "output_type": "display_data"
    }
   ],
   "source": [
    "# from matplotlib.pyplot import figure\n",
    "# figure(num=None,figsize=(40,10))\n",
    "plt.plot(true_data['date'], true_data['ARR_DELAY'], 'b-', label = 'actual')\n",
    "# Plot the predicted values\n",
    "plt.plot(predictions_data['date'], predictions_data['prediction'], 'ro', label = 'prediction')\n",
    "plt.xticks(rotation = '60'); \n",
    "plt.legend()\n",
    "# Graph labels\n",
    "plt.xlabel('Date'); plt.ylabel('Arrival Delays'); plt.title('Actual and Predicted Values')"
   ]
  },
  {
   "cell_type": "code",
   "execution_count": 79,
   "metadata": {},
   "outputs": [
    {
     "data": {
      "text/plain": [
       "Text(0.5, 1.0, 'Actual and Predicted Values')"
      ]
     },
     "execution_count": 79,
     "metadata": {},
     "output_type": "execute_result"
    },
    {
     "data": {
      "image/png": "[encoded data removed]",
      "text/plain": [
       "<Figure size 432x288 with 1 Axes>"
      ]
     },
     "metadata": {
      "needs_background": "light"
     },
     "output_type": "display_data"
    }
   ],
   "source": [
    "# from matplotlib.pyplot import figure\n",
    "# figure(num=None,figsize=(40,10))\n",
    "plt.plot(actual['date'], actual['ARR_DELAY'], 'bo', label = 'actual')\n",
    "# Plot the predicted values\n",
    "plt.plot(predicted['date'], predicted['prediction'], 'ro', label = 'prediction')\n",
    "plt.xticks(rotation = '60'); \n",
    "plt.legend()\n",
    "# Graph labels\n",
    "plt.xlabel('Date'); plt.ylabel('Arrival Delays'); plt.title('Actual and Predicted Values')"
   ]
  },
  {
   "cell_type": "code",
   "execution_count": null,
   "metadata": {},
   "outputs": [],
   "source": [
    "labels"
   ]
  },
  {
   "cell_type": "code",
   "execution_count": 57,
   "metadata": {},
   "outputs": [],
   "source": [
    "true_data = pd.DataFrame(data = {'date': dates, 'ARR_DELAY': labels})"
   ]
  },
  {
   "cell_type": "code",
   "execution_count": 58,
   "metadata": {},
   "outputs": [],
   "source": [
    "predictions_data = pd.DataFrame(data = {'date': dates, 'prediction': predictions})"
   ]
  },
  {
   "cell_type": "code",
   "execution_count": 15,
   "metadata": {},
   "outputs": [
    {
     "name": "stdout",
     "output_type": "stream",
     "text": [
      "Variable: CRS_DEP_TIME         Importance: 0.5944\n",
      "Variable: WHEELS_OFF           Importance: 0.28046\n",
      "Variable: TAXI_OUT             Importance: 0.04951\n",
      "Variable: CRS_ARR_TIME         Importance: 0.02185\n",
      "Variable: AIR_TIME             Importance: 0.01083\n",
      "Variable: DISTANCE             Importance: 0.00646\n",
      "Variable: PASSENGERS           Importance: 0.00538\n",
      "Variable: FL_NUM               Importance: 0.00481\n",
      "Variable: ORIGIN               Importance: 0.00464\n",
      "Variable: DAY_OF_MONTH         Importance: 0.00404\n",
      "Variable: DEST                 Importance: 0.00325\n",
      "Variable: OP_REVENUES          Importance: 0.00295\n",
      "Variable: NET_INCOME           Importance: 0.00274\n",
      "Variable: MONTH                Importance: 0.0026\n",
      "Variable: DAY_OF_WEEK          Importance: 0.00256\n",
      "Variable: CARRIER              Importance: 0.00236\n",
      "Variable: QUARTER              Importance: 0.00068\n",
      "Variable: YEAR                 Importance: 0.00048\n"
     ]
    }
   ],
   "source": [
    "# Get numerical feature importances\n",
    "importances = list(rf.feature_importances_)\n",
    "\n",
    "# List of tuples with variable and importance\n",
    "feature_importances = [(feature, round(importance, 5)) for feature, importance in zip(feature_list, importances)]\n",
    "\n",
    "# Sort the feature importances by most important first\n",
    "feature_importances = sorted(feature_importances, key = lambda x: x[1], reverse = True)\n",
    "\n",
    "# Print out the feature and importances \n",
    "[print('Variable: {:20} Importance: {}'.format(*pair)) for pair in feature_importances];"
   ]
  },
  {
   "cell_type": "code",
   "execution_count": 16,
   "metadata": {},
   "outputs": [
    {
     "data": {
      "image/png": "[encoded data removed]",
      "text/plain": [
       "<Figure size 432x288 with 1 Axes>"
      ]
     },
     "metadata": {
      "needs_background": "light"
     },
     "output_type": "display_data"
    }
   ],
   "source": [
    "# list of x locations for plotting\n",
    "x_values = list(range(len(importances)))\n",
    "\n",
    "# Make a bar chart\n",
    "plt.bar(x_values, importances, orientation = 'vertical')\n",
    "\n",
    "# Tick labels for x axis\n",
    "plt.xticks(x_values, feature_list, rotation='vertical')\n",
    "\n",
    "# Axis labels and title\n",
    "plt.ylabel('Importance'); plt.xlabel('Variable'); plt.title('Variable Importances');"
   ]
  },
  {
   "cell_type": "markdown",
   "metadata": {},
   "source": [
    "Evaluating the nature of random forest through interpolation and extrapolation"
   ]
  },
  {
   "cell_type": "code",
   "execution_count": 24,
   "metadata": {
    "scrolled": true
   },
   "outputs": [
    {
     "data": {
      "image/png": "[encoded data removed]",
      "text/plain": [
       "<Figure size 1440x1440 with 1 Axes>"
      ]
     },
     "metadata": {
      "needs_background": "light"
     },
     "output_type": "display_data"
    }
   ],
   "source": [
    "#plot RF as trees increase\n",
    "#set starting point for subplots\n",
    "index = 1\n",
    "i=10\n",
    "#set the size of the subplot to something large\n",
    "plt.figure(figsize=(20,20))\n",
    "# #iterate through number of trees in model\n",
    "# #and plot predictions v actual\n",
    "  #for i in [1,5,10]:\n",
    "plt.subplot(2, 2, index)\n",
    "#     RF_plot = RandomForestRegressor(n_estimators=i)\n",
    "#     RF_plot.fit(X,y)\n",
    "    #split data btw vals RF can interploate vs. data\n",
    "    #it needs to exptrapolate\n",
    "interpolate_index = test_features[:,0]<=2018\n",
    "extrapolate_index = test_features[:,0]>2018\n",
    "X_interpolate = test_features[interpolate_index]\n",
    "X_extrapolate = test_features[extrapolate_index]\n",
    "y_interpolate = test_labels[interpolate_index]\n",
    "y_extrapolate = test_labels[extrapolate_index]\n",
    "    #plot predictions vs. actual\n",
    "plt.scatter(rf.predict(X_interpolate),\n",
    "                y_interpolate,\n",
    "                color=\"g\",label=\"interpolate\")\n",
    "plt.scatter(rf.predict(X_extrapolate),\n",
    "                y_extrapolate,\n",
    "                color=\"b\",label=\"extrapolate\")\n",
    "plt.xlabel('Predicted')\n",
    "plt.ylabel('Actual')\n",
    "plt.title('Random Forest with {} trees'.format(i))\n",
    "plt.subplots_adjust(wspace=.4, hspace=.4)\n",
    "plt.legend(loc=\"best\")\n",
    "index += 1"
   ]
  },
  {
   "cell_type": "markdown",
   "metadata": {},
   "source": [
    "Plotting trees with max_depth=3"
   ]
  },
  {
   "cell_type": "code",
   "execution_count": 27,
   "metadata": {},
   "outputs": [],
   "source": [
    "# Limit depth of tree to 3 levels\n",
    "# Import tools needed for visualization\n",
    "from sklearn.tree import export_graphviz\n",
    "import pydot\n",
    "rf_small = RandomForestRegressor(n_estimators=10, max_depth = 3,n_jobs=-1)\n",
    "rf_small.fit(train_features, train_labels)\n",
    "# Extract the small tree\n",
    "tree_small = rf_small.estimators_[5]\n",
    "# Save the tree as a png image\n",
    "export_graphviz(tree_small, out_file = 'small_tree.dot', feature_names = feature_list, rounded = True, precision = 1)\n",
    "(graph, ) = pydot.graph_from_dot_file('small_tree.dot')\n",
    "graph.write_png('small_tree.png');"
   ]
  },
  {
   "cell_type": "code",
   "execution_count": 31,
   "metadata": {},
   "outputs": [
    {
     "data": {
      "text/plain": [
       "array([[ 2.0180000e+03,  1.0000000e+00,  1.0000000e+00, ...,\n",
       "        -1.2637000e+02,  6.7425000e+02,  3.8000000e+01],\n",
       "       [ 2.0180000e+03,  1.0000000e+00,  1.0000000e+00, ...,\n",
       "        -1.2637000e+02,  6.7425000e+02,  3.7000000e+01],\n",
       "       [ 2.0180000e+03,  1.0000000e+00,  1.0000000e+00, ...,\n",
       "        -1.2637000e+02,  6.7425000e+02,  3.8000000e+01],\n",
       "       ...,\n",
       "       [ 2.0190000e+03,  2.0000000e+00,  6.0000000e+00, ...,\n",
       "         2.1462490e+04,  3.3208552e+05,  1.5700000e+02],\n",
       "       [ 2.0190000e+03,  2.0000000e+00,  6.0000000e+00, ...,\n",
       "         2.1462490e+04,  3.3208552e+05,  1.6400000e+02],\n",
       "       [ 2.0190000e+03,  2.0000000e+00,  6.0000000e+00, ...,\n",
       "         2.1462490e+04,  3.3208552e+05,  1.6600000e+02]])"
      ]
     },
     "execution_count": 31,
     "metadata": {},
     "output_type": "execute_result"
    }
   ],
   "source": [
    "features"
   ]
  },
  {
   "cell_type": "code",
   "execution_count": 18,
   "metadata": {},
   "outputs": [],
   "source": [
    "plt.rcParams['agg.path.chunksize'] = 10000"
   ]
  },
  {
   "cell_type": "code",
   "execution_count": 39,
   "metadata": {},
   "outputs": [
    {
     "data": {
      "text/plain": [
       "['YEAR',\n",
       " 'QUARTER',\n",
       " 'MONTH',\n",
       " 'DAY_OF_MONTH',\n",
       " 'DAY_OF_WEEK',\n",
       " 'CARRIER',\n",
       " 'FL_NUM',\n",
       " 'ORIGIN',\n",
       " 'DEST',\n",
       " 'TAXI_OUT',\n",
       " 'WHEELS_OFF',\n",
       " 'CRS_DEP_TIME',\n",
       " 'CRS_ARR_TIME',\n",
       " 'DISTANCE',\n",
       " 'PASSENGERS',\n",
       " 'NET_INCOME',\n",
       " 'OP_REVENUES',\n",
       " 'AIR_TIME']"
      ]
     },
     "execution_count": 39,
     "metadata": {},
     "output_type": "execute_result"
    }
   ],
   "source": [
    "feature_list"
   ]
  },
  {
   "cell_type": "code",
   "execution_count": 35,
   "metadata": {
    "scrolled": false
   },
   "outputs": [
    {
     "data": {
      "text/plain": [
       "Text(0.5, 1.0, 'Actual and Predicted Values')"
      ]
     },
     "execution_count": 35,
     "metadata": {},
     "output_type": "execute_result"
    },
    {
     "name": "stderr",
     "output_type": "stream",
     "text": [
      "C:\\Users\\AB\\Anaconda3\\lib\\site-packages\\IPython\\core\\pylabtools.py:132: UserWarning: Creating legend with loc=\"best\" can be slow with large amounts of data.\n",
      "  fig.canvas.print_figure(bytes_io, **kw)\n"
     ]
    },
    {
     "data": {
      "image/png": "[encoded data removed]",
      "text/plain": [
       "<Figure size 2880x720 with 1 Axes>"
      ]
     },
     "metadata": {
      "needs_background": "light"
     },
     "output_type": "display_data"
    }
   ],
   "source": [
    "# Use datetime for creating date objects for plotting\n",
    "import datetime\n",
    "# Dates of training values\n",
    "months = features[:, feature_list.index('MONTH')]\n",
    "days = features[:, feature_list.index('DAY_OF_WEEK')]\n",
    "years = features[:, feature_list.index('YEAR')]\n",
    "# List and then convert to datetime object\n",
    "dates = [str(int(year)) + '-' + str(int(month)) + '-' + str(int(day)) for year, month, day in zip(years, months, days)]\n",
    "dates = [datetime.datetime.strptime(date, '%Y-%m-%d') for date in dates]\n",
    "# Dataframe with true values and dates\n",
    "true_data = pd.DataFrame(data = {'date': dates, 'ARR_DELAY': labels})\n",
    "#Dates of predictions\n",
    "months = test_features[:, feature_list.index('MONTH')]\n",
    "days = test_features[:, feature_list.index('DAY_OF_WEEK')]\n",
    "years = test_features[:, feature_list.index('YEAR')]\n",
    "# Column of dates\n",
    "test_dates = [str(int(YEAR)) + '-' + str(int(MONTH)) + '-' + str(int(DAY_OF_WEEK)) for YEAR, MONTH, DAY_OF_WEEK in zip(years, months, days)]\n",
    "# Convert to datetime objects\n",
    "test_dates = [datetime.datetime.strptime(date, '%Y-%m-%d') for date in test_dates]\n",
    "# Dataframe with predictions and dates\n",
    "predictions_data = pd.DataFrame(data = {'date': test_dates, 'prediction': predictions})\n",
    "# Plot the actual values\n",
    "from matplotlib.pyplot import figure\n",
    "figure(num=None,figsize=(40,10))\n",
    "plt.plot(true_data['date'], true_data['ARR_DELAY'], 'b-', label = 'actual')\n",
    "# Plot the predicted values\n",
    "plt.plot(predictions_data['date'], predictions_data['prediction'], 'ro', label = 'prediction')\n",
    "plt.xticks(rotation = '60'); \n",
    "plt.legend()\n",
    "# Graph labels\n",
    "plt.xlabel('Date'); plt.ylabel('Arrival Delays'); plt.title('Actual and Predicted Values')"
   ]
  },
  {
   "cell_type": "code",
   "execution_count": null,
   "metadata": {},
   "outputs": [],
   "source": [
    "# Use datetime for creating date objects for plotting\n",
    "import datetime\n",
    "# Dates of training values\n",
    "months = features[:, feature_list.index('MONTH')]\n",
    "days = features[:, feature_list.index('DAY_OF_WEEK')]\n",
    "years = features[:, feature_list.index('YEAR')]\n",
    "# List and then convert to datetime object\n",
    "dates = [str(int(year)) + '-' + str(int(month)) + '-' + str(int(day)) for year, month, day in zip(years, months, days)]\n",
    "dates = [datetime.datetime.strptime(date, '%Y-%m-%d') for date in dates]\n",
    "# Dataframe with true values and dates\n",
    "true_data = pd.DataFrame(data = {'date': dates, 'ARR_DELAY': labels})\n",
    "#Dates of predictions\n",
    "months = test_features[:, feature_list.index('MONTH')]\n",
    "days = test_features[:, feature_list.index('DAY_OF_WEEK')]\n",
    "years = test_features[:, feature_list.index('YEAR')]\n",
    "# Column of dates\n",
    "test_dates = [str(int(YEAR)) + '-' + str(int(MONTH)) + '-' + str(int(DAY_OF_WEEK)) for YEAR, MONTH, DAY_OF_WEEK in zip(years, months, days)]\n",
    "# Convert to datetime objects\n",
    "test_dates = [datetime.datetime.strptime(date, '%Y-%m-%d') for date in test_dates]\n",
    "# Dataframe with predictions and dates\n",
    "predictions_data = pd.DataFrame(data = {'date': test_dates, 'prediction': predictions})\n",
    "# Plot the actual values\n",
    "from matplotlib.pyplot import figure\n",
    "figure(num=None,figsize=(40,10))\n",
    "plt.plot(true_data['date'], true_data['ARR_DELAY'], 'b-', label = 'actual')\n",
    "# Plot the predicted values\n",
    "plt.plot(predictions_data['date'], predictions_data['prediction'], 'ro', label = 'prediction')\n",
    "plt.xticks(rotation = '60'); \n",
    "plt.legend()\n",
    "# Graph labels\n",
    "plt.xlabel('Date'); plt.ylabel('Arrival Delays'); plt.title('Actual and Predicted Values')"
   ]
  },
  {
   "cell_type": "code",
   "execution_count": 33,
   "metadata": {},
   "outputs": [
    {
     "data": {
      "text/plain": [
       "3204858"
      ]
     },
     "execution_count": 33,
     "metadata": {},
     "output_type": "execute_result"
    }
   ],
   "source": [
    "len(test_labels)"
   ]
  },
  {
   "cell_type": "code",
   "execution_count": 65,
   "metadata": {},
   "outputs": [
    {
     "data": {
      "text/plain": [
       "['YEAR',\n",
       " 'QUARTER',\n",
       " 'MONTH',\n",
       " 'DAY_OF_MONTH',\n",
       " 'DAY_OF_WEEK',\n",
       " 'CARRIER',\n",
       " 'FL_NUM',\n",
       " 'ORIGIN',\n",
       " 'DEST',\n",
       " 'TAXI_OUT',\n",
       " 'WHEELS_OFF',\n",
       " 'CRS_DEP_TIME',\n",
       " 'CRS_ARR_TIME',\n",
       " 'DISTANCE',\n",
       " 'PASSENGERS',\n",
       " 'NET_INCOME',\n",
       " 'OP_REVENUES',\n",
       " 'AIR_TIME']"
      ]
     },
     "execution_count": 65,
     "metadata": {},
     "output_type": "execute_result"
    }
   ],
   "source": [
    "feature_list"
   ]
  },
  {
   "cell_type": "code",
   "execution_count": 58,
   "metadata": {
    "scrolled": true
   },
   "outputs": [
    {
     "data": {
      "text/plain": [
       "['YEAR',\n",
       " 'QUARTER',\n",
       " 'MONTH',\n",
       " 'DAY_OF_MONTH',\n",
       " 'DAY_OF_WEEK',\n",
       " 'CARRIER',\n",
       " 'FL_NUM',\n",
       " 'ORIGIN',\n",
       " 'DEST',\n",
       " 'TAXI_OUT',\n",
       " 'WHEELS_OFF',\n",
       " 'CRS_DEP_TIME',\n",
       " 'CRS_ARR_TIME',\n",
       " 'DISTANCE',\n",
       " 'PASSENGERS',\n",
       " 'NET_INCOME',\n",
       " 'OP_REVENUES',\n",
       " 'AIR_TIME']"
      ]
     },
     "execution_count": 58,
     "metadata": {},
     "output_type": "execute_result"
    }
   ],
   "source": [
    "feature_list"
   ]
  },
  {
   "cell_type": "code",
   "execution_count": 21,
   "metadata": {
    "scrolled": true
   },
   "outputs": [
    {
     "data": {
      "text/html": [
       "<div>\n",
       "<style scoped>\n",
       "    .dataframe tbody tr th:only-of-type {\n",
       "        vertical-align: middle;\n",
       "    }\n",
       "\n",
       "    .dataframe tbody tr th {\n",
       "        vertical-align: top;\n",
       "    }\n",
       "\n",
       "    .dataframe thead th {\n",
       "        text-align: right;\n",
       "    }\n",
       "</style>\n",
       "<table border=\"1\" class=\"dataframe\">\n",
       "  <thead>\n",
       "    <tr style=\"text-align: right;\">\n",
       "      <th></th>\n",
       "      <th>date</th>\n",
       "      <th>ARR_DELAY</th>\n",
       "    </tr>\n",
       "  </thead>\n",
       "  <tbody>\n",
       "    <tr>\n",
       "      <th>0</th>\n",
       "      <td>2018-01-01</td>\n",
       "      <td>-12.0</td>\n",
       "    </tr>\n",
       "    <tr>\n",
       "      <th>1</th>\n",
       "      <td>2018-01-01</td>\n",
       "      <td>-12.0</td>\n",
       "    </tr>\n",
       "    <tr>\n",
       "      <th>2</th>\n",
       "      <td>2018-01-02</td>\n",
       "      <td>-6.0</td>\n",
       "    </tr>\n",
       "    <tr>\n",
       "      <th>3</th>\n",
       "      <td>2018-01-02</td>\n",
       "      <td>-18.0</td>\n",
       "    </tr>\n",
       "    <tr>\n",
       "      <th>4</th>\n",
       "      <td>2018-01-03</td>\n",
       "      <td>-3.0</td>\n",
       "    </tr>\n",
       "    <tr>\n",
       "      <th>...</th>\n",
       "      <td>...</td>\n",
       "      <td>...</td>\n",
       "    </tr>\n",
       "    <tr>\n",
       "      <th>10682852</th>\n",
       "      <td>2019-06-04</td>\n",
       "      <td>-14.0</td>\n",
       "    </tr>\n",
       "    <tr>\n",
       "      <th>10682853</th>\n",
       "      <td>2019-06-04</td>\n",
       "      <td>-7.0</td>\n",
       "    </tr>\n",
       "    <tr>\n",
       "      <th>10682854</th>\n",
       "      <td>2019-06-05</td>\n",
       "      <td>-16.0</td>\n",
       "    </tr>\n",
       "    <tr>\n",
       "      <th>10682855</th>\n",
       "      <td>2019-06-07</td>\n",
       "      <td>4.0</td>\n",
       "    </tr>\n",
       "    <tr>\n",
       "      <th>10682856</th>\n",
       "      <td>2019-06-07</td>\n",
       "      <td>189.0</td>\n",
       "    </tr>\n",
       "  </tbody>\n",
       "</table>\n",
       "<p>10682857 rows × 2 columns</p>\n",
       "</div>"
      ],
      "text/plain": [
       "               date  ARR_DELAY\n",
       "0        2018-01-01      -12.0\n",
       "1        2018-01-01      -12.0\n",
       "2        2018-01-02       -6.0\n",
       "3        2018-01-02      -18.0\n",
       "4        2018-01-03       -3.0\n",
       "...             ...        ...\n",
       "10682852 2019-06-04      -14.0\n",
       "10682853 2019-06-04       -7.0\n",
       "10682854 2019-06-05      -16.0\n",
       "10682855 2019-06-07        4.0\n",
       "10682856 2019-06-07      189.0\n",
       "\n",
       "[10682857 rows x 2 columns]"
      ]
     },
     "execution_count": 21,
     "metadata": {},
     "output_type": "execute_result"
    }
   ],
   "source": [
    "true_data"
   ]
  },
  {
   "cell_type": "markdown",
   "metadata": {},
   "source": [
    "# MODEL SAVED AND TESTED ON WHOLE DATASET WITH BELOW TESTING ACCURACY"
   ]
  },
  {
   "cell_type": "code",
   "execution_count": 29,
   "metadata": {},
   "outputs": [
    {
     "name": "stdout",
     "output_type": "stream",
     "text": [
      "0.9354754184484707\n"
     ]
    }
   ],
   "source": [
    "# save the model to disk\n",
    "import pickle\n",
    "filename = 'forestmodel_flightdelay.sav'\n",
    "pickle.dump(rf, open(filename, 'wb'))\n",
    " \n",
    "# some time later...\n",
    " \n",
    "# load the model from disk\n",
    "loaded_model = pickle.load(open(filename, 'rb'))\n",
    "result = loaded_model.score(test_features, test_labels)\n",
    "print(result)"
   ]
  }
 ],
 "metadata": {
  "kernelspec": {
   "display_name": "Python 3",
   "language": "python",
   "name": "python3"
  },
  "language_info": {
   "codemirror_mode": {
    "name": "ipython",
    "version": 3
   },
   "file_extension": ".py",
   "mimetype": "text/x-python",
   "name": "python",
   "nbconvert_exporter": "python",
   "pygments_lexer": "ipython3",
   "version": "3.7.4"
  }
 },
 "nbformat": 4,
 "nbformat_minor": 4
}
