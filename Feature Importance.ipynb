{
 "cells": [
  {
   "cell_type": "code",
   "execution_count": 1,
   "metadata": {},
   "outputs": [],
   "source": [
    "import numpy as np\n",
    "import pandas as pd\n",
    "import matplotlib.pyplot as plt\n",
    "import seaborn as sns\n"
   ]
  },
  {
   "cell_type": "code",
   "execution_count": 147,
   "metadata": {},
   "outputs": [],
   "source": [
    "df = pd.read_csv('FlightDelays.csv',nrows=50000)"
   ]
  },
  {
   "cell_type": "code",
   "execution_count": 148,
   "metadata": {},
   "outputs": [],
   "source": [
    "df=df.rename(columns={\"DEST\": \"DESTINATION\", \"CRS_DEP_TIME\": \"SCHEDULED_DEPARTURE\", \"CRS_ARR_TIME\":\"SCHEDULED_ARRIVAL\",\"DEP_TIME\":\"ACTUAL_DEPARTURE\",\"ARR_TIME\":\"ACTUAL_ARRIVAL\",\"DEP_DELAY_NEW\":\"DEPARTURE_DELAY\",\"ARR_DELAY_NEW\":\"ARRIVAL_DELAY\"})"
   ]
  },
  {
   "cell_type": "code",
   "execution_count": 149,
   "metadata": {},
   "outputs": [],
   "source": [
    "df1 = df[['FL_DATE', 'DAY_OF_WEEK','CARRIER','FL_NUM','ORIGIN','DESTINATION','Route','SCHEDULED_DEPARTURE','ACTUAL_DEPARTURE','SCHEDULED_ARRIVAL','ACTUAL_ARRIVAL','DISTANCE','PASSENGERS','DEPARTURE_DELAY','ARRIVAL_DELAY','ARR_DEL15','TAXI_IN','TAXI_OUT']]"
   ]
  },
  {
   "cell_type": "code",
   "execution_count": 150,
   "metadata": {},
   "outputs": [],
   "source": [
    "#dropping the columns which are object\n",
    "df1 = df1.drop(['SCHEDULED_DEPARTURE','ACTUAL_DEPARTURE','SCHEDULED_ARRIVAL','ACTUAL_ARRIVAL'],axis=1)"
   ]
  },
  {
   "cell_type": "code",
   "execution_count": 151,
   "metadata": {},
   "outputs": [],
   "source": [
    "df1 = df1[['ARR_DEL15', 'DAY_OF_WEEK','CARRIER','FL_NUM','ORIGIN','DESTINATION','Route','DISTANCE','PASSENGERS','TAXI_IN','TAXI_OUT']]"
   ]
  },
  {
   "cell_type": "code",
   "execution_count": 152,
   "metadata": {
    "scrolled": true
   },
   "outputs": [
    {
     "data": {
      "text/plain": [
       "Index(['ARR_DEL15', 'DAY_OF_WEEK', 'CARRIER', 'FL_NUM', 'ORIGIN',\n",
       "       'DESTINATION', 'Route', 'DISTANCE', 'PASSENGERS', 'TAXI_IN',\n",
       "       'TAXI_OUT'],\n",
       "      dtype='object')"
      ]
     },
     "execution_count": 152,
     "metadata": {},
     "output_type": "execute_result"
    }
   ],
   "source": [
    "df1.columns"
   ]
  },
  {
   "cell_type": "code",
   "execution_count": 153,
   "metadata": {},
   "outputs": [
    {
     "data": {
      "text/plain": [
       "ARR_DEL15       0\n",
       "DAY_OF_WEEK     0\n",
       "CARRIER         0\n",
       "FL_NUM          0\n",
       "ORIGIN          0\n",
       "DESTINATION     0\n",
       "Route           0\n",
       "DISTANCE        0\n",
       "PASSENGERS     69\n",
       "TAXI_IN         0\n",
       "TAXI_OUT        0\n",
       "dtype: int64"
      ]
     },
     "execution_count": 153,
     "metadata": {},
     "output_type": "execute_result"
    }
   ],
   "source": [
    "#dropping rows with missing values\n",
    "df1 = df1.dropna(subset =['ARR_DEL15'])\n",
    "\n",
    "df1.isna().sum()"
   ]
  },
  {
   "cell_type": "code",
   "execution_count": 154,
   "metadata": {},
   "outputs": [
    {
     "data": {
      "text/plain": [
       "ARR_DEL15      0\n",
       "DAY_OF_WEEK    0\n",
       "CARRIER        0\n",
       "FL_NUM         0\n",
       "ORIGIN         0\n",
       "DESTINATION    0\n",
       "Route          0\n",
       "DISTANCE       0\n",
       "PASSENGERS     0\n",
       "TAXI_IN        0\n",
       "TAXI_OUT       0\n",
       "dtype: int64"
      ]
     },
     "execution_count": 154,
     "metadata": {},
     "output_type": "execute_result"
    }
   ],
   "source": [
    "#dropping rows with missing values\n",
    "df1 = df1.dropna(subset =['PASSENGERS'])\n",
    "df1.isna().sum()"
   ]
  },
  {
   "cell_type": "code",
   "execution_count": 155,
   "metadata": {},
   "outputs": [],
   "source": [
    "from sklearn.preprocessing import LabelEncoder\n",
    "labelencoder = LabelEncoder()\n",
    "\n",
    "df1.iloc[:,2] = labelencoder.fit_transform(df1.iloc[:,2].values)"
   ]
  },
  {
   "cell_type": "code",
   "execution_count": 156,
   "metadata": {},
   "outputs": [
    {
     "name": "stdout",
     "output_type": "stream",
     "text": [
      "[0 1]\n"
     ]
    }
   ],
   "source": [
    "print(df1['CARRIER'].unique())"
   ]
  },
  {
   "cell_type": "code",
   "execution_count": 157,
   "metadata": {},
   "outputs": [],
   "source": [
    "from sklearn.preprocessing import LabelEncoder\n",
    "labelencoder = LabelEncoder()\n",
    "\n",
    "df1.iloc[:,4] = labelencoder.fit_transform(df1.iloc[:,4].values)\n",
    "df1.iloc[:,5] = labelencoder.fit_transform(df1.iloc[:,5].values)"
   ]
  },
  {
   "cell_type": "code",
   "execution_count": 158,
   "metadata": {},
   "outputs": [],
   "source": [
    "#Split the data into independent X and dependent Y values\n",
    "X = df1.iloc[:,1:12].values\n",
    "Y = df1.iloc[:,0].values\n",
    "\n",
    "#Split the data\n",
    "from sklearn.model_selection import train_test_split\n",
    "X_train, X_test, Y_train, Y_test = train_test_split(X, Y, test_size = 0.2, random_state=0)\n",
    "\n",
    "#Scale the data\n",
    "from sklearn.preprocessing import StandardScaler\n",
    "sc= StandardScaler()\n",
    "X_train = sc.fit_transform(X_train)\n",
    "X_test = sc.fit_transform(X_test)"
   ]
  },
  {
   "cell_type": "code",
   "execution_count": 159,
   "metadata": {},
   "outputs": [
    {
     "data": {
      "text/plain": [
       "ARR_DEL15      float64\n",
       "DAY_OF_WEEK      int64\n",
       "CARRIER          int32\n",
       "FL_NUM           int64\n",
       "ORIGIN           int32\n",
       "DESTINATION      int32\n",
       "Route            int64\n",
       "DISTANCE         int64\n",
       "PASSENGERS     float64\n",
       "TAXI_IN        float64\n",
       "TAXI_OUT       float64\n",
       "dtype: object"
      ]
     },
     "execution_count": 159,
     "metadata": {},
     "output_type": "execute_result"
    }
   ],
   "source": [
    "df1.dtypes"
   ]
  },
  {
   "cell_type": "code",
   "execution_count": 160,
   "metadata": {},
   "outputs": [],
   "source": [
    "#Create a function within many Machine Learning Models\n",
    "def models(X_train,Y_train):\n",
    "     #Using DecisionTreeClassifier of tree class to use Decision Tree Algorithm\n",
    "  from sklearn.tree import DecisionTreeClassifier\n",
    "  tree = DecisionTreeClassifier(criterion = 'entropy', random_state = 0)\n",
    "  tree.fit(X_train, Y_train)\n",
    "  print('[5]Decision Tree Classifier Training Accuracy:', tree.score(X_train, Y_train))\n",
    "    #Using RandomForestClassifier method of ensemble class to use Random Forest Classification algorithm\n",
    "  from sklearn.ensemble import RandomForestClassifier\n",
    "  forest = RandomForestClassifier(n_estimators = 10, criterion = 'entropy', random_state = 0)\n",
    "  forest.fit(X_train, Y_train)\n",
    "  print('[6]Random Forest Classifier Training Accuracy:', forest.score(X_train, Y_train))\n",
    "  return tree,forest"
   ]
  },
  {
   "cell_type": "code",
   "execution_count": 161,
   "metadata": {},
   "outputs": [
    {
     "name": "stdout",
     "output_type": "stream",
     "text": [
      "[5]Decision Tree Classifier Training Accuracy: 0.9983546617915905\n",
      "[6]Random Forest Classifier Training Accuracy: 0.9773831287542439\n"
     ]
    }
   ],
   "source": [
    "#Get and train all of the models\n",
    "model = models(X_train,Y_train)"
   ]
  },
  {
   "cell_type": "code",
   "execution_count": 162,
   "metadata": {},
   "outputs": [
    {
     "name": "stdout",
     "output_type": "stream",
     "text": [
      "[[6793 1178]\n",
      " [1034  568]]\n",
      "Model[0] Testing Accuracy = \"0.7689334586858874 !\"\n",
      "\n",
      "[[7764  207]\n",
      " [1245  357]]\n",
      "Model[1] Testing Accuracy = \"0.8483234095894704 !\"\n",
      "\n"
     ]
    }
   ],
   "source": [
    "#Show the confusion matrix and accuracy for all of the models on the test data\n",
    "#Classification accuracy is the ratio of correct predictions to total predictions made.\n",
    "from sklearn.metrics import confusion_matrix\n",
    "for i in range(len(model)):\n",
    "  cm = confusion_matrix(Y_test, model[i].predict(X_test))\n",
    "\n",
    "  #extracting true_positives, false_positives, true_negatives, false_negatives\n",
    "  TN, FP, FN, TP = confusion_matrix(Y_test, model[i].predict(X_test)).ravel()\n",
    "\n",
    "  print(cm)\n",
    "  print('Model[{}] Testing Accuracy = \"{} !\"'.format(i,  (TP + TN) / (TP + TN + FN + FP)))\n",
    "  print()# Print a new line"
   ]
  },
  {
   "cell_type": "code",
   "execution_count": 163,
   "metadata": {},
   "outputs": [
    {
     "name": "stdout",
     "output_type": "stream",
     "text": [
      "<class 'pandas.core.frame.DataFrame'>\n",
      "Int64Index: 47863 entries, 0 to 49999\n",
      "Data columns (total 11 columns):\n",
      " #   Column       Non-Null Count  Dtype  \n",
      "---  ------       --------------  -----  \n",
      " 0   ARR_DEL15    47863 non-null  float64\n",
      " 1   DAY_OF_WEEK  47863 non-null  int64  \n",
      " 2   CARRIER      47863 non-null  int32  \n",
      " 3   FL_NUM       47863 non-null  int64  \n",
      " 4   ORIGIN       47863 non-null  int32  \n",
      " 5   DESTINATION  47863 non-null  int32  \n",
      " 6   Route        47863 non-null  int64  \n",
      " 7   DISTANCE     47863 non-null  int64  \n",
      " 8   PASSENGERS   47863 non-null  float64\n",
      " 9   TAXI_IN      47863 non-null  float64\n",
      " 10  TAXI_OUT     47863 non-null  float64\n",
      "dtypes: float64(4), int32(3), int64(4)\n",
      "memory usage: 3.8 MB\n"
     ]
    }
   ],
   "source": [
    "df1.info()"
   ]
  },
  {
   "cell_type": "code",
   "execution_count": 164,
   "metadata": {},
   "outputs": [
    {
     "data": {
      "text/html": [
       "<div>\n",
       "<style scoped>\n",
       "    .dataframe tbody tr th:only-of-type {\n",
       "        vertical-align: middle;\n",
       "    }\n",
       "\n",
       "    .dataframe tbody tr th {\n",
       "        vertical-align: top;\n",
       "    }\n",
       "\n",
       "    .dataframe thead th {\n",
       "        text-align: right;\n",
       "    }\n",
       "</style>\n",
       "<table border=\"1\" class=\"dataframe\">\n",
       "  <thead>\n",
       "    <tr style=\"text-align: right;\">\n",
       "      <th></th>\n",
       "      <th>importance</th>\n",
       "    </tr>\n",
       "    <tr>\n",
       "      <th>feature</th>\n",
       "      <th></th>\n",
       "    </tr>\n",
       "  </thead>\n",
       "  <tbody>\n",
       "    <tr>\n",
       "      <th>TAXI_OUT</th>\n",
       "      <td>0.272</td>\n",
       "    </tr>\n",
       "    <tr>\n",
       "      <th>FL_NUM</th>\n",
       "      <td>0.166</td>\n",
       "    </tr>\n",
       "    <tr>\n",
       "      <th>TAXI_IN</th>\n",
       "      <td>0.163</td>\n",
       "    </tr>\n",
       "    <tr>\n",
       "      <th>DAY_OF_WEEK</th>\n",
       "      <td>0.085</td>\n",
       "    </tr>\n",
       "    <tr>\n",
       "      <th>PASSENGERS</th>\n",
       "      <td>0.073</td>\n",
       "    </tr>\n",
       "    <tr>\n",
       "      <th>Route</th>\n",
       "      <td>0.071</td>\n",
       "    </tr>\n",
       "    <tr>\n",
       "      <th>DISTANCE</th>\n",
       "      <td>0.070</td>\n",
       "    </tr>\n",
       "    <tr>\n",
       "      <th>DESTINATION</th>\n",
       "      <td>0.061</td>\n",
       "    </tr>\n",
       "    <tr>\n",
       "      <th>ORIGIN</th>\n",
       "      <td>0.036</td>\n",
       "    </tr>\n",
       "    <tr>\n",
       "      <th>CARRIER</th>\n",
       "      <td>0.002</td>\n",
       "    </tr>\n",
       "  </tbody>\n",
       "</table>\n",
       "</div>"
      ],
      "text/plain": [
       "             importance\n",
       "feature                \n",
       "TAXI_OUT          0.272\n",
       "FL_NUM            0.166\n",
       "TAXI_IN           0.163\n",
       "DAY_OF_WEEK       0.085\n",
       "PASSENGERS        0.073\n",
       "Route             0.071\n",
       "DISTANCE          0.070\n",
       "DESTINATION       0.061\n",
       "ORIGIN            0.036\n",
       "CARRIER           0.002"
      ]
     },
     "execution_count": 164,
     "metadata": {},
     "output_type": "execute_result"
    }
   ],
   "source": [
    "\n",
    "#Get the importance of the features\n",
    "forest = model[1]\n",
    "importances = pd.DataFrame({'feature':df1.iloc[:, 1:12].columns,'importance':np.round(forest.feature_importances_,3)})\n",
    "importances = importances.sort_values('importance',ascending=False).set_index('feature')\n",
    "importances"
   ]
  },
  {
   "cell_type": "code",
   "execution_count": 165,
   "metadata": {},
   "outputs": [
    {
     "data": {
      "text/plain": [
       "<matplotlib.axes._subplots.AxesSubplot at 0x1a5051557c8>"
      ]
     },
     "execution_count": 165,
     "metadata": {},
     "output_type": "execute_result"
    },
    {
     "data": {
      "image/png": "[encoded data removed]",
      "text/plain": [
       "<Figure size 432x288 with 1 Axes>"
      ]
     },
     "metadata": {
      "needs_background": "light"
     },
     "output_type": "display_data"
    }
   ],
   "source": [
    "\n",
    "#Visualize the importance\n",
    "importances.plot.bar()"
   ]
  },
  {
   "cell_type": "code",
   "execution_count": 41,
   "metadata": {},
   "outputs": [
    {
     "name": "stdout",
     "output_type": "stream",
     "text": [
      "[0. 0. 0. 0. 0. 0. 0. 0. 0. 0. 0. 1. 0. 0. 0. 0. 0. 0. 0. 0. 0. 0. 0. 0.\n",
      " 0. 0. 0. 0. 0. 0. 0. 0. 0. 0. 1. 1. 0. 0. 0. 0. 0. 1. 0. 1. 0. 0. 0. 0.\n",
      " 0. 0. 0. 0. 0. 0. 0. 1. 0. 0. 0. 0. 1. 0. 0. 0. 0. 0. 0. 0. 0. 0. 0. 0.\n",
      " 0. 0. 0. 0. 0. 0. 1. 0. 0. 0. 0. 0. 0. 0. 0. 0. 0. 0. 0. 0. 0. 0. 0. 0.\n",
      " 0. 0. 0. 0. 0. 0. 0. 0. 0. 0. 0. 0. 0. 0. 0. 0. 0. 0. 0. 1. 0. 0. 0. 0.\n",
      " 0. 0. 0. 0. 0. 0. 0. 1. 0. 0. 0. 0. 0. 0. 0. 0. 0. 0. 0. 0. 0. 0. 0. 0.\n",
      " 0. 0. 0. 0. 0. 1. 0. 0. 0. 0. 0. 0. 0. 1. 0. 0. 0. 0. 0. 0. 0. 0. 0. 0.\n",
      " 0. 0. 0. 0. 0. 0. 0. 0. 0. 0. 0. 0. 0. 0. 1. 0. 0. 0. 0. 0. 0. 1. 0. 0.\n",
      " 0. 0. 0. 0. 0. 0. 1. 0. 0. 0. 0. 0. 0. 0. 0. 0. 0. 0. 0. 0. 0. 1. 0. 0.\n",
      " 0. 0. 0. 0. 0. 1. 1. 0. 0. 0. 0. 1. 0. 0. 0. 0. 0. 0. 0. 0. 0. 0. 0. 0.\n",
      " 0. 0. 1. 0. 0. 0. 0. 0. 0. 0. 0. 0. 0. 0. 0. 0. 0. 0. 0. 0. 0. 1. 0. 0.\n",
      " 0. 0. 0. 0. 0. 0. 0. 0. 1. 0. 0. 0. 0. 0. 0. 0. 0. 0. 0. 0. 0. 0. 0. 1.\n",
      " 1. 0. 0. 0. 0. 0. 0. 0. 1. 0. 0. 0. 0. 0. 0. 0. 0. 1. 0. 0. 0. 1. 0. 0.\n",
      " 0. 0. 0. 0. 0. 0. 0. 0. 0. 0. 0. 0. 0. 0. 0. 0. 0. 0. 0. 0. 0. 0. 0. 0.\n",
      " 1. 1. 0. 0. 0. 0. 1. 0. 0. 0. 0. 0. 0. 0. 0. 0. 0. 0. 0. 0. 0. 0. 0. 0.\n",
      " 0. 0. 0. 0. 0. 0. 0. 0. 0. 0. 0. 0. 0. 1. 0. 1. 1. 0. 0. 0. 0. 0. 0. 0.\n",
      " 0. 0. 0. 0. 0. 0. 0. 0. 0. 0. 0. 0. 0. 0. 0. 0. 0. 0. 0. 0. 0. 0. 0. 0.\n",
      " 0. 0. 0. 0. 0. 0. 0. 0. 0. 0. 0. 0. 0. 0. 0. 0. 0. 0. 0. 1. 0. 0. 0. 0.\n",
      " 0. 0. 0. 0. 0. 0. 1. 0. 0. 0. 0. 0. 0. 0. 0. 0. 0. 0. 0. 0. 0. 0. 0. 0.\n",
      " 1. 1. 0. 0. 0. 0. 0. 0. 1. 0. 0. 0. 0. 0. 0. 0. 0. 0. 0. 0. 1. 0. 0. 1.\n",
      " 0. 0. 0. 0. 0. 0. 0. 0. 0. 0. 0. 0. 0. 0. 0. 0. 0. 0. 0. 0. 0. 0. 1. 0.\n",
      " 0. 0. 0. 0. 0. 0. 0. 1. 0. 1. 0. 1. 0. 0. 0. 0. 0. 0. 0. 0. 0. 0. 0. 0.\n",
      " 0. 0. 0. 0. 0. 0. 0. 0. 0. 0. 1. 0. 0. 0. 0. 0. 0. 0. 0. 0. 0. 0. 0. 0.\n",
      " 0. 0. 0. 0. 0. 0. 0. 0. 0. 0. 0. 0. 0. 0. 0. 0. 0. 0. 0. 0. 0. 0. 0. 0.\n",
      " 0. 1. 0. 0. 0. 0. 0. 0. 0. 0. 0. 0. 0. 0. 0. 0. 0. 0. 0. 0. 1. 0. 0. 0.\n",
      " 1. 0. 0. 0. 0. 0. 0. 0. 0. 0. 1. 0. 1. 0. 1. 0. 0. 0. 0. 0. 0. 0. 1. 0.\n",
      " 0. 0. 0. 0. 0. 0. 0. 0. 0. 0. 0. 0. 0. 0. 1. 0. 1. 1. 0. 0. 0. 0. 0. 0.\n",
      " 1. 0. 0. 0. 0. 0. 0. 0. 0. 0. 0. 0. 0. 0. 0. 0. 0. 0. 0. 0. 0. 1. 0. 0.\n",
      " 0. 0. 0. 0. 0. 0. 0. 1. 0. 0. 0. 0. 0. 0. 0. 0. 0. 0. 0. 0. 0. 0. 0. 0.\n",
      " 0. 0. 1. 0. 0. 1. 0. 1. 0. 0. 0. 0. 0. 0. 0. 0. 0. 0. 0. 0. 0. 0. 0. 0.\n",
      " 0. 0. 0. 0. 1. 0. 0. 0. 0. 0. 0. 0. 0. 0. 0. 0. 0. 0. 0. 0. 0. 0. 0. 0.\n",
      " 0. 0. 0. 0. 0. 0. 0. 0. 0. 0. 0. 0. 0. 0. 0. 0. 0. 0. 0. 0. 0. 0. 0. 0.\n",
      " 0. 0. 0. 0. 0. 0. 0. 0. 0. 0. 0. 0. 0. 0. 0. 1. 0. 0. 0. 0. 0. 1. 0. 0.\n",
      " 0. 0. 0. 0. 0. 0. 0. 0. 0. 0. 0. 0. 0. 0. 0. 0. 0. 0. 0. 0. 0. 0. 0. 0.\n",
      " 1. 0. 0. 0. 0. 1. 0. 0. 0. 0. 0. 0. 0. 0. 0. 0. 0. 0. 0. 0. 0. 0. 0. 0.\n",
      " 0. 0. 0. 1. 1. 0. 0. 0. 0. 1. 1. 0. 0. 0. 0. 0. 0. 0. 0. 0. 0. 0. 0. 0.\n",
      " 0. 0. 0. 1. 0. 0. 0. 0. 0. 0. 1. 1. 0. 0. 0. 0. 0. 0. 0. 0. 0. 0. 0. 0.\n",
      " 0. 0. 0. 1. 0. 1. 0. 0. 0. 0. 0. 0. 0. 0. 0. 0. 0. 0. 0. 0. 0. 0. 0. 1.\n",
      " 0. 0. 0. 1. 0. 0. 0. 0. 0. 0. 0. 0. 0. 0. 0. 0. 0. 0. 0. 0.]\n",
      "\n",
      "[0. 0. 0. 0. 0. 0. 0. 0. 0. 0. 1. 1. 0. 0. 0. 0. 0. 0. 0. 1. 0. 1. 0. 1.\n",
      " 0. 0. 0. 0. 0. 0. 0. 0. 0. 0. 1. 0. 0. 1. 0. 0. 0. 0. 0. 1. 0. 0. 0. 0.\n",
      " 0. 0. 0. 0. 0. 0. 0. 0. 0. 0. 0. 0. 1. 0. 0. 0. 0. 0. 0. 1. 1. 0. 0. 0.\n",
      " 1. 1. 0. 0. 0. 1. 1. 0. 0. 1. 0. 1. 0. 1. 1. 0. 0. 0. 0. 0. 0. 0. 0. 0.\n",
      " 0. 0. 1. 0. 0. 0. 0. 0. 0. 0. 0. 0. 1. 1. 0. 0. 0. 0. 0. 1. 0. 0. 1. 0.\n",
      " 0. 0. 0. 1. 0. 0. 0. 1. 0. 1. 0. 0. 0. 0. 0. 0. 0. 0. 1. 0. 0. 0. 0. 0.\n",
      " 0. 0. 1. 1. 0. 1. 1. 0. 0. 0. 0. 0. 0. 1. 0. 0. 0. 0. 0. 0. 1. 0. 0. 0.\n",
      " 1. 0. 0. 0. 0. 0. 0. 1. 0. 0. 0. 0. 0. 0. 1. 0. 1. 0. 0. 0. 0. 0. 0. 0.\n",
      " 0. 1. 0. 1. 0. 0. 1. 0. 0. 0. 0. 0. 0. 0. 1. 0. 0. 0. 1. 0. 0. 0. 0. 0.\n",
      " 0. 0. 1. 0. 0. 1. 0. 0. 0. 0. 1. 1. 0. 0. 0. 0. 0. 0. 0. 0. 0. 0. 0. 1.\n",
      " 0. 1. 1. 1. 0. 0. 0. 0. 0. 0. 0. 0. 0. 0. 0. 0. 0. 0. 0. 1. 0. 1. 0. 0.\n",
      " 0. 0. 0. 0. 0. 0. 1. 0. 1. 0. 0. 0. 0. 0. 1. 0. 1. 0. 0. 0. 0. 0. 1. 1.\n",
      " 0. 0. 0. 0. 0. 0. 0. 0. 1. 0. 1. 0. 0. 0. 1. 0. 0. 1. 0. 0. 0. 0. 0. 0.\n",
      " 0. 0. 0. 0. 0. 0. 0. 0. 1. 0. 0. 1. 0. 0. 0. 0. 0. 0. 0. 0. 0. 0. 0. 1.\n",
      " 1. 0. 0. 0. 0. 0. 1. 0. 0. 0. 0. 0. 0. 0. 0. 0. 0. 0. 0. 0. 1. 1. 0. 0.\n",
      " 0. 0. 0. 0. 1. 0. 0. 0. 1. 0. 0. 0. 0. 1. 0. 0. 0. 0. 1. 0. 0. 0. 0. 1.\n",
      " 0. 1. 0. 0. 0. 1. 0. 0. 0. 0. 0. 0. 0. 0. 0. 0. 0. 0. 1. 0. 0. 0. 1. 1.\n",
      " 0. 0. 0. 0. 0. 0. 0. 0. 0. 0. 0. 1. 0. 0. 0. 0. 1. 0. 1. 1. 1. 0. 0. 0.\n",
      " 1. 1. 0. 0. 0. 0. 0. 0. 1. 0. 0. 0. 0. 1. 0. 1. 0. 0. 0. 0. 0. 0. 0. 0.\n",
      " 0. 1. 0. 0. 0. 0. 0. 0. 0. 0. 0. 0. 0. 0. 0. 0. 0. 1. 0. 0. 1. 0. 0. 1.\n",
      " 0. 0. 0. 1. 1. 0. 0. 1. 0. 0. 1. 0. 0. 0. 0. 0. 0. 0. 0. 0. 0. 0. 0. 0.\n",
      " 0. 0. 0. 0. 0. 0. 0. 1. 0. 1. 0. 0. 0. 0. 0. 0. 0. 0. 0. 1. 1. 0. 0. 0.\n",
      " 1. 1. 1. 0. 0. 0. 0. 0. 1. 0. 1. 0. 0. 0. 1. 0. 0. 1. 1. 0. 0. 0. 0. 0.\n",
      " 0. 1. 0. 0. 0. 0. 1. 0. 0. 0. 1. 0. 1. 0. 0. 1. 0. 1. 1. 0. 0. 0. 0. 0.\n",
      " 0. 1. 0. 0. 0. 0. 1. 1. 0. 0. 0. 0. 1. 0. 1. 0. 0. 0. 0. 0. 1. 0. 0. 0.\n",
      " 0. 0. 0. 0. 0. 0. 0. 0. 0. 0. 0. 0. 1. 1. 0. 1. 0. 1. 1. 0. 0. 0. 1. 0.\n",
      " 0. 1. 0. 0. 0. 0. 0. 1. 0. 1. 0. 0. 0. 0. 0. 0. 0. 1. 0. 1. 1. 0. 0. 1.\n",
      " 1. 0. 0. 0. 0. 0. 0. 0. 1. 0. 0. 0. 1. 0. 0. 0. 0. 0. 0. 1. 0. 1. 0. 0.\n",
      " 0. 1. 0. 0. 0. 0. 0. 1. 0. 1. 0. 1. 0. 0. 0. 0. 0. 0. 0. 0. 0. 0. 0. 0.\n",
      " 0. 0. 1. 0. 0. 0. 0. 0. 0. 1. 0. 0. 0. 0. 1. 0. 0. 0. 1. 0. 0. 0. 0. 0.\n",
      " 0. 0. 0. 0. 0. 0. 0. 0. 0. 0. 0. 0. 0. 0. 1. 0. 0. 0. 0. 0. 0. 0. 0. 0.\n",
      " 0. 0. 0. 0. 0. 0. 0. 0. 0. 1. 0. 0. 0. 0. 0. 0. 0. 0. 0. 0. 0. 0. 0. 0.\n",
      " 0. 0. 0. 0. 0. 0. 0. 0. 1. 0. 0. 1. 1. 0. 0. 0. 1. 0. 0. 0. 0. 1. 0. 1.\n",
      " 0. 0. 0. 0. 0. 0. 0. 0. 1. 0. 0. 0. 0. 0. 0. 0. 0. 0. 0. 1. 0. 0. 0. 0.\n",
      " 0. 0. 0. 0. 0. 1. 1. 0. 0. 0. 0. 0. 0. 0. 0. 0. 0. 1. 1. 0. 0. 0. 0. 1.\n",
      " 0. 0. 0. 0. 1. 0. 0. 0. 0. 1. 0. 1. 1. 0. 1. 0. 0. 0. 0. 1. 0. 0. 0. 1.\n",
      " 0. 0. 0. 1. 0. 1. 0. 0. 1. 0. 0. 1. 0. 0. 0. 0. 0. 0. 0. 0. 0. 0. 1. 0.\n",
      " 0. 0. 0. 1. 0. 1. 0. 0. 1. 0. 0. 1. 0. 0. 1. 0. 0. 0. 1. 0. 0. 0. 0. 0.\n",
      " 0. 0. 0. 1. 0. 0. 0. 0. 0. 0. 0. 0. 0. 0. 0. 0. 0. 0. 0. 0.]\n"
     ]
    }
   ],
   "source": [
    "\n",
    "#Print Prediction of Random Forest Classifier model\n",
    "pred = model[1].predict(X_test)\n",
    "print(pred)\n",
    "\n",
    "#Print a space\n",
    "print()\n",
    "\n",
    "#Print the actual values\n",
    "print(Y_test)"
   ]
  },
  {
   "cell_type": "code",
   "execution_count": 317,
   "metadata": {},
   "outputs": [],
   "source": [
    "df11 = pd.read_csv('FlightDelays.csv',nrows=500000)"
   ]
  },
  {
   "cell_type": "code",
   "execution_count": 318,
   "metadata": {},
   "outputs": [
    {
     "data": {
      "text/plain": [
       "Index(['YEAR', 'QUARTER', 'MONTH', 'DAY_OF_MONTH', 'DAY_OF_WEEK', 'FL_DATE',\n",
       "       'CARRIER', 'FL_NUM', 'Route', 'ORIGIN', 'DESTINATION', 'DEST_CITY',\n",
       "       'DEST_STATE', 'SCHEDULED_DEPARTURE', 'ACTUAL_DEPARTURE', 'DEP_DELAY',\n",
       "       'DEPARTURE_DELAY', 'DEP_DEL15', 'DEP_DELAY_GROUP', 'DEP_TIME_BLK',\n",
       "       'TAXI_OUT', 'WHEELS_OFF', 'WHEELS_ON', 'TAXI_IN', 'SCHEDULED_ARRIVAL',\n",
       "       'ACTUAL_ARRIVAL', 'ARR_DELAY', 'ARRIVAL_DELAY', 'ARR_DEL15',\n",
       "       'ARR_DELAY_GROUP', 'ARR_TIME_BLK', 'CANCELED', 'CANCELLATION_CODE',\n",
       "       'DIVERTED', 'CRS_ELAPSED_TIME', 'ACTUAL_ELAPSED_TIME', 'AIR_TIME',\n",
       "       'DISTANCE', 'CARRIER_DELAY', 'WEATHER_DELAY', 'NAS_DELAY',\n",
       "       'SECURITY_DELAY', 'LATE_AIRCRAFT_DELAY', 'PASSENGERS', 'EMPFULL',\n",
       "       'EMPPART', 'EMPTOTAL', 'EMPFTE', 'NET_INCOME', 'OP_REVENUES'],\n",
       "      dtype='object')"
      ]
     },
     "execution_count": 318,
     "metadata": {},
     "output_type": "execute_result"
    }
   ],
   "source": [
    "df.columns"
   ]
  },
  {
   "cell_type": "code",
   "execution_count": 319,
   "metadata": {},
   "outputs": [],
   "source": [
    "df2 =df11"
   ]
  },
  {
   "cell_type": "code",
   "execution_count": 320,
   "metadata": {
    "scrolled": true
   },
   "outputs": [],
   "source": [
    "df2['EMPFTE'] = df2['EMPFTE'].astype(float)"
   ]
  },
  {
   "cell_type": "code",
   "execution_count": 321,
   "metadata": {},
   "outputs": [],
   "source": [
    "df2['YEAR'] = df2['YEAR'].astype(float)\n",
    "df2['QUARTER'] = df2['QUARTER'].astype(float)\n",
    "df2['MONTH'] = df2['MONTH'].astype(float)\n",
    "df2['DAY_OF_MONTH'] = df2['DAY_OF_MONTH'].astype(float)\n",
    "df2['YEAR'] = df2['YEAR'].astype(float)"
   ]
  },
  {
   "cell_type": "code",
   "execution_count": 322,
   "metadata": {},
   "outputs": [],
   "source": [
    "df2['EMPTOTAL'] = df2['EMPTOTAL'].astype(float)\n",
    "df2['EMPPART'] = df2['EMPPART'].astype(float)\n",
    "df2['EMPFULL'] = df2['EMPFULL'].astype(float)"
   ]
  },
  {
   "cell_type": "code",
   "execution_count": 323,
   "metadata": {},
   "outputs": [],
   "source": [
    "df2=df2.rename(columns={\"DEST\": \"DESTINATION\", \"CRS_DEP_TIME\": \"SCHEDULED_DEPARTURE\", \"CRS_ARR_TIME\":\"SCHEDULED_ARRIVAL\",\"DEP_TIME\":\"ACTUAL_DEPARTURE\",\"ARR_TIME\":\"ACTUAL_ARRIVAL\",\"DEP_DELAY_NEW\":\"DEPARTURE_DELAY\",\"ARR_DELAY_NEW\":\"ARRIVAL_DELAY\"})"
   ]
  },
  {
   "cell_type": "code",
   "execution_count": 324,
   "metadata": {},
   "outputs": [
    {
     "name": "stdout",
     "output_type": "stream",
     "text": [
      "<class 'pandas.core.frame.DataFrame'>\n",
      "RangeIndex: 500000 entries, 0 to 499999\n",
      "Data columns (total 50 columns):\n",
      " #   Column               Non-Null Count   Dtype  \n",
      "---  ------               --------------   -----  \n",
      " 0   YEAR                 500000 non-null  float64\n",
      " 1   QUARTER              500000 non-null  float64\n",
      " 2   MONTH                500000 non-null  float64\n",
      " 3   DAY_OF_MONTH         500000 non-null  float64\n",
      " 4   DAY_OF_WEEK          500000 non-null  int64  \n",
      " 5   FL_DATE              500000 non-null  object \n",
      " 6   CARRIER              500000 non-null  object \n",
      " 7   FL_NUM               500000 non-null  int64  \n",
      " 8   Route                500000 non-null  int64  \n",
      " 9   ORIGIN               500000 non-null  object \n",
      " 10  DESTINATION          500000 non-null  object \n",
      " 11  DEST_CITY            500000 non-null  object \n",
      " 12  DEST_STATE           500000 non-null  object \n",
      " 13  SCHEDULED_DEPARTURE  500000 non-null  int64  \n",
      " 14  ACTUAL_DEPARTURE     486008 non-null  float64\n",
      " 15  DEP_DELAY            485509 non-null  float64\n",
      " 16  DEPARTURE_DELAY      485509 non-null  float64\n",
      " 17  DEP_DEL15            485509 non-null  float64\n",
      " 18  DEP_DELAY_GROUP      485509 non-null  float64\n",
      " 19  DEP_TIME_BLK         500000 non-null  object \n",
      " 20  TAXI_OUT             485779 non-null  float64\n",
      " 21  WHEELS_OFF           485779 non-null  float64\n",
      " 22  WHEELS_ON            485340 non-null  float64\n",
      " 23  TAXI_IN              485340 non-null  float64\n",
      " 24  SCHEDULED_ARRIVAL    500000 non-null  int64  \n",
      " 25  ACTUAL_ARRIVAL       485340 non-null  float64\n",
      " 26  ARR_DELAY            484357 non-null  float64\n",
      " 27  ARRIVAL_DELAY        484357 non-null  float64\n",
      " 28  ARR_DEL15            484357 non-null  float64\n",
      " 29  ARR_DELAY_GROUP      484357 non-null  float64\n",
      " 30  ARR_TIME_BLK         500000 non-null  object \n",
      " 31  CANCELED             500000 non-null  int64  \n",
      " 32  CANCELLATION_CODE    14318 non-null   object \n",
      " 33  DIVERTED             500000 non-null  int64  \n",
      " 34  CRS_ELAPSED_TIME     500000 non-null  int64  \n",
      " 35  ACTUAL_ELAPSED_TIME  484559 non-null  float64\n",
      " 36  AIR_TIME             484559 non-null  float64\n",
      " 37  DISTANCE             500000 non-null  int64  \n",
      " 38  CARRIER_DELAY        85912 non-null   float64\n",
      " 39  WEATHER_DELAY        85912 non-null   float64\n",
      " 40  NAS_DELAY            85912 non-null   float64\n",
      " 41  SECURITY_DELAY       85912 non-null   float64\n",
      " 42  LATE_AIRCRAFT_DELAY  85912 non-null   float64\n",
      " 43  PASSENGERS           499209 non-null  float64\n",
      " 44  EMPFULL              499209 non-null  float64\n",
      " 45  EMPPART              499209 non-null  float64\n",
      " 46  EMPTOTAL             499209 non-null  float64\n",
      " 47  EMPFTE               499209 non-null  float64\n",
      " 48  NET_INCOME           499209 non-null  float64\n",
      " 49  OP_REVENUES          499209 non-null  float64\n",
      "dtypes: float64(32), int64(9), object(9)\n",
      "memory usage: 190.7+ MB\n"
     ]
    }
   ],
   "source": [
    "df2.info()"
   ]
  },
  {
   "cell_type": "code",
   "execution_count": 325,
   "metadata": {},
   "outputs": [],
   "source": [
    "#dropping the columns which are object\n",
    "df2 = df2.drop(['SCHEDULED_DEPARTURE','ACTUAL_DEPARTURE','SCHEDULED_ARRIVAL','ACTUAL_ARRIVAL'],axis=1)"
   ]
  },
  {
   "cell_type": "code",
   "execution_count": 326,
   "metadata": {},
   "outputs": [],
   "source": [
    "#df2 = df2[['ARR_DEL15', 'DAY_OF_WEEK','CARRIER','FL_NUM','ORIGIN','DESTINATION','Route','DISTANCE','PASSENGERS','TAXI_IN','TAXI_OUT','EMPFULL', 'EMPPART', 'EMPTOTAL',\n",
    "  #     'EMPFTE', 'NET_INCOME', 'OP_REVENUES','YEAR','QUARTER','MONTH','DAY_OF_MONTH','YEAR','LATE_AIRCRAFT_DELAY','SECURITY_DELAY','NAS_DELAY','WEATHER_DELAY','CARRIER_DELAY','AIR_TIME','ACTUAL_ELAPSED_TIME','CRS_ELAPSED_TIME','DIVERTED','CANCELED','ARR_DELAY_GROUP','WHEELS_OFF','WHEELS_ON']]"
   ]
  },
  {
   "cell_type": "code",
   "execution_count": 327,
   "metadata": {},
   "outputs": [],
   "source": [
    "df2 = df2[['ARR_DEL15', 'DAY_OF_WEEK','CARRIER','FL_NUM','ORIGIN','DESTINATION','Route','DISTANCE','PASSENGERS','TAXI_IN','TAXI_OUT','EMPFULL', 'EMPPART', 'EMPTOTAL',\n",
    "       'EMPFTE', 'NET_INCOME', 'OP_REVENUES','YEAR','QUARTER','MONTH','DAY_OF_MONTH','YEAR','AIR_TIME','ACTUAL_ELAPSED_TIME','CRS_ELAPSED_TIME','DIVERTED','CANCELED','WHEELS_OFF','WHEELS_ON']]"
   ]
  },
  {
   "cell_type": "code",
   "execution_count": 328,
   "metadata": {},
   "outputs": [
    {
     "data": {
      "text/plain": [
       "ARR_DEL15                0\n",
       "DAY_OF_WEEK              0\n",
       "CARRIER                  0\n",
       "FL_NUM                   0\n",
       "ORIGIN                   0\n",
       "DESTINATION              0\n",
       "Route                    0\n",
       "DISTANCE                 0\n",
       "PASSENGERS             723\n",
       "TAXI_IN                  0\n",
       "TAXI_OUT                 0\n",
       "EMPFULL                723\n",
       "EMPPART                723\n",
       "EMPTOTAL               723\n",
       "EMPFTE                 723\n",
       "NET_INCOME             723\n",
       "OP_REVENUES            723\n",
       "YEAR                     0\n",
       "QUARTER                  0\n",
       "MONTH                    0\n",
       "DAY_OF_MONTH             0\n",
       "YEAR                     0\n",
       "AIR_TIME                 0\n",
       "ACTUAL_ELAPSED_TIME      0\n",
       "CRS_ELAPSED_TIME         0\n",
       "DIVERTED                 0\n",
       "CANCELED                 0\n",
       "WHEELS_OFF               0\n",
       "WHEELS_ON                0\n",
       "dtype: int64"
      ]
     },
     "execution_count": 328,
     "metadata": {},
     "output_type": "execute_result"
    }
   ],
   "source": [
    "#dropping rows with missing values\n",
    "df2 = df2.dropna(subset =['ARR_DEL15'])\n",
    "\n",
    "df2.isna().sum()"
   ]
  },
  {
   "cell_type": "code",
   "execution_count": 329,
   "metadata": {},
   "outputs": [
    {
     "data": {
      "text/plain": [
       "ARR_DEL15              0\n",
       "DAY_OF_WEEK            0\n",
       "CARRIER                0\n",
       "FL_NUM                 0\n",
       "ORIGIN                 0\n",
       "DESTINATION            0\n",
       "Route                  0\n",
       "DISTANCE               0\n",
       "PASSENGERS             0\n",
       "TAXI_IN                0\n",
       "TAXI_OUT               0\n",
       "EMPFULL                0\n",
       "EMPPART                0\n",
       "EMPTOTAL               0\n",
       "EMPFTE                 0\n",
       "NET_INCOME             0\n",
       "OP_REVENUES            0\n",
       "YEAR                   0\n",
       "QUARTER                0\n",
       "MONTH                  0\n",
       "DAY_OF_MONTH           0\n",
       "YEAR                   0\n",
       "AIR_TIME               0\n",
       "ACTUAL_ELAPSED_TIME    0\n",
       "CRS_ELAPSED_TIME       0\n",
       "DIVERTED               0\n",
       "CANCELED               0\n",
       "WHEELS_OFF             0\n",
       "WHEELS_ON              0\n",
       "dtype: int64"
      ]
     },
     "execution_count": 329,
     "metadata": {},
     "output_type": "execute_result"
    }
   ],
   "source": [
    "#dropping rows with missing values\n",
    "df2 = df2.dropna(subset =['PASSENGERS'])\n",
    "df2.isna().sum()"
   ]
  },
  {
   "cell_type": "code",
   "execution_count": 330,
   "metadata": {},
   "outputs": [
    {
     "ename": "KeyError",
     "evalue": "['CARRIER_DELAY']",
     "output_type": "error",
     "traceback": [
      "\u001b[1;31m---------------------------------------------------------------------------\u001b[0m",
      "\u001b[1;31mKeyError\u001b[0m                                  Traceback (most recent call last)",
      "\u001b[1;32m<ipython-input-330-ece9fcca66b3>\u001b[0m in \u001b[0;36m<module>\u001b[1;34m\u001b[0m\n\u001b[0;32m      1\u001b[0m \u001b[1;31m#dropping rows with missing values\u001b[0m\u001b[1;33m\u001b[0m\u001b[1;33m\u001b[0m\u001b[1;33m\u001b[0m\u001b[0m\n\u001b[1;32m----> 2\u001b[1;33m \u001b[0mdf2\u001b[0m \u001b[1;33m=\u001b[0m \u001b[0mdf2\u001b[0m\u001b[1;33m.\u001b[0m\u001b[0mdropna\u001b[0m\u001b[1;33m(\u001b[0m\u001b[0msubset\u001b[0m \u001b[1;33m=\u001b[0m\u001b[1;33m[\u001b[0m\u001b[1;34m'CARRIER_DELAY'\u001b[0m\u001b[1;33m]\u001b[0m\u001b[1;33m)\u001b[0m\u001b[1;33m\u001b[0m\u001b[1;33m\u001b[0m\u001b[0m\n\u001b[0m\u001b[0;32m      3\u001b[0m \u001b[0mdf2\u001b[0m\u001b[1;33m.\u001b[0m\u001b[0misna\u001b[0m\u001b[1;33m(\u001b[0m\u001b[1;33m)\u001b[0m\u001b[1;33m.\u001b[0m\u001b[0msum\u001b[0m\u001b[1;33m(\u001b[0m\u001b[1;33m)\u001b[0m\u001b[1;33m\u001b[0m\u001b[1;33m\u001b[0m\u001b[0m\n",
      "\u001b[1;32m~\\anaconda3\\lib\\site-packages\\pandas\\core\\frame.py\u001b[0m in \u001b[0;36mdropna\u001b[1;34m(self, axis, how, thresh, subset, inplace)\u001b[0m\n\u001b[0;32m   4746\u001b[0m             \u001b[0mcheck\u001b[0m \u001b[1;33m=\u001b[0m \u001b[0mindices\u001b[0m \u001b[1;33m==\u001b[0m \u001b[1;33m-\u001b[0m\u001b[1;36m1\u001b[0m\u001b[1;33m\u001b[0m\u001b[1;33m\u001b[0m\u001b[0m\n\u001b[0;32m   4747\u001b[0m             \u001b[1;32mif\u001b[0m \u001b[0mcheck\u001b[0m\u001b[1;33m.\u001b[0m\u001b[0many\u001b[0m\u001b[1;33m(\u001b[0m\u001b[1;33m)\u001b[0m\u001b[1;33m:\u001b[0m\u001b[1;33m\u001b[0m\u001b[1;33m\u001b[0m\u001b[0m\n\u001b[1;32m-> 4748\u001b[1;33m                 \u001b[1;32mraise\u001b[0m \u001b[0mKeyError\u001b[0m\u001b[1;33m(\u001b[0m\u001b[0mlist\u001b[0m\u001b[1;33m(\u001b[0m\u001b[0mnp\u001b[0m\u001b[1;33m.\u001b[0m\u001b[0mcompress\u001b[0m\u001b[1;33m(\u001b[0m\u001b[0mcheck\u001b[0m\u001b[1;33m,\u001b[0m \u001b[0msubset\u001b[0m\u001b[1;33m)\u001b[0m\u001b[1;33m)\u001b[0m\u001b[1;33m)\u001b[0m\u001b[1;33m\u001b[0m\u001b[1;33m\u001b[0m\u001b[0m\n\u001b[0m\u001b[0;32m   4749\u001b[0m             \u001b[0magg_obj\u001b[0m \u001b[1;33m=\u001b[0m \u001b[0mself\u001b[0m\u001b[1;33m.\u001b[0m\u001b[0mtake\u001b[0m\u001b[1;33m(\u001b[0m\u001b[0mindices\u001b[0m\u001b[1;33m,\u001b[0m \u001b[0maxis\u001b[0m\u001b[1;33m=\u001b[0m\u001b[0magg_axis\u001b[0m\u001b[1;33m)\u001b[0m\u001b[1;33m\u001b[0m\u001b[1;33m\u001b[0m\u001b[0m\n\u001b[0;32m   4750\u001b[0m \u001b[1;33m\u001b[0m\u001b[0m\n",
      "\u001b[1;31mKeyError\u001b[0m: ['CARRIER_DELAY']"
     ]
    }
   ],
   "source": [
    "#dropping rows with missing values\n",
    "df2 = df2.dropna(subset =['CARRIER_DELAY'])\n",
    "df2.isna().sum()"
   ]
  },
  {
   "cell_type": "code",
   "execution_count": 331,
   "metadata": {},
   "outputs": [],
   "source": [
    "from sklearn.preprocessing import LabelEncoder\n",
    "labelencoder = LabelEncoder()\n",
    "\n",
    "df2.iloc[:,2] = labelencoder.fit_transform(df2.iloc[:,2].values)"
   ]
  },
  {
   "cell_type": "code",
   "execution_count": 332,
   "metadata": {},
   "outputs": [],
   "source": [
    "from sklearn.preprocessing import LabelEncoder\n",
    "labelencoder = LabelEncoder()\n",
    "\n",
    "df2.iloc[:,4] = labelencoder.fit_transform(df2.iloc[:,4].values)\n",
    "df2.iloc[:,5] = labelencoder.fit_transform(df2.iloc[:,5].values)"
   ]
  },
  {
   "cell_type": "code",
   "execution_count": 333,
   "metadata": {},
   "outputs": [
    {
     "name": "stdout",
     "output_type": "stream",
     "text": [
      "<class 'pandas.core.frame.DataFrame'>\n",
      "Int64Index: 483634 entries, 0 to 499999\n",
      "Data columns (total 29 columns):\n",
      " #   Column               Non-Null Count   Dtype  \n",
      "---  ------               --------------   -----  \n",
      " 0   ARR_DEL15            483634 non-null  float64\n",
      " 1   DAY_OF_WEEK          483634 non-null  int64  \n",
      " 2   CARRIER              483634 non-null  int32  \n",
      " 3   FL_NUM               483634 non-null  int64  \n",
      " 4   ORIGIN               483634 non-null  int32  \n",
      " 5   DESTINATION          483634 non-null  int32  \n",
      " 6   Route                483634 non-null  int64  \n",
      " 7   DISTANCE             483634 non-null  int64  \n",
      " 8   PASSENGERS           483634 non-null  float64\n",
      " 9   TAXI_IN              483634 non-null  float64\n",
      " 10  TAXI_OUT             483634 non-null  float64\n",
      " 11  EMPFULL              483634 non-null  float64\n",
      " 12  EMPPART              483634 non-null  float64\n",
      " 13  EMPTOTAL             483634 non-null  float64\n",
      " 14  EMPFTE               483634 non-null  float64\n",
      " 15  NET_INCOME           483634 non-null  float64\n",
      " 16  OP_REVENUES          483634 non-null  float64\n",
      " 17  YEAR                 483634 non-null  float64\n",
      " 18  QUARTER              483634 non-null  float64\n",
      " 19  MONTH                483634 non-null  float64\n",
      " 20  DAY_OF_MONTH         483634 non-null  float64\n",
      " 21  YEAR                 483634 non-null  float64\n",
      " 22  AIR_TIME             483634 non-null  float64\n",
      " 23  ACTUAL_ELAPSED_TIME  483634 non-null  float64\n",
      " 24  CRS_ELAPSED_TIME     483634 non-null  int64  \n",
      " 25  DIVERTED             483634 non-null  int64  \n",
      " 26  CANCELED             483634 non-null  int64  \n",
      " 27  WHEELS_OFF           483634 non-null  float64\n",
      " 28  WHEELS_ON            483634 non-null  float64\n",
      "dtypes: float64(19), int32(3), int64(7)\n",
      "memory usage: 105.2 MB\n"
     ]
    }
   ],
   "source": [
    "df2.info()"
   ]
  },
  {
   "cell_type": "code",
   "execution_count": 334,
   "metadata": {},
   "outputs": [],
   "source": [
    "#Split the data into independent X and dependent Y values\n",
    "X = df2.iloc[:,1:30].values\n",
    "Y = df2.iloc[:,0].values\n",
    "\n",
    "#Split the data\n",
    "from sklearn.model_selection import train_test_split\n",
    "X_train, X_test, Y_train, Y_test = train_test_split(X, Y, test_size = 0.2, random_state=0)\n",
    "\n",
    "#Scale the data\n",
    "from sklearn.preprocessing import StandardScaler\n",
    "sc= StandardScaler()\n",
    "X_train = sc.fit_transform(X_train)\n",
    "X_test = sc.fit_transform(X_test)"
   ]
  },
  {
   "cell_type": "code",
   "execution_count": 343,
   "metadata": {},
   "outputs": [],
   "source": [
    "#Create a function within many Machine Learning Models\n",
    "def models(X_train,Y_train):\n",
    "     #Using DecisionTreeClassifier of tree class to use Decision Tree Algorithm\n",
    "  from sklearn.tree import DecisionTreeClassifier\n",
    "  tree = DecisionTreeClassifier(criterion = 'entropy', random_state = 0)\n",
    "  tree.fit(X_train, Y_train)\n",
    "  print('[5]Decision Tree Classifier Training Accuracy:', tree.score(X_train, Y_train))\n",
    "    #Using RandomForestClassifier method of ensemble class to use Random Forest Classification algorithm\n",
    "  from sklearn.ensemble import RandomForestClassifier\n",
    "  forest = RandomForestClassifier(n_estimators = 30, criterion = 'entropy', random_state = 0)\n",
    "  forest.fit(X_train, Y_train)\n",
    "  print('[6]Random Forest Classifier Training Accuracy:', forest.score(X_train, Y_train))\n",
    "  return tree,forest"
   ]
  },
  {
   "cell_type": "code",
   "execution_count": 344,
   "metadata": {
    "scrolled": true
   },
   "outputs": [
    {
     "name": "stdout",
     "output_type": "stream",
     "text": [
      "[5]Decision Tree Classifier Training Accuracy: 1.0\n",
      "[6]Random Forest Classifier Training Accuracy: 0.9982838253120259\n"
     ]
    }
   ],
   "source": [
    "#Get and train all of the models\n",
    "model = models(X_train,Y_train)"
   ]
  },
  {
   "cell_type": "code",
   "execution_count": 339,
   "metadata": {},
   "outputs": [
    {
     "name": "stdout",
     "output_type": "stream",
     "text": [
      "[[69949  9641]\n",
      " [ 9423  7714]]\n",
      "Model[0] Testing Accuracy = \"0.8029092187290002 !\"\n",
      "\n",
      "[[77948  1642]\n",
      " [11218  5919]]\n",
      "Model[1] Testing Accuracy = \"0.8670484973171917 !\"\n",
      "\n"
     ]
    }
   ],
   "source": [
    "#Show the confusion matrix and accuracy for all of the models on the test data\n",
    "#Classification accuracy is the ratio of correct predictions to total predictions made.\n",
    "from sklearn.metrics import confusion_matrix\n",
    "for i in range(len(model)):\n",
    "  cm = confusion_matrix(Y_test, model[i].predict(X_test))\n",
    "\n",
    "  #extracting true_positives, false_positives, true_negatives, false_negatives\n",
    "  TN, FP, FN, TP = confusion_matrix(Y_test, model[i].predict(X_test)).ravel()\n",
    "\n",
    "  print(cm)\n",
    "  print('Model[{}] Testing Accuracy = \"{} !\"'.format(i,  (TP + TN) / (TP + TN + FN + FP)))\n",
    "  print()# Print a new line"
   ]
  },
  {
   "cell_type": "code",
   "execution_count": 340,
   "metadata": {},
   "outputs": [
    {
     "name": "stdout",
     "output_type": "stream",
     "text": [
      "<class 'pandas.core.frame.DataFrame'>\n",
      "Int64Index: 483634 entries, 0 to 499999\n",
      "Data columns (total 29 columns):\n",
      " #   Column               Non-Null Count   Dtype  \n",
      "---  ------               --------------   -----  \n",
      " 0   ARR_DEL15            483634 non-null  float64\n",
      " 1   DAY_OF_WEEK          483634 non-null  int64  \n",
      " 2   CARRIER              483634 non-null  int32  \n",
      " 3   FL_NUM               483634 non-null  int64  \n",
      " 4   ORIGIN               483634 non-null  int32  \n",
      " 5   DESTINATION          483634 non-null  int32  \n",
      " 6   Route                483634 non-null  int64  \n",
      " 7   DISTANCE             483634 non-null  int64  \n",
      " 8   PASSENGERS           483634 non-null  float64\n",
      " 9   TAXI_IN              483634 non-null  float64\n",
      " 10  TAXI_OUT             483634 non-null  float64\n",
      " 11  EMPFULL              483634 non-null  float64\n",
      " 12  EMPPART              483634 non-null  float64\n",
      " 13  EMPTOTAL             483634 non-null  float64\n",
      " 14  EMPFTE               483634 non-null  float64\n",
      " 15  NET_INCOME           483634 non-null  float64\n",
      " 16  OP_REVENUES          483634 non-null  float64\n",
      " 17  YEAR                 483634 non-null  float64\n",
      " 18  QUARTER              483634 non-null  float64\n",
      " 19  MONTH                483634 non-null  float64\n",
      " 20  DAY_OF_MONTH         483634 non-null  float64\n",
      " 21  YEAR                 483634 non-null  float64\n",
      " 22  AIR_TIME             483634 non-null  float64\n",
      " 23  ACTUAL_ELAPSED_TIME  483634 non-null  float64\n",
      " 24  CRS_ELAPSED_TIME     483634 non-null  int64  \n",
      " 25  DIVERTED             483634 non-null  int64  \n",
      " 26  CANCELED             483634 non-null  int64  \n",
      " 27  WHEELS_OFF           483634 non-null  float64\n",
      " 28  WHEELS_ON            483634 non-null  float64\n",
      "dtypes: float64(19), int32(3), int64(7)\n",
      "memory usage: 105.2 MB\n"
     ]
    }
   ],
   "source": [
    "df2.info()"
   ]
  },
  {
   "cell_type": "code",
   "execution_count": 341,
   "metadata": {},
   "outputs": [
    {
     "data": {
      "text/html": [
       "<div>\n",
       "<style scoped>\n",
       "    .dataframe tbody tr th:only-of-type {\n",
       "        vertical-align: middle;\n",
       "    }\n",
       "\n",
       "    .dataframe tbody tr th {\n",
       "        vertical-align: top;\n",
       "    }\n",
       "\n",
       "    .dataframe thead th {\n",
       "        text-align: right;\n",
       "    }\n",
       "</style>\n",
       "<table border=\"1\" class=\"dataframe\">\n",
       "  <thead>\n",
       "    <tr style=\"text-align: right;\">\n",
       "      <th></th>\n",
       "      <th>importance</th>\n",
       "    </tr>\n",
       "    <tr>\n",
       "      <th>feature</th>\n",
       "      <th></th>\n",
       "    </tr>\n",
       "  </thead>\n",
       "  <tbody>\n",
       "    <tr>\n",
       "      <th>TAXI_OUT</th>\n",
       "      <td>0.120</td>\n",
       "    </tr>\n",
       "    <tr>\n",
       "      <th>WHEELS_OFF</th>\n",
       "      <td>0.100</td>\n",
       "    </tr>\n",
       "    <tr>\n",
       "      <th>WHEELS_ON</th>\n",
       "      <td>0.095</td>\n",
       "    </tr>\n",
       "    <tr>\n",
       "      <th>DAY_OF_MONTH</th>\n",
       "      <td>0.071</td>\n",
       "    </tr>\n",
       "    <tr>\n",
       "      <th>ACTUAL_ELAPSED_TIME</th>\n",
       "      <td>0.067</td>\n",
       "    </tr>\n",
       "    <tr>\n",
       "      <th>FL_NUM</th>\n",
       "      <td>0.062</td>\n",
       "    </tr>\n",
       "    <tr>\n",
       "      <th>AIR_TIME</th>\n",
       "      <td>0.059</td>\n",
       "    </tr>\n",
       "    <tr>\n",
       "      <th>CRS_ELAPSED_TIME</th>\n",
       "      <td>0.057</td>\n",
       "    </tr>\n",
       "    <tr>\n",
       "      <th>TAXI_IN</th>\n",
       "      <td>0.055</td>\n",
       "    </tr>\n",
       "    <tr>\n",
       "      <th>Route</th>\n",
       "      <td>0.053</td>\n",
       "    </tr>\n",
       "    <tr>\n",
       "      <th>PASSENGERS</th>\n",
       "      <td>0.053</td>\n",
       "    </tr>\n",
       "    <tr>\n",
       "      <th>DISTANCE</th>\n",
       "      <td>0.050</td>\n",
       "    </tr>\n",
       "    <tr>\n",
       "      <th>DESTINATION</th>\n",
       "      <td>0.044</td>\n",
       "    </tr>\n",
       "    <tr>\n",
       "      <th>ORIGIN</th>\n",
       "      <td>0.038</td>\n",
       "    </tr>\n",
       "    <tr>\n",
       "      <th>DAY_OF_WEEK</th>\n",
       "      <td>0.031</td>\n",
       "    </tr>\n",
       "    <tr>\n",
       "      <th>OP_REVENUES</th>\n",
       "      <td>0.008</td>\n",
       "    </tr>\n",
       "    <tr>\n",
       "      <th>EMPTOTAL</th>\n",
       "      <td>0.007</td>\n",
       "    </tr>\n",
       "    <tr>\n",
       "      <th>EMPFULL</th>\n",
       "      <td>0.007</td>\n",
       "    </tr>\n",
       "    <tr>\n",
       "      <th>CARRIER</th>\n",
       "      <td>0.006</td>\n",
       "    </tr>\n",
       "    <tr>\n",
       "      <th>EMPFTE</th>\n",
       "      <td>0.006</td>\n",
       "    </tr>\n",
       "    <tr>\n",
       "      <th>EMPPART</th>\n",
       "      <td>0.006</td>\n",
       "    </tr>\n",
       "    <tr>\n",
       "      <th>NET_INCOME</th>\n",
       "      <td>0.006</td>\n",
       "    </tr>\n",
       "    <tr>\n",
       "      <th>YEAR</th>\n",
       "      <td>0.000</td>\n",
       "    </tr>\n",
       "    <tr>\n",
       "      <th>QUARTER</th>\n",
       "      <td>0.000</td>\n",
       "    </tr>\n",
       "    <tr>\n",
       "      <th>MONTH</th>\n",
       "      <td>0.000</td>\n",
       "    </tr>\n",
       "    <tr>\n",
       "      <th>YEAR</th>\n",
       "      <td>0.000</td>\n",
       "    </tr>\n",
       "    <tr>\n",
       "      <th>DIVERTED</th>\n",
       "      <td>0.000</td>\n",
       "    </tr>\n",
       "    <tr>\n",
       "      <th>CANCELED</th>\n",
       "      <td>0.000</td>\n",
       "    </tr>\n",
       "  </tbody>\n",
       "</table>\n",
       "</div>"
      ],
      "text/plain": [
       "                     importance\n",
       "feature                        \n",
       "TAXI_OUT                  0.120\n",
       "WHEELS_OFF                0.100\n",
       "WHEELS_ON                 0.095\n",
       "DAY_OF_MONTH              0.071\n",
       "ACTUAL_ELAPSED_TIME       0.067\n",
       "FL_NUM                    0.062\n",
       "AIR_TIME                  0.059\n",
       "CRS_ELAPSED_TIME          0.057\n",
       "TAXI_IN                   0.055\n",
       "Route                     0.053\n",
       "PASSENGERS                0.053\n",
       "DISTANCE                  0.050\n",
       "DESTINATION               0.044\n",
       "ORIGIN                    0.038\n",
       "DAY_OF_WEEK               0.031\n",
       "OP_REVENUES               0.008\n",
       "EMPTOTAL                  0.007\n",
       "EMPFULL                   0.007\n",
       "CARRIER                   0.006\n",
       "EMPFTE                    0.006\n",
       "EMPPART                   0.006\n",
       "NET_INCOME                0.006\n",
       "YEAR                      0.000\n",
       "QUARTER                   0.000\n",
       "MONTH                     0.000\n",
       "YEAR                      0.000\n",
       "DIVERTED                  0.000\n",
       "CANCELED                  0.000"
      ]
     },
     "execution_count": 341,
     "metadata": {},
     "output_type": "execute_result"
    }
   ],
   "source": [
    "#Get the importance of the features\n",
    "forest = model[1]\n",
    "importances = pd.DataFrame({'feature':df2.iloc[:, 1:30].columns,'importance':np.round(forest.feature_importances_,3)})\n",
    "importances = importances.sort_values('importance',ascending=False).set_index('feature')\n",
    "importances"
   ]
  },
  {
   "cell_type": "code",
   "execution_count": 342,
   "metadata": {},
   "outputs": [
    {
     "data": {
      "text/plain": [
       "<matplotlib.axes._subplots.AxesSubplot at 0x1a5066b9988>"
      ]
     },
     "execution_count": 342,
     "metadata": {},
     "output_type": "execute_result"
    },
    {
     "data": {
      "image/png": "[encoded data removed]",
      "text/plain": [
       "<Figure size 432x288 with 1 Axes>"
      ]
     },
     "metadata": {
      "needs_background": "light"
     },
     "output_type": "display_data"
    }
   ],
   "source": [
    "\n",
    "#Visualize the importanceb\n",
    "importances.plot.bar()"
   ]
  },
  {
   "cell_type": "code",
   "execution_count": null,
   "metadata": {},
   "outputs": [],
   "source": []
  }
 ],
 "metadata": {
  "kernelspec": {
   "display_name": "Python 3",
   "language": "python",
   "name": "python3"
  },
  "language_info": {
   "codemirror_mode": {
    "name": "ipython",
    "version": 3
   },
   "file_extension": ".py",
   "mimetype": "text/x-python",
   "name": "python",
   "nbconvert_exporter": "python",
   "pygments_lexer": "ipython3",
   "version": "3.7.6"
  }
 },
 "nbformat": 4,
 "nbformat_minor": 4
}
