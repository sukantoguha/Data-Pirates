{
 "cells": [
  {
   "cell_type": "markdown",
   "metadata": {},
   "source": [
    "# Flight Delay Prediction Airline Wise"
   ]
  },
  {
   "cell_type": "markdown",
   "metadata": {},
   "source": [
    "The large amount of data within the flight delay data set (over 10 million rows) made operating on new variables computationally slow. Thus, it has been split airline wise for data anaylsis and exploration. "
   ]
  },
  {
   "cell_type": "code",
   "execution_count": 1,
   "metadata": {},
   "outputs": [
    {
     "name": "stderr",
     "output_type": "stream",
     "text": [
      "C:\\Users\\AB\\Anaconda3\\lib\\site-packages\\statsmodels\\tools\\_testing.py:19: FutureWarning: pandas.util.testing is deprecated. Use the functions in the public API at pandas.testing instead.\n",
      "  import pandas.util.testing as tm\n"
     ]
    }
   ],
   "source": [
    "#Imported the necessary python libraries\n",
    "import numpy as np \n",
    "import pandas as pd \n",
    "import seaborn as sns\n",
    "import matplotlib.pylab as plt "
   ]
  },
  {
   "cell_type": "code",
   "execution_count": 2,
   "metadata": {},
   "outputs": [],
   "source": [
    "#Loaded Allegiant Air dataset to a dataframe from airline specific csv file\n",
    "df=pd.read_csv('AirlineG4.csv')"
   ]
  },
  {
   "cell_type": "markdown",
   "metadata": {},
   "source": [
    "# Handling Missing values"
   ]
  },
  {
   "cell_type": "code",
   "execution_count": 3,
   "metadata": {},
   "outputs": [
    {
     "data": {
      "text/html": [
       "<div>\n",
       "<style scoped>\n",
       "    .dataframe tbody tr th:only-of-type {\n",
       "        vertical-align: middle;\n",
       "    }\n",
       "\n",
       "    .dataframe tbody tr th {\n",
       "        vertical-align: top;\n",
       "    }\n",
       "\n",
       "    .dataframe thead th {\n",
       "        text-align: right;\n",
       "    }\n",
       "</style>\n",
       "<table border=\"1\" class=\"dataframe\">\n",
       "  <thead>\n",
       "    <tr style=\"text-align: right;\">\n",
       "      <th></th>\n",
       "      <th>YEAR</th>\n",
       "      <th>QUARTER</th>\n",
       "      <th>MONTH</th>\n",
       "      <th>DAY_OF_MONTH</th>\n",
       "      <th>DAY_OF_WEEK</th>\n",
       "      <th>FL_DATE</th>\n",
       "      <th>CARRIER</th>\n",
       "      <th>FL_NUM</th>\n",
       "      <th>Route</th>\n",
       "      <th>ORIGIN</th>\n",
       "      <th>...</th>\n",
       "      <th>NAS_DELAY</th>\n",
       "      <th>SECURITY_DELAY</th>\n",
       "      <th>LATE_AIRCRAFT_DELAY</th>\n",
       "      <th>PASSENGERS</th>\n",
       "      <th>EMPFULL</th>\n",
       "      <th>EMPPART</th>\n",
       "      <th>EMPTOTAL</th>\n",
       "      <th>EMPFTE</th>\n",
       "      <th>NET_INCOME</th>\n",
       "      <th>OP_REVENUES</th>\n",
       "    </tr>\n",
       "  </thead>\n",
       "  <tbody>\n",
       "    <tr>\n",
       "      <th>0</th>\n",
       "      <td>2018</td>\n",
       "      <td>1</td>\n",
       "      <td>1</td>\n",
       "      <td>3</td>\n",
       "      <td>3</td>\n",
       "      <td>2018-01-03</td>\n",
       "      <td>G4</td>\n",
       "      <td>1775</td>\n",
       "      <td>5</td>\n",
       "      <td>ABE</td>\n",
       "      <td>...</td>\n",
       "      <td>43.0</td>\n",
       "      <td>0.0</td>\n",
       "      <td>0.0</td>\n",
       "      <td>1345.0</td>\n",
       "      <td>3541.0</td>\n",
       "      <td>415.0</td>\n",
       "      <td>3956.0</td>\n",
       "      <td>3749.0</td>\n",
       "      <td>71091.85</td>\n",
       "      <td>412680.86</td>\n",
       "    </tr>\n",
       "    <tr>\n",
       "      <th>1</th>\n",
       "      <td>2018</td>\n",
       "      <td>1</td>\n",
       "      <td>1</td>\n",
       "      <td>6</td>\n",
       "      <td>6</td>\n",
       "      <td>2018-01-06</td>\n",
       "      <td>G4</td>\n",
       "      <td>1775</td>\n",
       "      <td>5</td>\n",
       "      <td>ABE</td>\n",
       "      <td>...</td>\n",
       "      <td>0.0</td>\n",
       "      <td>0.0</td>\n",
       "      <td>11.0</td>\n",
       "      <td>1345.0</td>\n",
       "      <td>3541.0</td>\n",
       "      <td>415.0</td>\n",
       "      <td>3956.0</td>\n",
       "      <td>3749.0</td>\n",
       "      <td>71091.85</td>\n",
       "      <td>412680.86</td>\n",
       "    </tr>\n",
       "    <tr>\n",
       "      <th>2</th>\n",
       "      <td>2018</td>\n",
       "      <td>1</td>\n",
       "      <td>1</td>\n",
       "      <td>10</td>\n",
       "      <td>3</td>\n",
       "      <td>2018-01-10</td>\n",
       "      <td>G4</td>\n",
       "      <td>1775</td>\n",
       "      <td>5</td>\n",
       "      <td>ABE</td>\n",
       "      <td>...</td>\n",
       "      <td>NaN</td>\n",
       "      <td>NaN</td>\n",
       "      <td>NaN</td>\n",
       "      <td>1345.0</td>\n",
       "      <td>3541.0</td>\n",
       "      <td>415.0</td>\n",
       "      <td>3956.0</td>\n",
       "      <td>3749.0</td>\n",
       "      <td>71091.85</td>\n",
       "      <td>412680.86</td>\n",
       "    </tr>\n",
       "    <tr>\n",
       "      <th>3</th>\n",
       "      <td>2018</td>\n",
       "      <td>1</td>\n",
       "      <td>1</td>\n",
       "      <td>13</td>\n",
       "      <td>6</td>\n",
       "      <td>2018-01-13</td>\n",
       "      <td>G4</td>\n",
       "      <td>1775</td>\n",
       "      <td>5</td>\n",
       "      <td>ABE</td>\n",
       "      <td>...</td>\n",
       "      <td>15.0</td>\n",
       "      <td>0.0</td>\n",
       "      <td>0.0</td>\n",
       "      <td>1345.0</td>\n",
       "      <td>3541.0</td>\n",
       "      <td>415.0</td>\n",
       "      <td>3956.0</td>\n",
       "      <td>3749.0</td>\n",
       "      <td>71091.85</td>\n",
       "      <td>412680.86</td>\n",
       "    </tr>\n",
       "    <tr>\n",
       "      <th>4</th>\n",
       "      <td>2018</td>\n",
       "      <td>1</td>\n",
       "      <td>1</td>\n",
       "      <td>17</td>\n",
       "      <td>3</td>\n",
       "      <td>2018-01-17</td>\n",
       "      <td>G4</td>\n",
       "      <td>1775</td>\n",
       "      <td>5</td>\n",
       "      <td>ABE</td>\n",
       "      <td>...</td>\n",
       "      <td>32.0</td>\n",
       "      <td>0.0</td>\n",
       "      <td>89.0</td>\n",
       "      <td>1345.0</td>\n",
       "      <td>3541.0</td>\n",
       "      <td>415.0</td>\n",
       "      <td>3956.0</td>\n",
       "      <td>3749.0</td>\n",
       "      <td>71091.85</td>\n",
       "      <td>412680.86</td>\n",
       "    </tr>\n",
       "    <tr>\n",
       "      <th>...</th>\n",
       "      <td>...</td>\n",
       "      <td>...</td>\n",
       "      <td>...</td>\n",
       "      <td>...</td>\n",
       "      <td>...</td>\n",
       "      <td>...</td>\n",
       "      <td>...</td>\n",
       "      <td>...</td>\n",
       "      <td>...</td>\n",
       "      <td>...</td>\n",
       "      <td>...</td>\n",
       "      <td>...</td>\n",
       "      <td>...</td>\n",
       "      <td>...</td>\n",
       "      <td>...</td>\n",
       "      <td>...</td>\n",
       "      <td>...</td>\n",
       "      <td>...</td>\n",
       "      <td>...</td>\n",
       "      <td>...</td>\n",
       "      <td>...</td>\n",
       "    </tr>\n",
       "    <tr>\n",
       "      <th>150346</th>\n",
       "      <td>2019</td>\n",
       "      <td>2</td>\n",
       "      <td>6</td>\n",
       "      <td>24</td>\n",
       "      <td>1</td>\n",
       "      <td>2019-06-24</td>\n",
       "      <td>G4</td>\n",
       "      <td>1976</td>\n",
       "      <td>6678</td>\n",
       "      <td>XNA</td>\n",
       "      <td>...</td>\n",
       "      <td>NaN</td>\n",
       "      <td>NaN</td>\n",
       "      <td>NaN</td>\n",
       "      <td>2705.0</td>\n",
       "      <td>3729.0</td>\n",
       "      <td>462.0</td>\n",
       "      <td>4191.0</td>\n",
       "      <td>3960.0</td>\n",
       "      <td>91340.63</td>\n",
       "      <td>466845.71</td>\n",
       "    </tr>\n",
       "    <tr>\n",
       "      <th>150347</th>\n",
       "      <td>2019</td>\n",
       "      <td>2</td>\n",
       "      <td>6</td>\n",
       "      <td>25</td>\n",
       "      <td>2</td>\n",
       "      <td>2019-06-25</td>\n",
       "      <td>G4</td>\n",
       "      <td>1976</td>\n",
       "      <td>6678</td>\n",
       "      <td>XNA</td>\n",
       "      <td>...</td>\n",
       "      <td>NaN</td>\n",
       "      <td>NaN</td>\n",
       "      <td>NaN</td>\n",
       "      <td>2705.0</td>\n",
       "      <td>3729.0</td>\n",
       "      <td>462.0</td>\n",
       "      <td>4191.0</td>\n",
       "      <td>3960.0</td>\n",
       "      <td>91340.63</td>\n",
       "      <td>466845.71</td>\n",
       "    </tr>\n",
       "    <tr>\n",
       "      <th>150348</th>\n",
       "      <td>2019</td>\n",
       "      <td>2</td>\n",
       "      <td>6</td>\n",
       "      <td>26</td>\n",
       "      <td>3</td>\n",
       "      <td>2019-06-26</td>\n",
       "      <td>G4</td>\n",
       "      <td>1913</td>\n",
       "      <td>6678</td>\n",
       "      <td>XNA</td>\n",
       "      <td>...</td>\n",
       "      <td>NaN</td>\n",
       "      <td>NaN</td>\n",
       "      <td>NaN</td>\n",
       "      <td>2705.0</td>\n",
       "      <td>3729.0</td>\n",
       "      <td>462.0</td>\n",
       "      <td>4191.0</td>\n",
       "      <td>3960.0</td>\n",
       "      <td>91340.63</td>\n",
       "      <td>466845.71</td>\n",
       "    </tr>\n",
       "    <tr>\n",
       "      <th>150349</th>\n",
       "      <td>2019</td>\n",
       "      <td>2</td>\n",
       "      <td>6</td>\n",
       "      <td>28</td>\n",
       "      <td>5</td>\n",
       "      <td>2019-06-28</td>\n",
       "      <td>G4</td>\n",
       "      <td>1976</td>\n",
       "      <td>6678</td>\n",
       "      <td>XNA</td>\n",
       "      <td>...</td>\n",
       "      <td>NaN</td>\n",
       "      <td>NaN</td>\n",
       "      <td>NaN</td>\n",
       "      <td>2705.0</td>\n",
       "      <td>3729.0</td>\n",
       "      <td>462.0</td>\n",
       "      <td>4191.0</td>\n",
       "      <td>3960.0</td>\n",
       "      <td>91340.63</td>\n",
       "      <td>466845.71</td>\n",
       "    </tr>\n",
       "    <tr>\n",
       "      <th>150350</th>\n",
       "      <td>2019</td>\n",
       "      <td>2</td>\n",
       "      <td>6</td>\n",
       "      <td>29</td>\n",
       "      <td>6</td>\n",
       "      <td>2019-06-29</td>\n",
       "      <td>G4</td>\n",
       "      <td>1976</td>\n",
       "      <td>6678</td>\n",
       "      <td>XNA</td>\n",
       "      <td>...</td>\n",
       "      <td>NaN</td>\n",
       "      <td>NaN</td>\n",
       "      <td>NaN</td>\n",
       "      <td>2705.0</td>\n",
       "      <td>3729.0</td>\n",
       "      <td>462.0</td>\n",
       "      <td>4191.0</td>\n",
       "      <td>3960.0</td>\n",
       "      <td>91340.63</td>\n",
       "      <td>466845.71</td>\n",
       "    </tr>\n",
       "  </tbody>\n",
       "</table>\n",
       "<p>150351 rows × 50 columns</p>\n",
       "</div>"
      ],
      "text/plain": [
       "        YEAR  QUARTER  MONTH  DAY_OF_MONTH  DAY_OF_WEEK     FL_DATE CARRIER  \\\n",
       "0       2018        1      1             3            3  2018-01-03      G4   \n",
       "1       2018        1      1             6            6  2018-01-06      G4   \n",
       "2       2018        1      1            10            3  2018-01-10      G4   \n",
       "3       2018        1      1            13            6  2018-01-13      G4   \n",
       "4       2018        1      1            17            3  2018-01-17      G4   \n",
       "...      ...      ...    ...           ...          ...         ...     ...   \n",
       "150346  2019        2      6            24            1  2019-06-24      G4   \n",
       "150347  2019        2      6            25            2  2019-06-25      G4   \n",
       "150348  2019        2      6            26            3  2019-06-26      G4   \n",
       "150349  2019        2      6            28            5  2019-06-28      G4   \n",
       "150350  2019        2      6            29            6  2019-06-29      G4   \n",
       "\n",
       "        FL_NUM  Route ORIGIN  ... NAS_DELAY SECURITY_DELAY  \\\n",
       "0         1775      5    ABE  ...      43.0            0.0   \n",
       "1         1775      5    ABE  ...       0.0            0.0   \n",
       "2         1775      5    ABE  ...       NaN            NaN   \n",
       "3         1775      5    ABE  ...      15.0            0.0   \n",
       "4         1775      5    ABE  ...      32.0            0.0   \n",
       "...        ...    ...    ...  ...       ...            ...   \n",
       "150346    1976   6678    XNA  ...       NaN            NaN   \n",
       "150347    1976   6678    XNA  ...       NaN            NaN   \n",
       "150348    1913   6678    XNA  ...       NaN            NaN   \n",
       "150349    1976   6678    XNA  ...       NaN            NaN   \n",
       "150350    1976   6678    XNA  ...       NaN            NaN   \n",
       "\n",
       "       LATE_AIRCRAFT_DELAY  PASSENGERS  EMPFULL  EMPPART  EMPTOTAL  EMPFTE  \\\n",
       "0                      0.0      1345.0   3541.0    415.0    3956.0  3749.0   \n",
       "1                     11.0      1345.0   3541.0    415.0    3956.0  3749.0   \n",
       "2                      NaN      1345.0   3541.0    415.0    3956.0  3749.0   \n",
       "3                      0.0      1345.0   3541.0    415.0    3956.0  3749.0   \n",
       "4                     89.0      1345.0   3541.0    415.0    3956.0  3749.0   \n",
       "...                    ...         ...      ...      ...       ...     ...   \n",
       "150346                 NaN      2705.0   3729.0    462.0    4191.0  3960.0   \n",
       "150347                 NaN      2705.0   3729.0    462.0    4191.0  3960.0   \n",
       "150348                 NaN      2705.0   3729.0    462.0    4191.0  3960.0   \n",
       "150349                 NaN      2705.0   3729.0    462.0    4191.0  3960.0   \n",
       "150350                 NaN      2705.0   3729.0    462.0    4191.0  3960.0   \n",
       "\n",
       "        NET_INCOME OP_REVENUES  \n",
       "0         71091.85   412680.86  \n",
       "1         71091.85   412680.86  \n",
       "2         71091.85   412680.86  \n",
       "3         71091.85   412680.86  \n",
       "4         71091.85   412680.86  \n",
       "...            ...         ...  \n",
       "150346    91340.63   466845.71  \n",
       "150347    91340.63   466845.71  \n",
       "150348    91340.63   466845.71  \n",
       "150349    91340.63   466845.71  \n",
       "150350    91340.63   466845.71  \n",
       "\n",
       "[150351 rows x 50 columns]"
      ]
     },
     "execution_count": 3,
     "metadata": {},
     "output_type": "execute_result"
    }
   ],
   "source": [
    "df=df.drop(columns=['Unnamed: 0'])\n",
    "df"
   ]
  },
  {
   "cell_type": "code",
   "execution_count": 4,
   "metadata": {},
   "outputs": [
    {
     "data": {
      "text/plain": [
       "YEAR                        0\n",
       "QUARTER                     0\n",
       "MONTH                       0\n",
       "DAY_OF_MONTH                0\n",
       "DAY_OF_WEEK                 0\n",
       "FL_DATE                     0\n",
       "CARRIER                     0\n",
       "FL_NUM                      0\n",
       "Route                       0\n",
       "ORIGIN                      0\n",
       "DEST                        0\n",
       "DEST_CITY                   0\n",
       "DEST_STATE                  0\n",
       "CRS_DEP_TIME                0\n",
       "DEP_TIME                 1017\n",
       "DEP_DELAY                1050\n",
       "DEP_DELAY_NEW            1050\n",
       "DEP_DEL15                1050\n",
       "DEP_DELAY_GROUP          1050\n",
       "DEP_TIME_BLK                0\n",
       "TAXI_OUT                 1050\n",
       "WHEELS_OFF               1050\n",
       "WHEELS_ON                1145\n",
       "TAXI_IN                  1145\n",
       "CRS_ARR_TIME                0\n",
       "ARR_TIME                 1145\n",
       "ARR_DELAY                1503\n",
       "ARR_DELAY_NEW            1503\n",
       "ARR_DEL15                1503\n",
       "ARR_DELAY_GROUP          1503\n",
       "ARR_TIME_BLK                0\n",
       "CANCELED                    0\n",
       "CANCELLATION_CODE      149265\n",
       "DIVERTED                    0\n",
       "CRS_ELAPSED_TIME            0\n",
       "ACTUAL_ELAPSED_TIME      1503\n",
       "AIR_TIME                 1503\n",
       "DISTANCE                    0\n",
       "CARRIER_DELAY          117818\n",
       "WEATHER_DELAY          117818\n",
       "NAS_DELAY              117818\n",
       "SECURITY_DELAY         117818\n",
       "LATE_AIRCRAFT_DELAY    117818\n",
       "PASSENGERS                 49\n",
       "EMPFULL                    49\n",
       "EMPPART                    49\n",
       "EMPTOTAL                   49\n",
       "EMPFTE                     49\n",
       "NET_INCOME                 49\n",
       "OP_REVENUES                49\n",
       "dtype: int64"
      ]
     },
     "execution_count": 4,
     "metadata": {},
     "output_type": "execute_result"
    }
   ],
   "source": [
    "#checking for null values\n",
    "df.isna().sum()"
   ]
  },
  {
   "cell_type": "code",
   "execution_count": 5,
   "metadata": {},
   "outputs": [],
   "source": [
    "#dropping null values from columns within the dataset\n",
    "df=df.dropna(subset=['ARR_DEL15'])"
   ]
  },
  {
   "cell_type": "code",
   "execution_count": 6,
   "metadata": {},
   "outputs": [],
   "source": [
    "#Imputing the missing values with 0 since the null values represent no delay\n",
    "df=df.fillna(0)"
   ]
  },
  {
   "cell_type": "code",
   "execution_count": 7,
   "metadata": {
    "scrolled": true
   },
   "outputs": [
    {
     "data": {
      "text/plain": [
       "2621"
      ]
     },
     "execution_count": 7,
     "metadata": {},
     "output_type": "execute_result"
    }
   ],
   "source": [
    "#checking number of Allegiant Air Flights for the year 2018 and 2019\n",
    "df['FL_NUM'].nunique()"
   ]
  },
  {
   "cell_type": "markdown",
   "metadata": {},
   "source": [
    "# Categorical encoding of Nominal Variables"
   ]
  },
  {
   "cell_type": "code",
   "execution_count": 8,
   "metadata": {},
   "outputs": [
    {
     "data": {
      "text/html": [
       "<div>\n",
       "<style scoped>\n",
       "    .dataframe tbody tr th:only-of-type {\n",
       "        vertical-align: middle;\n",
       "    }\n",
       "\n",
       "    .dataframe tbody tr th {\n",
       "        vertical-align: top;\n",
       "    }\n",
       "\n",
       "    .dataframe thead th {\n",
       "        text-align: right;\n",
       "    }\n",
       "</style>\n",
       "<table border=\"1\" class=\"dataframe\">\n",
       "  <thead>\n",
       "    <tr style=\"text-align: right;\">\n",
       "      <th></th>\n",
       "      <th>YEAR</th>\n",
       "      <th>QUARTER</th>\n",
       "      <th>MONTH</th>\n",
       "      <th>DAY_OF_MONTH</th>\n",
       "      <th>DAY_OF_WEEK</th>\n",
       "      <th>FL_DATE</th>\n",
       "      <th>CARRIER_0</th>\n",
       "      <th>FL_NUM_0</th>\n",
       "      <th>FL_NUM_1</th>\n",
       "      <th>FL_NUM_2</th>\n",
       "      <th>...</th>\n",
       "      <th>NAS_DELAY</th>\n",
       "      <th>SECURITY_DELAY</th>\n",
       "      <th>LATE_AIRCRAFT_DELAY</th>\n",
       "      <th>PASSENGERS</th>\n",
       "      <th>EMPFULL</th>\n",
       "      <th>EMPPART</th>\n",
       "      <th>EMPTOTAL</th>\n",
       "      <th>EMPFTE</th>\n",
       "      <th>NET_INCOME</th>\n",
       "      <th>OP_REVENUES</th>\n",
       "    </tr>\n",
       "  </thead>\n",
       "  <tbody>\n",
       "    <tr>\n",
       "      <th>0</th>\n",
       "      <td>2018</td>\n",
       "      <td>1</td>\n",
       "      <td>1</td>\n",
       "      <td>3</td>\n",
       "      <td>3</td>\n",
       "      <td>2018-01-03</td>\n",
       "      <td>1</td>\n",
       "      <td>0</td>\n",
       "      <td>0</td>\n",
       "      <td>0</td>\n",
       "      <td>...</td>\n",
       "      <td>43.0</td>\n",
       "      <td>0.0</td>\n",
       "      <td>0.0</td>\n",
       "      <td>1345.0</td>\n",
       "      <td>3541.0</td>\n",
       "      <td>415.0</td>\n",
       "      <td>3956.0</td>\n",
       "      <td>3749.0</td>\n",
       "      <td>71091.85</td>\n",
       "      <td>412680.86</td>\n",
       "    </tr>\n",
       "    <tr>\n",
       "      <th>1</th>\n",
       "      <td>2018</td>\n",
       "      <td>1</td>\n",
       "      <td>1</td>\n",
       "      <td>6</td>\n",
       "      <td>6</td>\n",
       "      <td>2018-01-06</td>\n",
       "      <td>1</td>\n",
       "      <td>0</td>\n",
       "      <td>0</td>\n",
       "      <td>0</td>\n",
       "      <td>...</td>\n",
       "      <td>0.0</td>\n",
       "      <td>0.0</td>\n",
       "      <td>11.0</td>\n",
       "      <td>1345.0</td>\n",
       "      <td>3541.0</td>\n",
       "      <td>415.0</td>\n",
       "      <td>3956.0</td>\n",
       "      <td>3749.0</td>\n",
       "      <td>71091.85</td>\n",
       "      <td>412680.86</td>\n",
       "    </tr>\n",
       "    <tr>\n",
       "      <th>2</th>\n",
       "      <td>2018</td>\n",
       "      <td>1</td>\n",
       "      <td>1</td>\n",
       "      <td>10</td>\n",
       "      <td>3</td>\n",
       "      <td>2018-01-10</td>\n",
       "      <td>1</td>\n",
       "      <td>0</td>\n",
       "      <td>0</td>\n",
       "      <td>0</td>\n",
       "      <td>...</td>\n",
       "      <td>0.0</td>\n",
       "      <td>0.0</td>\n",
       "      <td>0.0</td>\n",
       "      <td>1345.0</td>\n",
       "      <td>3541.0</td>\n",
       "      <td>415.0</td>\n",
       "      <td>3956.0</td>\n",
       "      <td>3749.0</td>\n",
       "      <td>71091.85</td>\n",
       "      <td>412680.86</td>\n",
       "    </tr>\n",
       "    <tr>\n",
       "      <th>3</th>\n",
       "      <td>2018</td>\n",
       "      <td>1</td>\n",
       "      <td>1</td>\n",
       "      <td>13</td>\n",
       "      <td>6</td>\n",
       "      <td>2018-01-13</td>\n",
       "      <td>1</td>\n",
       "      <td>0</td>\n",
       "      <td>0</td>\n",
       "      <td>0</td>\n",
       "      <td>...</td>\n",
       "      <td>15.0</td>\n",
       "      <td>0.0</td>\n",
       "      <td>0.0</td>\n",
       "      <td>1345.0</td>\n",
       "      <td>3541.0</td>\n",
       "      <td>415.0</td>\n",
       "      <td>3956.0</td>\n",
       "      <td>3749.0</td>\n",
       "      <td>71091.85</td>\n",
       "      <td>412680.86</td>\n",
       "    </tr>\n",
       "    <tr>\n",
       "      <th>4</th>\n",
       "      <td>2018</td>\n",
       "      <td>1</td>\n",
       "      <td>1</td>\n",
       "      <td>17</td>\n",
       "      <td>3</td>\n",
       "      <td>2018-01-17</td>\n",
       "      <td>1</td>\n",
       "      <td>0</td>\n",
       "      <td>0</td>\n",
       "      <td>0</td>\n",
       "      <td>...</td>\n",
       "      <td>32.0</td>\n",
       "      <td>0.0</td>\n",
       "      <td>89.0</td>\n",
       "      <td>1345.0</td>\n",
       "      <td>3541.0</td>\n",
       "      <td>415.0</td>\n",
       "      <td>3956.0</td>\n",
       "      <td>3749.0</td>\n",
       "      <td>71091.85</td>\n",
       "      <td>412680.86</td>\n",
       "    </tr>\n",
       "  </tbody>\n",
       "</table>\n",
       "<p>5 rows × 76 columns</p>\n",
       "</div>"
      ],
      "text/plain": [
       "   YEAR  QUARTER  MONTH  DAY_OF_MONTH  DAY_OF_WEEK     FL_DATE  CARRIER_0  \\\n",
       "0  2018        1      1             3            3  2018-01-03          1   \n",
       "1  2018        1      1             6            6  2018-01-06          1   \n",
       "2  2018        1      1            10            3  2018-01-10          1   \n",
       "3  2018        1      1            13            6  2018-01-13          1   \n",
       "4  2018        1      1            17            3  2018-01-17          1   \n",
       "\n",
       "   FL_NUM_0  FL_NUM_1  FL_NUM_2  ...  NAS_DELAY  SECURITY_DELAY  \\\n",
       "0         0         0         0  ...       43.0             0.0   \n",
       "1         0         0         0  ...        0.0             0.0   \n",
       "2         0         0         0  ...        0.0             0.0   \n",
       "3         0         0         0  ...       15.0             0.0   \n",
       "4         0         0         0  ...       32.0             0.0   \n",
       "\n",
       "   LATE_AIRCRAFT_DELAY  PASSENGERS  EMPFULL  EMPPART  EMPTOTAL  EMPFTE  \\\n",
       "0                  0.0      1345.0   3541.0    415.0    3956.0  3749.0   \n",
       "1                 11.0      1345.0   3541.0    415.0    3956.0  3749.0   \n",
       "2                  0.0      1345.0   3541.0    415.0    3956.0  3749.0   \n",
       "3                  0.0      1345.0   3541.0    415.0    3956.0  3749.0   \n",
       "4                 89.0      1345.0   3541.0    415.0    3956.0  3749.0   \n",
       "\n",
       "   NET_INCOME  OP_REVENUES  \n",
       "0    71091.85    412680.86  \n",
       "1    71091.85    412680.86  \n",
       "2    71091.85    412680.86  \n",
       "3    71091.85    412680.86  \n",
       "4    71091.85    412680.86  \n",
       "\n",
       "[5 rows x 76 columns]"
      ]
     },
     "execution_count": 8,
     "metadata": {},
     "output_type": "execute_result"
    }
   ],
   "source": [
    "import category_encoders as ce\n",
    "\n",
    "encoder = ce.BinaryEncoder(cols=['CARRIER','ORIGIN','DEST','FL_NUM'])\n",
    "df = encoder.fit_transform(df)\n",
    "\n",
    "df.head()"
   ]
  },
  {
   "cell_type": "code",
   "execution_count": 9,
   "metadata": {},
   "outputs": [
    {
     "data": {
      "text/plain": [
       "Index(['YEAR', 'QUARTER', 'MONTH', 'DAY_OF_MONTH', 'DAY_OF_WEEK', 'FL_DATE',\n",
       "       'CARRIER_0', 'FL_NUM_0', 'FL_NUM_1', 'FL_NUM_2', 'FL_NUM_3', 'FL_NUM_4',\n",
       "       'FL_NUM_5', 'FL_NUM_6', 'FL_NUM_7', 'FL_NUM_8', 'FL_NUM_9', 'FL_NUM_10',\n",
       "       'FL_NUM_11', 'FL_NUM_12', 'Route', 'ORIGIN_0', 'ORIGIN_1', 'ORIGIN_2',\n",
       "       'ORIGIN_3', 'ORIGIN_4', 'ORIGIN_5', 'ORIGIN_6', 'ORIGIN_7', 'DEST_0',\n",
       "       'DEST_1', 'DEST_2', 'DEST_3', 'DEST_4', 'DEST_5', 'DEST_6', 'DEST_7',\n",
       "       'DEST_CITY', 'DEST_STATE', 'CRS_DEP_TIME', 'DEP_TIME', 'DEP_DELAY',\n",
       "       'DEP_DELAY_NEW', 'DEP_DEL15', 'DEP_DELAY_GROUP', 'DEP_TIME_BLK',\n",
       "       'TAXI_OUT', 'WHEELS_OFF', 'WHEELS_ON', 'TAXI_IN', 'CRS_ARR_TIME',\n",
       "       'ARR_TIME', 'ARR_DELAY', 'ARR_DELAY_NEW', 'ARR_DEL15',\n",
       "       'ARR_DELAY_GROUP', 'ARR_TIME_BLK', 'CANCELED', 'CANCELLATION_CODE',\n",
       "       'DIVERTED', 'CRS_ELAPSED_TIME', 'ACTUAL_ELAPSED_TIME', 'AIR_TIME',\n",
       "       'DISTANCE', 'CARRIER_DELAY', 'WEATHER_DELAY', 'NAS_DELAY',\n",
       "       'SECURITY_DELAY', 'LATE_AIRCRAFT_DELAY', 'PASSENGERS', 'EMPFULL',\n",
       "       'EMPPART', 'EMPTOTAL', 'EMPFTE', 'NET_INCOME', 'OP_REVENUES'],\n",
       "      dtype='object')"
      ]
     },
     "execution_count": 9,
     "metadata": {},
     "output_type": "execute_result"
    }
   ],
   "source": [
    "#checking columns for consistency\n",
    "df.columns"
   ]
  },
  {
   "cell_type": "code",
   "execution_count": 10,
   "metadata": {},
   "outputs": [
    {
     "data": {
      "text/plain": [
       "array([1215, 1215, 1215, ..., 1819, 1714, 1500], dtype=int64)"
      ]
     },
     "execution_count": 10,
     "metadata": {},
     "output_type": "execute_result"
    }
   ],
   "source": [
    "df['CRS_ARR_TIME'].values"
   ]
  },
  {
   "cell_type": "code",
   "execution_count": 30,
   "metadata": {},
   "outputs": [
    {
     "data": {
      "text/html": [
       "<div>\n",
       "<style scoped>\n",
       "    .dataframe tbody tr th:only-of-type {\n",
       "        vertical-align: middle;\n",
       "    }\n",
       "\n",
       "    .dataframe tbody tr th {\n",
       "        vertical-align: top;\n",
       "    }\n",
       "\n",
       "    .dataframe thead th {\n",
       "        text-align: right;\n",
       "    }\n",
       "</style>\n",
       "<table border=\"1\" class=\"dataframe\">\n",
       "  <thead>\n",
       "    <tr style=\"text-align: right;\">\n",
       "      <th></th>\n",
       "      <th>CRS_ARR_TIME</th>\n",
       "      <th>ARR_DELAY</th>\n",
       "    </tr>\n",
       "  </thead>\n",
       "  <tbody>\n",
       "    <tr>\n",
       "      <th>CRS_ARR_TIME</th>\n",
       "      <td>1.000000</td>\n",
       "      <td>0.117043</td>\n",
       "    </tr>\n",
       "    <tr>\n",
       "      <th>ARR_DELAY</th>\n",
       "      <td>0.117043</td>\n",
       "      <td>1.000000</td>\n",
       "    </tr>\n",
       "  </tbody>\n",
       "</table>\n",
       "</div>"
      ],
      "text/plain": [
       "              CRS_ARR_TIME  ARR_DELAY\n",
       "CRS_ARR_TIME      1.000000   0.117043\n",
       "ARR_DELAY         0.117043   1.000000"
      ]
     },
     "execution_count": 30,
     "metadata": {},
     "output_type": "execute_result"
    }
   ],
   "source": [
    "#checking correlation among variables to steer better feature selection\n",
    "df[['CRS_ARR_TIME','ARR_DELAY']].corr()"
   ]
  },
  {
   "cell_type": "code",
   "execution_count": 48,
   "metadata": {},
   "outputs": [
    {
     "data": {
      "text/html": [
       "<div>\n",
       "<style scoped>\n",
       "    .dataframe tbody tr th:only-of-type {\n",
       "        vertical-align: middle;\n",
       "    }\n",
       "\n",
       "    .dataframe tbody tr th {\n",
       "        vertical-align: top;\n",
       "    }\n",
       "\n",
       "    .dataframe thead th {\n",
       "        text-align: right;\n",
       "    }\n",
       "</style>\n",
       "<table border=\"1\" class=\"dataframe\">\n",
       "  <thead>\n",
       "    <tr style=\"text-align: right;\">\n",
       "      <th></th>\n",
       "      <th>PASSENGERS</th>\n",
       "      <th>ARR_DELAY</th>\n",
       "    </tr>\n",
       "  </thead>\n",
       "  <tbody>\n",
       "    <tr>\n",
       "      <th>PASSENGERS</th>\n",
       "      <td>1.000000</td>\n",
       "      <td>-0.004537</td>\n",
       "    </tr>\n",
       "    <tr>\n",
       "      <th>ARR_DELAY</th>\n",
       "      <td>-0.004537</td>\n",
       "      <td>1.000000</td>\n",
       "    </tr>\n",
       "  </tbody>\n",
       "</table>\n",
       "</div>"
      ],
      "text/plain": [
       "            PASSENGERS  ARR_DELAY\n",
       "PASSENGERS    1.000000  -0.004537\n",
       "ARR_DELAY    -0.004537   1.000000"
      ]
     },
     "execution_count": 48,
     "metadata": {},
     "output_type": "execute_result"
    }
   ],
   "source": [
    "df[['PASSENGERS','ARR_DELAY']].corr()"
   ]
  },
  {
   "cell_type": "markdown",
   "metadata": {},
   "source": [
    "# Categorical Encoding for Ordinal Variables"
   ]
  },
  {
   "cell_type": "code",
   "execution_count": 11,
   "metadata": {},
   "outputs": [
    {
     "name": "stdout",
     "output_type": "stream",
     "text": [
      "<class 'pandas.core.frame.DataFrame'>\n",
      "Int64Index: 148848 entries, 0 to 150350\n",
      "Data columns (total 76 columns):\n",
      " #   Column               Non-Null Count   Dtype  \n",
      "---  ------               --------------   -----  \n",
      " 0   YEAR                 148848 non-null  int64  \n",
      " 1   QUARTER              148848 non-null  int64  \n",
      " 2   MONTH                148848 non-null  int64  \n",
      " 3   DAY_OF_MONTH         148848 non-null  int64  \n",
      " 4   DAY_OF_WEEK          148848 non-null  int64  \n",
      " 5   FL_DATE              148848 non-null  object \n",
      " 6   CARRIER_0            148848 non-null  int64  \n",
      " 7   FL_NUM_0             148848 non-null  int64  \n",
      " 8   FL_NUM_1             148848 non-null  int64  \n",
      " 9   FL_NUM_2             148848 non-null  int64  \n",
      " 10  FL_NUM_3             148848 non-null  int64  \n",
      " 11  FL_NUM_4             148848 non-null  int64  \n",
      " 12  FL_NUM_5             148848 non-null  int64  \n",
      " 13  FL_NUM_6             148848 non-null  int64  \n",
      " 14  FL_NUM_7             148848 non-null  int64  \n",
      " 15  FL_NUM_8             148848 non-null  int64  \n",
      " 16  FL_NUM_9             148848 non-null  int64  \n",
      " 17  FL_NUM_10            148848 non-null  int64  \n",
      " 18  FL_NUM_11            148848 non-null  int64  \n",
      " 19  FL_NUM_12            148848 non-null  int64  \n",
      " 20  Route                148848 non-null  int64  \n",
      " 21  ORIGIN_0             148848 non-null  int64  \n",
      " 22  ORIGIN_1             148848 non-null  int64  \n",
      " 23  ORIGIN_2             148848 non-null  int64  \n",
      " 24  ORIGIN_3             148848 non-null  int64  \n",
      " 25  ORIGIN_4             148848 non-null  int64  \n",
      " 26  ORIGIN_5             148848 non-null  int64  \n",
      " 27  ORIGIN_6             148848 non-null  int64  \n",
      " 28  ORIGIN_7             148848 non-null  int64  \n",
      " 29  DEST_0               148848 non-null  int64  \n",
      " 30  DEST_1               148848 non-null  int64  \n",
      " 31  DEST_2               148848 non-null  int64  \n",
      " 32  DEST_3               148848 non-null  int64  \n",
      " 33  DEST_4               148848 non-null  int64  \n",
      " 34  DEST_5               148848 non-null  int64  \n",
      " 35  DEST_6               148848 non-null  int64  \n",
      " 36  DEST_7               148848 non-null  int64  \n",
      " 37  DEST_CITY            148848 non-null  object \n",
      " 38  DEST_STATE           148848 non-null  object \n",
      " 39  CRS_DEP_TIME         148848 non-null  int64  \n",
      " 40  DEP_TIME             148848 non-null  float64\n",
      " 41  DEP_DELAY            148848 non-null  float64\n",
      " 42  DEP_DELAY_NEW        148848 non-null  float64\n",
      " 43  DEP_DEL15            148848 non-null  float64\n",
      " 44  DEP_DELAY_GROUP      148848 non-null  float64\n",
      " 45  DEP_TIME_BLK         148848 non-null  object \n",
      " 46  TAXI_OUT             148848 non-null  float64\n",
      " 47  WHEELS_OFF           148848 non-null  float64\n",
      " 48  WHEELS_ON            148848 non-null  float64\n",
      " 49  TAXI_IN              148848 non-null  float64\n",
      " 50  CRS_ARR_TIME         148848 non-null  int64  \n",
      " 51  ARR_TIME             148848 non-null  float64\n",
      " 52  ARR_DELAY            148848 non-null  float64\n",
      " 53  ARR_DELAY_NEW        148848 non-null  float64\n",
      " 54  ARR_DEL15            148848 non-null  float64\n",
      " 55  ARR_DELAY_GROUP      148848 non-null  float64\n",
      " 56  ARR_TIME_BLK         148848 non-null  object \n",
      " 57  CANCELED             148848 non-null  int64  \n",
      " 58  CANCELLATION_CODE    148848 non-null  int64  \n",
      " 59  DIVERTED             148848 non-null  int64  \n",
      " 60  CRS_ELAPSED_TIME     148848 non-null  float64\n",
      " 61  ACTUAL_ELAPSED_TIME  148848 non-null  float64\n",
      " 62  AIR_TIME             148848 non-null  float64\n",
      " 63  DISTANCE             148848 non-null  int64  \n",
      " 64  CARRIER_DELAY        148848 non-null  float64\n",
      " 65  WEATHER_DELAY        148848 non-null  float64\n",
      " 66  NAS_DELAY            148848 non-null  float64\n",
      " 67  SECURITY_DELAY       148848 non-null  float64\n",
      " 68  LATE_AIRCRAFT_DELAY  148848 non-null  float64\n",
      " 69  PASSENGERS           148848 non-null  float64\n",
      " 70  EMPFULL              148848 non-null  float64\n",
      " 71  EMPPART              148848 non-null  float64\n",
      " 72  EMPTOTAL             148848 non-null  float64\n",
      " 73  EMPFTE               148848 non-null  float64\n",
      " 74  NET_INCOME           148848 non-null  float64\n",
      " 75  OP_REVENUES          148848 non-null  float64\n",
      "dtypes: float64(29), int64(42), object(5)\n",
      "memory usage: 87.4+ MB\n"
     ]
    }
   ],
   "source": [
    "#Info method to get an overall overview of the dataframe \n",
    "df.info()"
   ]
  },
  {
   "cell_type": "code",
   "execution_count": 12,
   "metadata": {},
   "outputs": [],
   "source": [
    "#Used label encoding\n",
    "from sklearn.preprocessing import LabelEncoder\n",
    "labelencoder = LabelEncoder()\n",
    "df.iloc[:,39] = labelencoder.fit_transform(df.iloc[:,39].values)\n",
    "df.iloc[:,46] = labelencoder.fit_transform(df.iloc[:,46].values)\n",
    "df.iloc[:,47] = labelencoder.fit_transform(df.iloc[:,47].values)\n",
    "df.iloc[:,48] = labelencoder.fit_transform(df.iloc[:,48].values)\n",
    "df.iloc[:,49] = labelencoder.fit_transform(df.iloc[:,49].values)\n",
    "df.iloc[:,50] = labelencoder.fit_transform(df.iloc[:,50].values)"
   ]
  },
  {
   "cell_type": "code",
   "execution_count": 13,
   "metadata": {},
   "outputs": [
    {
     "data": {
      "text/plain": [
       "Index(['YEAR', 'QUARTER', 'MONTH', 'DAY_OF_MONTH', 'DAY_OF_WEEK', 'FL_DATE',\n",
       "       'CARRIER_0', 'FL_NUM_0', 'FL_NUM_1', 'FL_NUM_2', 'FL_NUM_3', 'FL_NUM_4',\n",
       "       'FL_NUM_5', 'FL_NUM_6', 'FL_NUM_7', 'FL_NUM_8', 'FL_NUM_9', 'FL_NUM_10',\n",
       "       'FL_NUM_11', 'FL_NUM_12', 'Route', 'ORIGIN_0', 'ORIGIN_1', 'ORIGIN_2',\n",
       "       'ORIGIN_3', 'ORIGIN_4', 'ORIGIN_5', 'ORIGIN_6', 'ORIGIN_7', 'DEST_0',\n",
       "       'DEST_1', 'DEST_2', 'DEST_3', 'DEST_4', 'DEST_5', 'DEST_6', 'DEST_7',\n",
       "       'DEST_CITY', 'DEST_STATE', 'CRS_DEP_TIME', 'DEP_TIME', 'DEP_DELAY',\n",
       "       'DEP_DELAY_NEW', 'DEP_DEL15', 'DEP_DELAY_GROUP', 'DEP_TIME_BLK',\n",
       "       'TAXI_OUT', 'WHEELS_OFF', 'WHEELS_ON', 'TAXI_IN', 'CRS_ARR_TIME',\n",
       "       'ARR_TIME', 'ARR_DELAY', 'ARR_DELAY_NEW', 'ARR_DEL15',\n",
       "       'ARR_DELAY_GROUP', 'ARR_TIME_BLK', 'CANCELED', 'CANCELLATION_CODE',\n",
       "       'DIVERTED', 'CRS_ELAPSED_TIME', 'ACTUAL_ELAPSED_TIME', 'AIR_TIME',\n",
       "       'DISTANCE', 'CARRIER_DELAY', 'WEATHER_DELAY', 'NAS_DELAY',\n",
       "       'SECURITY_DELAY', 'LATE_AIRCRAFT_DELAY', 'PASSENGERS', 'EMPFULL',\n",
       "       'EMPPART', 'EMPTOTAL', 'EMPFTE', 'NET_INCOME', 'OP_REVENUES'],\n",
       "      dtype='object')"
      ]
     },
     "execution_count": 13,
     "metadata": {},
     "output_type": "execute_result"
    }
   ],
   "source": [
    "#checking the columns for consistency\n",
    "df.columns"
   ]
  },
  {
   "cell_type": "markdown",
   "metadata": {},
   "source": [
    "# Converting features to numerical values to feed the algorithm"
   ]
  },
  {
   "cell_type": "code",
   "execution_count": 16,
   "metadata": {},
   "outputs": [],
   "source": [
    "# Use numpy to convert to arrays\n",
    "import numpy as np\n",
    "\n",
    "# Labels are the values we want to predict, which is ARRIVAL DELAY here\n",
    "labels = np.array(df['ARR_DELAY'])\n",
    "\n",
    "# Selecting the encoded variables as features \n",
    "features= df[['YEAR', 'QUARTER', 'MONTH', 'DAY_OF_MONTH', 'DAY_OF_WEEK',\n",
    "       'CARRIER_0', 'FL_NUM_0', 'FL_NUM_1', 'FL_NUM_2', 'FL_NUM_3', 'FL_NUM_4',\n",
    "       'FL_NUM_5', 'FL_NUM_6', 'FL_NUM_7', 'FL_NUM_8', 'FL_NUM_9', 'FL_NUM_10',\n",
    "       'FL_NUM_11', 'FL_NUM_12', 'ORIGIN_0', 'ORIGIN_1', 'ORIGIN_2', 'ORIGIN_3', 'ORIGIN_4',\n",
    "       'ORIGIN_5', 'ORIGIN_6', 'ORIGIN_7', 'DEST_0', 'DEST_1', 'DEST_2',\n",
    "       'DEST_3', 'DEST_4', 'DEST_5', 'DEST_6', 'DEST_7', 'CRS_ARR_TIME','CRS_DEP_TIME','WHEELS_OFF','TAXI_OUT','DISTANCE', 'PASSENGERS', 'EMPTOTAL', 'NET_INCOME', 'OP_REVENUES','AIR_TIME']]\n",
    "\n",
    "# Saving feature names for later use\n",
    "feature_list = list(features.columns)\n",
    "\n",
    "# Convert to numpy array\n",
    "features = np.array(features)"
   ]
  },
  {
   "cell_type": "code",
   "execution_count": 35,
   "metadata": {},
   "outputs": [
    {
     "data": {
      "text/plain": [
       "array([ 709,  695,  666, ..., 1030,  969,  817], dtype=int64)"
      ]
     },
     "execution_count": 35,
     "metadata": {},
     "output_type": "execute_result"
    }
   ],
   "source": [
    "df['WHEELS_ON'].values"
   ]
  },
  {
   "cell_type": "code",
   "execution_count": 36,
   "metadata": {},
   "outputs": [
    {
     "data": {
      "text/plain": [
       "['YEAR',\n",
       " 'QUARTER',\n",
       " 'MONTH',\n",
       " 'DAY_OF_MONTH',\n",
       " 'DAY_OF_WEEK',\n",
       " 'FL_DATE',\n",
       " 'CARRIER_0',\n",
       " 'FL_NUM_0',\n",
       " 'FL_NUM_1',\n",
       " 'FL_NUM_2',\n",
       " 'FL_NUM_3',\n",
       " 'FL_NUM_4',\n",
       " 'FL_NUM_5',\n",
       " 'FL_NUM_6',\n",
       " 'FL_NUM_7',\n",
       " 'FL_NUM_8',\n",
       " 'FL_NUM_9',\n",
       " 'FL_NUM_10',\n",
       " 'FL_NUM_11',\n",
       " 'FL_NUM_12',\n",
       " 'Route_0',\n",
       " 'Route_1',\n",
       " 'Route_2',\n",
       " 'Route_3',\n",
       " 'Route_4',\n",
       " 'Route_5',\n",
       " 'Route_6',\n",
       " 'Route_7',\n",
       " 'Route_8',\n",
       " 'Route_9',\n",
       " 'Route_10',\n",
       " 'ORIGIN_0',\n",
       " 'ORIGIN_1',\n",
       " 'ORIGIN_2',\n",
       " 'ORIGIN_3',\n",
       " 'ORIGIN_4',\n",
       " 'ORIGIN_5',\n",
       " 'ORIGIN_6',\n",
       " 'ORIGIN_7',\n",
       " 'DEST_0',\n",
       " 'DEST_1',\n",
       " 'DEST_2',\n",
       " 'DEST_3',\n",
       " 'DEST_4',\n",
       " 'DEST_5',\n",
       " 'DEST_6',\n",
       " 'DEST_7',\n",
       " 'CRS_ARR_TIME',\n",
       " 'WHEELS_ON',\n",
       " 'DISTANCE',\n",
       " 'PASSENGERS',\n",
       " 'EMPTOTAL',\n",
       " 'NET_INCOME',\n",
       " 'OP_REVENUES',\n",
       " 'AIR_TIME']"
      ]
     },
     "execution_count": 36,
     "metadata": {},
     "output_type": "execute_result"
    }
   ],
   "source": [
    "feature_list"
   ]
  },
  {
   "cell_type": "code",
   "execution_count": 37,
   "metadata": {},
   "outputs": [
    {
     "data": {
      "text/plain": [
       "array([ 43.,  27.,  -5., ...,   3.,   4., -14.])"
      ]
     },
     "execution_count": 37,
     "metadata": {},
     "output_type": "execute_result"
    }
   ],
   "source": [
    "labels"
   ]
  },
  {
   "cell_type": "markdown",
   "metadata": {},
   "source": [
    "# Split data into training and testing sets"
   ]
  },
  {
   "cell_type": "code",
   "execution_count": 18,
   "metadata": {},
   "outputs": [],
   "source": [
    "from sklearn.model_selection import cross_val_score, cross_val_predict\n",
    "from sklearn.ensemble import RandomForestRegressor\n",
    "from sklearn.model_selection import train_test_split\n",
    "from sklearn.metrics import mean_squared_error,r2_score\n",
    "from sklearn.model_selection import KFold\n",
    "from sklearn import metrics"
   ]
  },
  {
   "cell_type": "code",
   "execution_count": 24,
   "metadata": {},
   "outputs": [],
   "source": [
    "# Using Scikit-learn to split data into training and testing sets\n",
    "from sklearn.model_selection import train_test_split\n",
    "\n",
    "# Split the data into training and testing sets\n",
    "train_features, test_features, train_labels, test_labels = train_test_split(features, labels, test_size = 0.25,\n",
    "                                                                           random_state = 42)"
   ]
  },
  {
   "cell_type": "code",
   "execution_count": 43,
   "metadata": {},
   "outputs": [
    {
     "name": "stdout",
     "output_type": "stream",
     "text": [
      "Training Features Shape: (111636, 54)\n",
      "Training Labels Shape: (111636,)\n",
      "Testing Features Shape: (37212, 54)\n",
      "Testing Labels Shape: (37212,)\n"
     ]
    }
   ],
   "source": [
    "print('Training Features Shape:', train_features.shape)\n",
    "print('Training Labels Shape:', train_labels.shape)\n",
    "print('Testing Features Shape:', test_features.shape)\n",
    "print('Testing Labels Shape:', test_labels.shape)"
   ]
  },
  {
   "cell_type": "markdown",
   "metadata": {},
   "source": [
    "# Using RandomForestRegressor model to fit the data"
   ]
  },
  {
   "cell_type": "code",
   "execution_count": 19,
   "metadata": {},
   "outputs": [],
   "source": [
    "x_train,x_test,y_train,y_test = train_test_split(features,labels,test_size = 0.2)"
   ]
  },
  {
   "cell_type": "code",
   "execution_count": 20,
   "metadata": {},
   "outputs": [
    {
     "name": "stdout",
     "output_type": "stream",
     "text": [
      "153.45375990867615 seconds\n"
     ]
    }
   ],
   "source": [
    "import time\n",
    "from sklearn.ensemble import RandomForestRegressor\n",
    "start = time.time()\n",
    "# Instantiate model \n",
    "rf_reg = RandomForestRegressor(n_estimators=40)\n",
    "rf_reg.fit(x_train,y_train)\n",
    "\n",
    "end = time.time()\n",
    "print(f\"{end-start} seconds\")"
   ]
  },
  {
   "cell_type": "code",
   "execution_count": 21,
   "metadata": {},
   "outputs": [
    {
     "name": "stdout",
     "output_type": "stream",
     "text": [
      "R^2: 0.9846752350482677\n",
      "R^2: 0.9160519716494869\n"
     ]
    }
   ],
   "source": [
    "y_pred = rf_reg.predict(x_test)\n",
    "\n",
    "rsqure_score = rf_reg.score(x_train,y_train)\n",
    "print('R^2: {}'.format(rsqure_score))\n",
    "rsqure_testscore = rf_reg.score(x_test,y_test)\n",
    "print('R^2: {}'.format(rsqure_testscore))"
   ]
  },
  {
   "cell_type": "markdown",
   "metadata": {},
   "source": [
    "# Perform the training using KFolds cross validation method"
   ]
  },
  {
   "cell_type": "code",
   "execution_count": 30,
   "metadata": {},
   "outputs": [
    {
     "name": "stdout",
     "output_type": "stream",
     "text": [
      "[0.95177432 0.96333277 0.88836994 0.7851214  0.88600509]\n",
      "Mean 5-Fold R Squared: 0.8949207044783802\n"
     ]
    }
   ],
   "source": [
    "cv_r2_scores_rf = cross_val_score(rf_reg, features, labels, cv=5,scoring='r2')\n",
    "print(cv_r2_scores_rf)\n",
    "print(\"Mean 5-Fold R Squared: {}\".format(np.mean(cv_r2_scores_rf)))"
   ]
  },
  {
   "cell_type": "code",
   "execution_count": 31,
   "metadata": {},
   "outputs": [
    {
     "name": "stdout",
     "output_type": "stream",
     "text": [
      "Variable: CRS_DEP_TIME         Importance: 0.56331\n",
      "Variable: WHEELS_OFF           Importance: 0.3555\n",
      "Variable: TAXI_OUT             Importance: 0.01879\n",
      "Variable: CRS_ARR_TIME         Importance: 0.01441\n",
      "Variable: AIR_TIME             Importance: 0.00993\n",
      "Variable: PASSENGERS           Importance: 0.00684\n",
      "Variable: DISTANCE             Importance: 0.00439\n",
      "Variable: DAY_OF_MONTH         Importance: 0.00346\n",
      "Variable: DAY_OF_WEEK          Importance: 0.0033\n",
      "Variable: MONTH                Importance: 0.00244\n",
      "Variable: EMPTOTAL             Importance: 0.00203\n",
      "Variable: OP_REVENUES          Importance: 0.00136\n",
      "Variable: NET_INCOME           Importance: 0.0013\n",
      "Variable: DEST_3               Importance: 0.00091\n",
      "Variable: QUARTER              Importance: 0.00077\n",
      "Variable: ORIGIN_5             Importance: 0.00068\n",
      "Variable: DEST_6               Importance: 0.00068\n",
      "Variable: ORIGIN_1             Importance: 0.00067\n",
      "Variable: FL_NUM_3             Importance: 0.00065\n",
      "Variable: FL_NUM_11            Importance: 0.00059\n",
      "Variable: DEST_7               Importance: 0.00058\n",
      "Variable: FL_NUM_10            Importance: 0.00053\n",
      "Variable: ORIGIN_2             Importance: 0.00053\n",
      "Variable: ORIGIN_7             Importance: 0.00052\n",
      "Variable: ORIGIN_6             Importance: 0.00047\n",
      "Variable: FL_NUM_4             Importance: 0.00046\n",
      "Variable: DEST_4               Importance: 0.00044\n",
      "Variable: FL_NUM_7             Importance: 0.00042\n",
      "Variable: FL_NUM_12            Importance: 0.00039\n",
      "Variable: DEST_5               Importance: 0.00038\n",
      "Variable: FL_NUM_5             Importance: 0.00036\n",
      "Variable: ORIGIN_3             Importance: 0.00036\n",
      "Variable: FL_NUM_2             Importance: 0.00035\n",
      "Variable: FL_NUM_6             Importance: 0.00035\n",
      "Variable: ORIGIN_4             Importance: 0.00032\n",
      "Variable: DEST_1               Importance: 0.00032\n",
      "Variable: FL_NUM_1             Importance: 0.0003\n",
      "Variable: FL_NUM_8             Importance: 0.0003\n",
      "Variable: FL_NUM_9             Importance: 0.0003\n",
      "Variable: DEST_2               Importance: 0.00021\n",
      "Variable: YEAR                 Importance: 0.00012\n",
      "Variable: CARRIER_0            Importance: 0.0\n",
      "Variable: FL_NUM_0             Importance: 0.0\n",
      "Variable: ORIGIN_0             Importance: 0.0\n",
      "Variable: DEST_0               Importance: 0.0\n"
     ]
    }
   ],
   "source": [
    "# Get numerical feature importances\n",
    "importances = list(rf_reg.feature_importances_)\n",
    "\n",
    "# List of tuples with variable and importance\n",
    "feature_importances = [(feature, round(importance, 5)) for feature, importance in zip(feature_list, importances)]\n",
    "\n",
    "# Sort the feature importances by most important first\n",
    "feature_importances = sorted(feature_importances, key = lambda x: x[1], reverse = True)\n",
    "\n",
    "# Print out the feature and importances \n",
    "[print('Variable: {:20} Importance: {}'.format(*pair)) for pair in feature_importances];"
   ]
  },
  {
   "cell_type": "code",
   "execution_count": 25,
   "metadata": {},
   "outputs": [
    {
     "name": "stdout",
     "output_type": "stream",
     "text": [
      "149.51950788497925 seconds\n"
     ]
    }
   ],
   "source": [
    "import time\n",
    "from sklearn.ensemble import RandomForestRegressor\n",
    "start = time.time()\n",
    "# Instantiate model \n",
    "rf = RandomForestRegressor(n_estimators= 50, random_state=42, oob_score = True,\n",
    "                           bootstrap = True,)\n",
    "\n",
    "# Train the model on training data\n",
    "rf.fit(train_features, train_labels)\n",
    "\n",
    "end = time.time()\n",
    "print(f\"{end-start} seconds\")"
   ]
  },
  {
   "cell_type": "markdown",
   "metadata": {},
   "source": [
    "# Evaluating the accuracy score on training and test data"
   ]
  },
  {
   "cell_type": "code",
   "execution_count": 26,
   "metadata": {},
   "outputs": [
    {
     "name": "stdout",
     "output_type": "stream",
     "text": [
      "R^2 Training Score: 0.99 \n",
      "OOB Score: 0.89 \n",
      "R^2 Validation Score: 0.91\n"
     ]
    }
   ],
   "source": [
    "print('R^2 Training Score: {:.2f} \\nOOB Score: {:.2f} \\nR^2 Validation Score: {:.2f}'.format(rf.score(train_features, train_labels), \n",
    "                                                                                             rf.oob_score_,\n",
    "                                                                                             rf.score(test_features, test_labels)))"
   ]
  },
  {
   "cell_type": "markdown",
   "metadata": {},
   "source": [
    "# Calculating Mean Absolute Errors"
   ]
  },
  {
   "cell_type": "code",
   "execution_count": 27,
   "metadata": {},
   "outputs": [
    {
     "name": "stdout",
     "output_type": "stream",
     "text": [
      "Mean Absolute Error: 6.66 degrees.\n"
     ]
    }
   ],
   "source": [
    "# Use the forest's predict method on the test data\n",
    "predictions = rf.predict(test_features)\n",
    "\n",
    "# Calculate the absolute errors\n",
    "errors = abs(predictions - test_labels)\n",
    "\n",
    "# Print out the mean absolute error (mae)\n",
    "print('Mean Absolute Error:', round(np.mean(errors), 2), 'degrees.')"
   ]
  },
  {
   "cell_type": "markdown",
   "metadata": {},
   "source": [
    "# Feature Importance"
   ]
  },
  {
   "cell_type": "code",
   "execution_count": 29,
   "metadata": {},
   "outputs": [
    {
     "name": "stdout",
     "output_type": "stream",
     "text": [
      "Variable: CRS_DEP_TIME         Importance: 0.55323\n",
      "Variable: WHEELS_OFF           Importance: 0.35868\n",
      "Variable: CRS_ARR_TIME         Importance: 0.01826\n",
      "Variable: TAXI_OUT             Importance: 0.01825\n",
      "Variable: AIR_TIME             Importance: 0.00983\n",
      "Variable: PASSENGERS           Importance: 0.00668\n",
      "Variable: DISTANCE             Importance: 0.00435\n",
      "Variable: DAY_OF_MONTH         Importance: 0.00353\n",
      "Variable: DAY_OF_WEEK          Importance: 0.00267\n",
      "Variable: EMPTOTAL             Importance: 0.00218\n",
      "Variable: MONTH                Importance: 0.00189\n",
      "Variable: NET_INCOME           Importance: 0.00174\n",
      "Variable: ORIGIN_3             Importance: 0.00116\n",
      "Variable: QUARTER              Importance: 0.00105\n",
      "Variable: ORIGIN_4             Importance: 0.00105\n",
      "Variable: FL_NUM_9             Importance: 0.00099\n",
      "Variable: OP_REVENUES          Importance: 0.00097\n",
      "Variable: ORIGIN_2             Importance: 0.00094\n",
      "Variable: FL_NUM_7             Importance: 0.0009\n",
      "Variable: FL_NUM_1             Importance: 0.00079\n",
      "Variable: FL_NUM_5             Importance: 0.00077\n",
      "Variable: FL_NUM_6             Importance: 0.00077\n",
      "Variable: FL_NUM_12            Importance: 0.00077\n",
      "Variable: ORIGIN_5             Importance: 0.00066\n",
      "Variable: FL_NUM_2             Importance: 0.00065\n",
      "Variable: ORIGIN_7             Importance: 0.00063\n",
      "Variable: FL_NUM_11            Importance: 0.00062\n",
      "Variable: FL_NUM_4             Importance: 0.00061\n",
      "Variable: DEST_3               Importance: 0.0006\n",
      "Variable: DEST_4               Importance: 0.00055\n",
      "Variable: DEST_7               Importance: 0.00055\n",
      "Variable: DEST_2               Importance: 0.00051\n",
      "Variable: DEST_6               Importance: 0.00049\n",
      "Variable: ORIGIN_1             Importance: 0.00048\n",
      "Variable: FL_NUM_3             Importance: 0.0004\n",
      "Variable: FL_NUM_10            Importance: 0.00038\n",
      "Variable: ORIGIN_6             Importance: 0.00037\n",
      "Variable: DEST_5               Importance: 0.00034\n",
      "Variable: FL_NUM_8             Importance: 0.00031\n",
      "Variable: DEST_1               Importance: 0.00028\n",
      "Variable: YEAR                 Importance: 0.00011\n",
      "Variable: CARRIER_0            Importance: 0.0\n",
      "Variable: FL_NUM_0             Importance: 0.0\n",
      "Variable: ORIGIN_0             Importance: 0.0\n",
      "Variable: DEST_0               Importance: 0.0\n"
     ]
    }
   ],
   "source": [
    "# Get numerical feature importances\n",
    "importances = list(rf.feature_importances_)\n",
    "\n",
    "# List of tuples with variable and importance\n",
    "feature_importances = [(feature, round(importance, 5)) for feature, importance in zip(feature_list, importances)]\n",
    "\n",
    "# Sort the feature importances by most important first\n",
    "feature_importances = sorted(feature_importances, key = lambda x: x[1], reverse = True)\n",
    "\n",
    "# Print out the feature and importances \n",
    "[print('Variable: {:20} Importance: {}'.format(*pair)) for pair in feature_importances];"
   ]
  }
 ],
 "metadata": {
  "kernelspec": {
   "display_name": "Python 3",
   "language": "python",
   "name": "python3"
  },
  "language_info": {
   "codemirror_mode": {
    "name": "ipython",
    "version": 3
   },
   "file_extension": ".py",
   "mimetype": "text/x-python",
   "name": "python",
   "nbconvert_exporter": "python",
   "pygments_lexer": "ipython3",
   "version": "3.7.4"
  }
 },
 "nbformat": 4,
 "nbformat_minor": 4
}
